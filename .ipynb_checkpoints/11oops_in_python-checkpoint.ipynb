{
 "cells": [
  {
   "cell_type": "markdown",
   "metadata": {},
   "source": [
    "# OOPs in python-"
   ]
  },
  {
   "cell_type": "markdown",
   "metadata": {},
   "source": [
    "## object oreinted programming"
   ]
  },
  {
   "cell_type": "raw",
   "metadata": {},
   "source": [
    "1. Encapsulation\n",
    "2. Abstraction\n",
    "3. Data hiding\n",
    "4. Dynamic binding\n",
    "5. Inheritance\n",
    "6. Message passing\n",
    "7. Polymorphism\n",
    "8. Robustness\n",
    "9. Classes\n",
    "10. objects"
   ]
  },
  {
   "cell_type": "raw",
   "metadata": {},
   "source": [
    "encapsulation - binding of methods and data members.\n",
    "abstraction - represents essential feature.\n",
    "data hiding - \n",
    "encapsulationg - abstraction + data hiding\n",
    "dynamic binding - runtime\n",
    "inheritancee - reuse\n",
    "                1.single level\n",
    "                2.multilevel\n",
    "                3.hierarchal\n",
    "                4.multiple \n",
    "                5.hybrid\n",
    "message passing - \n",
    "polymorphism - many forms\n",
    "                - function overloading outside of class but inside of class it is known as polymorphism\n",
    "                - overridng\n",
    "robustness\n",
    "                \n"
   ]
  },
  {
   "cell_type": "code",
   "execution_count": 9,
   "metadata": {
    "collapsed": true
   },
   "outputs": [],
   "source": [
    "class MyClass:\n",
    "    \"\"\"doc string \"\"\"\n",
    "    x=\"Hi I am class variable\"\n",
    "    def method1(self):\n",
    "        self.y=0 #Hi I will be object variable\n",
    "        pass\n",
    "    def method2(self):\n",
    "        pass\n",
    "    def method3(self):\n",
    "        pass\n",
    "\n",
    "obj1 = MyClass()  # object instantiation or invoking of class constructor\n",
    "obj2 = MyClass() # this is object 2\n",
    "obj1.method1() # obj1 is calling method 1 of class\n",
    "obj2.method3() # obj2 is calling method 3 of class myclass\n"
   ]
  },
  {
   "cell_type": "code",
   "execution_count": 10,
   "metadata": {},
   "outputs": [
    {
     "name": "stdout",
     "output_type": "stream",
     "text": [
      "Hi I am class variable\n",
      "0\n"
     ]
    }
   ],
   "source": [
    "print(obj1.x)\n",
    "print(obj1.y)"
   ]
  },
  {
   "cell_type": "code",
   "execution_count": 12,
   "metadata": {},
   "outputs": [
    {
     "name": "stdout",
     "output_type": "stream",
     "text": [
      "Hi I am class variable\n",
      "['__class__', '__delattr__', '__dict__', '__dir__', '__doc__', '__eq__', '__format__', '__ge__', '__getattribute__', '__gt__', '__hash__', '__init__', '__init_subclass__', '__le__', '__lt__', '__module__', '__ne__', '__new__', '__reduce__', '__reduce_ex__', '__repr__', '__setattr__', '__sizeof__', '__str__', '__subclasshook__', '__weakref__', 'method1', 'method2', 'method3', 'x']\n",
      "['__class__', '__delattr__', '__dict__', '__dir__', '__doc__', '__eq__', '__format__', '__ge__', '__getattribute__', '__gt__', '__hash__', '__init__', '__init_subclass__', '__le__', '__lt__', '__module__', '__ne__', '__new__', '__reduce__', '__reduce_ex__', '__repr__', '__setattr__', '__sizeof__', '__str__', '__subclasshook__', '__weakref__', 'method1', 'method2', 'method3', 'x', 'y']\n"
     ]
    }
   ],
   "source": [
    "print(obj2.x)\n",
    "#print(obj2.y)\n",
    "print(dir(MyClass))\n",
    "print(dir(obj1))"
   ]
  },
  {
   "cell_type": "code",
   "execution_count": null,
   "metadata": {
    "collapsed": true
   },
   "outputs": [],
   "source": []
  },
  {
   "cell_type": "code",
   "execution_count": 2,
   "metadata": {
    "collapsed": true
   },
   "outputs": [],
   "source": [
    "class Robot(object):\n",
    "    \"\"\"Hi i am robot make do your work\"\"\"\n",
    "    common = \"Hi i am common to all robots.\"\n",
    "    def __init__(self,name,work):    #initializes the work\n",
    "        \"\"\"hi i am constructor\"\"\"\n",
    "        self.name = name \n",
    "        self.work = work\n",
    "    def show(self):\n",
    "        \"Hi i am show function to show details of robot\"\n",
    "        print(\"name = \",self.name)\n",
    "        print(\"work = \",self.work)\n",
    "    def change(self,name,work):\n",
    "        \"Hi i am change function to change attributes.\"\n",
    "        self.name = name\n",
    "        self.work = work\n",
    "    def common_msg(self):\n",
    "        \"This is group chat message.\"\n",
    "        print(\"common message = \",Robot.common)\n",
    "    def send_msg(self,msg):\n",
    "        \"This is to send message.\"\n",
    "        Robot.common = msg"
   ]
  },
  {
   "cell_type": "code",
   "execution_count": 16,
   "metadata": {},
   "outputs": [
    {
     "name": "stdout",
     "output_type": "stream",
     "text": [
      "hi i am constructor\n",
      "Hi i am show function to show details of robot\n",
      "Hi i am change function to change attributes.\n",
      "This is group chat message.\n",
      "This is to send message.\n"
     ]
    }
   ],
   "source": [
    "print(Robot.__init__.__doc__)\n",
    "print(Robot.show.__doc__)\n",
    "print(Robot.change.__doc__)\n",
    "print(Robot.common_msg.__doc__)\n",
    "print(Robot.send_msg.__doc__)"
   ]
  },
  {
   "cell_type": "code",
   "execution_count": 18,
   "metadata": {},
   "outputs": [
    {
     "name": "stdout",
     "output_type": "stream",
     "text": [
      "hi i am constructor\n"
     ]
    }
   ],
   "source": [
    "robot1= Robot(\"asif\",\"student\")\n",
    "robot2 = Robot(\"python\",\"lang\")\n",
    "print(robot1.__init__.__doc__)"
   ]
  },
  {
   "cell_type": "code",
   "execution_count": 6,
   "metadata": {},
   "outputs": [
    {
     "name": "stdout",
     "output_type": "stream",
     "text": [
      "common message =  Hi i am common to all robots.\n"
     ]
    }
   ],
   "source": [
    "robot1.common_msg()\n",
    "robot1.send_msg(\"Hey I am robot 1\")  #msge passing"
   ]
  },
  {
   "cell_type": "code",
   "execution_count": 7,
   "metadata": {},
   "outputs": [
    {
     "name": "stdout",
     "output_type": "stream",
     "text": [
      "common message =  Hey I am robot 1\n"
     ]
    }
   ],
   "source": [
    "robot2.common_msg()"
   ]
  },
  {
   "cell_type": "code",
   "execution_count": 27,
   "metadata": {},
   "outputs": [
    {
     "name": "stdout",
     "output_type": "stream",
     "text": [
      "name =  asif\n",
      "work =  student\n",
      "\n",
      "name =  python\n",
      "work =  lang\n"
     ]
    }
   ],
   "source": [
    "robot1.show()\n",
    "print()\n",
    "robot2.show()"
   ]
  },
  {
   "cell_type": "code",
   "execution_count": 21,
   "metadata": {
    "collapsed": true
   },
   "outputs": [],
   "source": [
    "class Person:\n",
    "    def entry(self,name,work):\n",
    "        self.name = name\n",
    "        self.work = work\n",
    "    def show(self):\n",
    "        print(\"Name = \",self.name)\n",
    "        print(\"Work = \",self.work)"
   ]
  },
  {
   "cell_type": "code",
   "execution_count": 22,
   "metadata": {
    "scrolled": true
   },
   "outputs": [
    {
     "name": "stdout",
     "output_type": "stream",
     "text": [
      "Name =  person1\n",
      "Work =  teacher\n",
      "\n",
      "Name =  person2\n",
      "Work =  dancer\n"
     ]
    }
   ],
   "source": [
    "p1 = Person()\n",
    "p2 = Person()\n",
    "p1.entry(\"person1\",\"teacher\")\n",
    "p2.entry(\"person2\",\"dancer\")\n",
    "p1.show()\n",
    "print()\n",
    "p2.show()"
   ]
  },
  {
   "cell_type": "code",
   "execution_count": 23,
   "metadata": {},
   "outputs": [
    {
     "name": "stdout",
     "output_type": "stream",
     "text": [
      "Name =  person1\n",
      "Work =  driver\n",
      "\n",
      "Name =  person2\n",
      "Work =  waiter\n"
     ]
    }
   ],
   "source": [
    "# inheritance of Person class\n",
    "class Human(Person):\n",
    "    def __init__(self,name,work):\n",
    "        super().entry(name,work)  #or Person.entry(name,work)\n",
    "        \n",
    "p1 = Human(\"person1\",\"driver\")\n",
    "p2 = Human(\"person2\",\"waiter\")\n",
    "p1.show()\n",
    "print()\n",
    "p2.show()"
   ]
  },
  {
   "cell_type": "code",
   "execution_count": 32,
   "metadata": {},
   "outputs": [
    {
     "name": "stdout",
     "output_type": "stream",
     "text": [
      "I am child class\n",
      "['__class__', '__delattr__', '__dict__', '__dir__', '__doc__', '__eq__', '__format__', '__ge__', '__getattribute__', '__gt__', '__hash__', '__init__', '__init_subclass__', '__le__', '__lt__', '__module__', '__ne__', '__new__', '__reduce__', '__reduce_ex__', '__repr__', '__setattr__', '__sizeof__', '__str__', '__subclasshook__', '__weakref__', 'show', 'show1']\n"
     ]
    }
   ],
   "source": [
    "# Multiple inheritance\n",
    "class p1:\n",
    "    def show1(self):\n",
    "        print(\"I am parent 1\")\n",
    "class p2:\n",
    "    def show(self):\n",
    "        print(\"I am parent 2\")\n",
    "class c(p1,p2):\n",
    "    def show(self):\n",
    "        print(\"I am child class\")  #Overiding takes place\n",
    "obj = c()\n",
    "obj.show()\n",
    "print(dir(obj))"
   ]
  },
  {
   "cell_type": "code",
   "execution_count": 3,
   "metadata": {
    "collapsed": true
   },
   "outputs": [],
   "source": [
    "class Car():\n",
    "    \"\"\"Hi this is car class\"\"\"\n",
    "    name = \"car\"\n",
    "    def __init__(self,model,brand,color):\n",
    "        self.model = model\n",
    "        self.brand = brand\n",
    "        self.color = color\n",
    "    def show(self):\n",
    "        print(\"Brand = \",self.brand)\n",
    "        print(\"Model = \",self.model)\n",
    "        print(\"Color = \",self.color)\n",
    "    def change(self,brand,color,model):\n",
    "        self.brand = brand\n",
    "        self.color = color\n",
    "        self.model = model\n",
    "    def __str__(self):\n",
    "        return \"Hi i am {}\".format(self.name)\n",
    "    "
   ]
  },
  {
   "cell_type": "code",
   "execution_count": 46,
   "metadata": {},
   "outputs": [
    {
     "name": "stdout",
     "output_type": "stream",
     "text": [
      "Brand =  TATA\n",
      "Model =  2018\n",
      "Color =  red\n",
      "\n",
      "Brand =  Maruti\n",
      "Model =  2016\n",
      "Color =  White\n",
      "\n",
      "Brand =  Maruti\n",
      "Model =  2017\n",
      "Color =  White\n",
      "Hi i am car\n",
      "Hi i am car\n"
     ]
    }
   ],
   "source": [
    "nano = Car(2018,\"TATA\",\"red\")\n",
    "swift = Car(2016,\"Maruti\",\"White\")\n",
    "nano.show()\n",
    "print()\n",
    "swift.show()\n",
    "swift.change(\"Maruti\",\"White\",2017)\n",
    "print()\n",
    "swift.show()\n",
    "print(nano)  # returns something about object through string which is written in __str__\n",
    "print(swift)"
   ]
  },
  {
   "cell_type": "code",
   "execution_count": 55,
   "metadata": {},
   "outputs": [
    {
     "name": "stdout",
     "output_type": "stream",
     "text": [
      "2019\n",
      "2019\n"
     ]
    }
   ],
   "source": [
    "print(nano.model) # accessing attribute\n",
    "\n",
    "# OR\n",
    "\n",
    "print(getattr(nano,\"model\"))  # getting attribute"
   ]
  },
  {
   "cell_type": "code",
   "execution_count": 50,
   "metadata": {},
   "outputs": [
    {
     "data": {
      "text/plain": [
       "2019"
      ]
     },
     "execution_count": 50,
     "metadata": {},
     "output_type": "execute_result"
    }
   ],
   "source": [
    "nano.model = 2019 # changing attribute\n",
    "nano.model"
   ]
  },
  {
   "cell_type": "code",
   "execution_count": 59,
   "metadata": {},
   "outputs": [
    {
     "name": "stdout",
     "output_type": "stream",
     "text": [
      "Nano\n"
     ]
    }
   ],
   "source": [
    "setattr(nano,\"name\",\"Nano\")   # Setting new attribute of nano\n",
    "print(nano.name)"
   ]
  },
  {
   "cell_type": "code",
   "execution_count": 65,
   "metadata": {},
   "outputs": [
    {
     "name": "stdout",
     "output_type": "stream",
     "text": [
      "False\n",
      "True\n",
      "['__class__', '__delattr__', '__dict__', '__dir__', '__doc__', '__eq__', '__format__', '__ge__', '__getattribute__', '__gt__', '__hash__', '__init__', '__init_subclass__', '__le__', '__lt__', '__module__', '__ne__', '__new__', '__reduce__', '__reduce_ex__', '__repr__', '__setattr__', '__sizeof__', '__str__', '__subclasshook__', '__weakref__', 'brand', 'change', 'color', 'model', 'name', 'pick', 'show']\n"
     ]
    }
   ],
   "source": [
    "print(hasattr(nano,\"speed\"))  # for checking this attributes exists or not\n",
    "print(hasattr(nano,\"color\"))\n",
    "print(dir(nano)) # shows methods and attributes which nano have of its class Car"
   ]
  },
  {
   "cell_type": "code",
   "execution_count": 70,
   "metadata": {},
   "outputs": [
    {
     "name": "stdout",
     "output_type": "stream",
     "text": [
      "{'model': 2019, 'brand': 'TATA', 'color': 'red', 'name': 'Nano'}\n",
      "{'model': 2017, 'brand': 'Maruti', 'color': 'White'}\n",
      "{'__module__': '__main__', '__doc__': 'Hi this is car class', 'name': 'car', '__init__': <function Car.__init__ at 0x00000264B7745048>, 'show': <function Car.show at 0x00000264B7745F28>, 'change': <function Car.change at 0x00000264B7745C80>, '__str__': <function Car.__str__ at 0x00000264B7745D08>, '__dict__': <attribute '__dict__' of 'Car' objects>, '__weakref__': <attribute '__weakref__' of 'Car' objects>, 'pick': 0}\n"
     ]
    }
   ],
   "source": [
    "print(nano.__dict__)  # prints the self of nano means what obj nano have in dictionary\n",
    "print(swift.__dict__)\n",
    "print(Car.__dict__)"
   ]
  },
  {
   "cell_type": "code",
   "execution_count": 4,
   "metadata": {
    "collapsed": true
   },
   "outputs": [],
   "source": [
    "import time\n",
    "class NewCar(Car):\n",
    "    def __init__(self,brand,model,color,name,speed,gear):\n",
    "        Car.__init__(self,model,brand,color)\n",
    "        self.name = name\n",
    "        self.speed = speed\n",
    "        self.gear = gear\n",
    "    def show(self):\n",
    "        print(\"Name = \",self.name)\n",
    "        Car.show(self)\n",
    "        print(\"Speed = \",self.speed)\n",
    "        print(\"Gear = \",self.gear)\n",
    "    def __str__(self):\n",
    "        return \"Hi i am {}\".format(self.name)\n",
    "    def __del__(self):   # destructor\n",
    "        print(\"Deleting \",self.name)\n",
    "        time.sleep(2)\n",
    "        print(\"Deletng \",self.brand)\n",
    "        time.sleep(2)\n",
    "        print(\"Deleting \",self.model)\n",
    "        del self\n",
    "        "
   ]
  },
  {
   "cell_type": "code",
   "execution_count": 6,
   "metadata": {
    "collapsed": true
   },
   "outputs": [],
   "source": [
    "nano = NewCar(\"TATA\",1999,\"blue\",\"nano123\",\"80kmph\",4)   # if object already exits then it will first destructs or clear that object.\n",
    "swift = NewCar(\"Maruti\",2006,\"White\",\"swift desire\",\"120kmph\",5)"
   ]
  },
  {
   "cell_type": "code",
   "execution_count": 7,
   "metadata": {},
   "outputs": [
    {
     "name": "stdout",
     "output_type": "stream",
     "text": [
      "Name =  nano123\n",
      "Brand =  TATA\n",
      "Model =  1999\n",
      "Color =  blue\n",
      "Speed =  80kmph\n",
      "Gear =  4\n"
     ]
    }
   ],
   "source": [
    "nano.show()   "
   ]
  },
  {
   "cell_type": "code",
   "execution_count": 79,
   "metadata": {},
   "outputs": [
    {
     "name": "stdout",
     "output_type": "stream",
     "text": [
      "Name =  swift desire\n",
      "Brand =  Maruti\n",
      "Model =  2006\n",
      "Color =  White\n",
      "Speed =  120kmph\n",
      "Gear =  5\n"
     ]
    }
   ],
   "source": [
    "swift.show()"
   ]
  },
  {
   "cell_type": "code",
   "execution_count": 80,
   "metadata": {},
   "outputs": [
    {
     "name": "stdout",
     "output_type": "stream",
     "text": [
      "Hi i am nano123\n",
      "Hi i am swift desire\n"
     ]
    }
   ],
   "source": [
    "print(nano)\n",
    "print(swift)"
   ]
  },
  {
   "cell_type": "code",
   "execution_count": 81,
   "metadata": {},
   "outputs": [
    {
     "name": "stdout",
     "output_type": "stream",
     "text": [
      "Deleting  nano123\n",
      "Deletng  TATA\n",
      "Deleting  1999\n",
      "Deleting  swift desire\n",
      "Deletng  Maruti\n",
      "Deleting  2006\n"
     ]
    }
   ],
   "source": [
    "del nano  # deleting or destructing object \n",
    "del swift"
   ]
  },
  {
   "cell_type": "code",
   "execution_count": 83,
   "metadata": {},
   "outputs": [
    {
     "ename": "NameError",
     "evalue": "name 'nano' is not defined",
     "output_type": "error",
     "traceback": [
      "\u001b[1;31m---------------------------------------------------------------------------\u001b[0m",
      "\u001b[1;31mNameError\u001b[0m                                 Traceback (most recent call last)",
      "\u001b[1;32m<ipython-input-83-322700f0ba7f>\u001b[0m in \u001b[0;36m<module>\u001b[1;34m()\u001b[0m\n\u001b[1;32m----> 1\u001b[1;33m \u001b[0mprint\u001b[0m\u001b[1;33m(\u001b[0m\u001b[0mnano\u001b[0m\u001b[1;33m)\u001b[0m \u001b[1;31m# Error occur bcz nano obj is destructed\u001b[0m\u001b[1;33m\u001b[0m\u001b[0m\n\u001b[0m",
      "\u001b[1;31mNameError\u001b[0m: name 'nano' is not defined"
     ]
    }
   ],
   "source": [
    "print(nano) # Error occur bcz nano obj is destructed"
   ]
  },
  {
   "cell_type": "code",
   "execution_count": 108,
   "metadata": {
    "collapsed": true
   },
   "outputs": [],
   "source": [
    "class A:\n",
    "    x = \"hello world\"\n",
    "    def set_attr(self,kuch):\n",
    "        self.x=kuch\n",
    "    def get_attr(self):\n",
    "        print(\"method x = \",self.x)\n",
    "    def set_class(self,value):\n",
    "        A.x = value\n",
    "    def get_class(self):\n",
    "        print(\"cls x = \",A.x)"
   ]
  },
  {
   "cell_type": "code",
   "execution_count": 109,
   "metadata": {},
   "outputs": [
    {
     "name": "stdout",
     "output_type": "stream",
     "text": [
      "method x =  100\n"
     ]
    }
   ],
   "source": [
    "obj = A()\n",
    "obj.set_attr(100)\n",
    "obj.get_attr()"
   ]
  },
  {
   "cell_type": "code",
   "execution_count": 110,
   "metadata": {},
   "outputs": [
    {
     "name": "stdout",
     "output_type": "stream",
     "text": [
      "cls x =  hello world\n",
      "cls x =  1\n"
     ]
    }
   ],
   "source": [
    "obj.get_class()\n",
    "obj.set_class(1)\n",
    "obj.get_class()"
   ]
  },
  {
   "cell_type": "code",
   "execution_count": 113,
   "metadata": {},
   "outputs": [
    {
     "name": "stdout",
     "output_type": "stream",
     "text": [
      "{'x': 100}\n",
      "{'__module__': '__main__', 'x': 1, 'set_attr': <function A.set_attr at 0x00000264B77186A8>, 'get_attr': <function A.get_attr at 0x00000264B77181E0>, 'set_class': <function A.set_class at 0x00000264B77A9598>, 'get_class': <function A.get_class at 0x00000264B77A96A8>, '__dict__': <attribute '__dict__' of 'A' objects>, '__weakref__': <attribute '__weakref__' of 'A' objects>, '__doc__': None}\n"
     ]
    }
   ],
   "source": [
    "print(obj.__dict__)\n",
    "print(A.__dict__)"
   ]
  },
  {
   "cell_type": "code",
   "execution_count": 14,
   "metadata": {
    "collapsed": true
   },
   "outputs": [],
   "source": [
    "class A:\n",
    "    x = 10  # public\n",
    "    _y = 20  # protected\n",
    "    __z = 30  # private\n",
    "    def __init__(self,name):\n",
    "        self.name = name\n",
    "    def show(self):\n",
    "        print(\"Name = \",self.name)"
   ]
  },
  {
   "cell_type": "code",
   "execution_count": 15,
   "metadata": {},
   "outputs": [
    {
     "name": "stdout",
     "output_type": "stream",
     "text": [
      "10\n",
      "20\n"
     ]
    }
   ],
   "source": [
    "obj = A(\"hello\")\n",
    "print(obj.x) # public\n",
    "print(obj._y) # protected\n",
    "# print(obj.__z)  show error bcz it is private so it get mangled"
   ]
  },
  {
   "cell_type": "code",
   "execution_count": 16,
   "metadata": {},
   "outputs": [
    {
     "name": "stdout",
     "output_type": "stream",
     "text": [
      "{'__module__': '__main__', 'x': 10, '_y': 20, '_A__z': 30, '__init__': <function A.__init__ at 0x000001F1CEF68840>, 'show': <function A.show at 0x000001F1CEF688C8>, '__dict__': <attribute '__dict__' of 'A' objects>, '__weakref__': <attribute '__weakref__' of 'A' objects>, '__doc__': None}\n",
      "\n",
      "30\n"
     ]
    }
   ],
   "source": [
    "# name mangling of private varible\n",
    "print(A.__dict__) # now you see __z => _A__z this is called name mangling.\n",
    "print()\n",
    "print(obj._A__z)"
   ]
  },
  {
   "cell_type": "code",
   "execution_count": 1,
   "metadata": {
    "collapsed": true
   },
   "outputs": [],
   "source": [
    "class MyClass:\n",
    "    x = 0\n",
    "    _y = 0\n",
    "    __z = 0\n",
    "    def __init__(self,x,y,z):\n",
    "        MyClass.x = x # these are class variable\n",
    "        MyClass._y = y # shared varibles among all objects\n",
    "        MyClass.__z = z\n",
    "    def show(self):\n",
    "        print(\"Class x =\",MyClass.x)\n",
    "        print(\"Class y =\",MyClass._y)\n",
    "        print(\"Class z =\",MyClass.__z)\n",
    "    def chang(self,p,q,r):\n",
    "        MyClass.x = p\n",
    "        MyClass._y = q\n",
    "        MyClass.__z = r"
   ]
  },
  {
   "cell_type": "code",
   "execution_count": 6,
   "metadata": {},
   "outputs": [
    {
     "name": "stdout",
     "output_type": "stream",
     "text": [
      "True\n",
      "True\n",
      "False\n",
      "['_MyClass__z', '__class__', '__delattr__', '__dict__', '__dir__', '__doc__', '__eq__', '__format__', '__ge__', '__getattribute__', '__gt__', '__hash__', '__init__', '__init_subclass__', '__le__', '__lt__', '__module__', '__ne__', '__new__', '__reduce__', '__reduce_ex__', '__repr__', '__setattr__', '__sizeof__', '__str__', '__subclasshook__', '__weakref__', '_y', 'chang', 'show', 'x']\n",
      "0\n",
      "Class x = 0\n",
      "Class y = 0\n",
      "Class z = 0\n"
     ]
    }
   ],
   "source": [
    "x = hasattr(MyClass,\"x\")\n",
    "y = hasattr(MyClass,\"_y\")\n",
    "z = hasattr(MyClass,\"__z\")\n",
    "print(x)\n",
    "print(y)\n",
    "print(z)\n",
    "print(dir(MyClass))\n",
    "print(MyClass._MyClass__z)\n",
    "MyClass.show('self')"
   ]
  },
  {
   "cell_type": "code",
   "execution_count": 18,
   "metadata": {
    "collapsed": true
   },
   "outputs": [],
   "source": [
    "# class dont have self thats y we have to pass self"
   ]
  },
  {
   "cell_type": "code",
   "execution_count": 2,
   "metadata": {
    "collapsed": true
   },
   "outputs": [],
   "source": [
    "class Poly:\n",
    "    def __init__(self,no_of_side):\n",
    "        self.n = no_of_side\n",
    "        self.sides = [0 for var in range(no_of_side)]\n",
    "    def name(self):\n",
    "        if self.n == 3:\n",
    "            print(\"Hi i am triangle\")\n",
    "        elif self.n == 4:\n",
    "            print(\"Hi i am quadrial\")\n",
    "        elif self.n == 5:\n",
    "            print(\"Hi i am pentagon\")\n",
    "        else :\n",
    "            print(\"Hi i am polygon with side {}\".format(self.n))\n",
    "    def show_sides(self):\n",
    "        c = 1\n",
    "        print()\n",
    "        self.name()\n",
    "        print()\n",
    "        for side in self.sides :\n",
    "            print(\"Side {} : {}\".format(c,side))\n",
    "            c = c + 1\n",
    "    def init_sides(self):\n",
    "        print()\n",
    "        self.name()\n",
    "        print()\n",
    "        self.sides = [float(input(\"side {} :\".format(var))) for var in range(1,self.n+1)]\n",
    "        "
   ]
  },
  {
   "cell_type": "code",
   "execution_count": 3,
   "metadata": {},
   "outputs": [
    {
     "name": "stdout",
     "output_type": "stream",
     "text": [
      "Hi i am triangle\n",
      "Hi i am quadrial\n",
      "Hi i am polygon with side 6\n"
     ]
    }
   ],
   "source": [
    "triangle = Poly(3)\n",
    "rectangle = Poly(4)\n",
    "hexagon = Poly(6)\n",
    "\n",
    "triangle.name()\n",
    "rectangle.name()\n",
    "hexagon.name()"
   ]
  },
  {
   "cell_type": "code",
   "execution_count": 4,
   "metadata": {},
   "outputs": [
    {
     "name": "stdout",
     "output_type": "stream",
     "text": [
      "\n",
      "Hi i am triangle\n",
      "\n",
      "Side 1 : 0\n",
      "Side 2 : 0\n",
      "Side 3 : 0\n",
      "\n",
      "Hi i am quadrial\n",
      "\n",
      "Side 1 : 0\n",
      "Side 2 : 0\n",
      "Side 3 : 0\n",
      "Side 4 : 0\n",
      "\n",
      "Hi i am polygon with side 6\n",
      "\n",
      "Side 1 : 0\n",
      "Side 2 : 0\n",
      "Side 3 : 0\n",
      "Side 4 : 0\n",
      "Side 5 : 0\n",
      "Side 6 : 0\n",
      "\n",
      "\n",
      "Hi i am triangle\n",
      "\n",
      "side 1 :1\n",
      "side 2 :2\n",
      "side 3 :3\n",
      "\n",
      "Hi i am quadrial\n",
      "\n",
      "side 1 :1\n",
      "side 2 :2\n",
      "side 3 :3\n",
      "side 4 :4\n",
      "\n",
      "Hi i am polygon with side 6\n",
      "\n",
      "side 1 :1\n",
      "side 2 :2\n",
      "side 3 :3\n",
      "side 4 :4\n",
      "side 5 :5\n",
      "side 6 :6\n",
      "\n",
      "\n",
      "Hi i am triangle\n",
      "\n",
      "Side 1 : 1.0\n",
      "Side 2 : 2.0\n",
      "Side 3 : 3.0\n",
      "\n",
      "Hi i am quadrial\n",
      "\n",
      "Side 1 : 1.0\n",
      "Side 2 : 2.0\n",
      "Side 3 : 3.0\n",
      "Side 4 : 4.0\n",
      "\n",
      "Hi i am polygon with side 6\n",
      "\n",
      "Side 1 : 1.0\n",
      "Side 2 : 2.0\n",
      "Side 3 : 3.0\n",
      "Side 4 : 4.0\n",
      "Side 5 : 5.0\n",
      "Side 6 : 6.0\n"
     ]
    }
   ],
   "source": [
    "triangle.show_sides()\n",
    "rectangle.show_sides()\n",
    "hexagon.show_sides()\n",
    "print()\n",
    "triangle.init_sides()\n",
    "rectangle.init_sides()\n",
    "hexagon.init_sides()\n",
    "print()\n",
    "triangle.show_sides()\n",
    "rectangle.show_sides()\n",
    "hexagon.show_sides()"
   ]
  },
  {
   "cell_type": "code",
   "execution_count": 21,
   "metadata": {},
   "outputs": [],
   "source": [
    "class Area(Poly):\n",
    "    pass\n",
    "    \"\"\"your code goes here\"\"\""
   ]
  },
  {
   "cell_type": "code",
   "execution_count": null,
   "metadata": {},
   "outputs": [],
   "source": []
  },
  {
   "cell_type": "code",
   "execution_count": 26,
   "metadata": {
    "collapsed": true
   },
   "outputs": [],
   "source": [
    "# Operator overloading\n",
    "\n",
    "class Complex:\n",
    "    def __init__(self,x,y):\n",
    "        self.real = x\n",
    "        self.image = y\n",
    "    def __str__(self):\n",
    "        return \"{}+{}j\".format(self.real,self.image)\n",
    "    def __add__(self,obj2):\n",
    "        x = self.real + obj2.real\n",
    "        y = self.image + obj2.image\n",
    "        return Complex(x,y)\n",
    "    "
   ]
  },
  {
   "cell_type": "code",
   "execution_count": 27,
   "metadata": {},
   "outputs": [
    {
     "name": "stdout",
     "output_type": "stream",
     "text": [
      "21+16j\n"
     ]
    }
   ],
   "source": [
    "c1 = Complex(5,8)\n",
    "c2 = Complex(16,8)\n",
    "x = c1 + c2\n",
    "print(x)\n"
   ]
  },
  {
   "cell_type": "code",
   "execution_count": null,
   "metadata": {
    "collapsed": true
   },
   "outputs": [],
   "source": []
  }
 ],
 "metadata": {
  "kernelspec": {
   "display_name": "Python 3",
   "language": "python",
   "name": "python3"
  },
  "language_info": {
   "codemirror_mode": {
    "name": "ipython",
    "version": 3
   },
   "file_extension": ".py",
   "mimetype": "text/x-python",
   "name": "python",
   "nbconvert_exporter": "python",
   "pygments_lexer": "ipython3",
   "version": "3.6.3"
  }
 },
 "nbformat": 4,
 "nbformat_minor": 2
}
