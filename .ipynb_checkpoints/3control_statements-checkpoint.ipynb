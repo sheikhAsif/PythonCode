{
 "cells": [
  {
   "cell_type": "markdown",
   "metadata": {},
   "source": [
    "# Control Statements"
   ]
  },
  {
   "cell_type": "raw",
   "metadata": {},
   "source": [
    "flow of data with respect to any condition"
   ]
  },
  {
   "cell_type": "raw",
   "metadata": {},
   "source": [
    "1.data structure\n",
    "2.algorithm - step by step solution of the problem\n",
    "3.flow diagram - graphical representation of algorithm\n",
    "4.implementation - programming language"
   ]
  },
  {
   "cell_type": "raw",
   "metadata": {},
   "source": [
    "syntax\n",
    "\n",
    "if condtion : (: is defined as indentaton operator used define block of code)\n",
    "    statement 1\n",
    "    statement 2\n",
    "    ...\n",
    "    statement n\n",
    "else:\n",
    "    statement 1\n",
    "    statement 2\n",
    "    ...\n",
    "    statement n"
   ]
  },
  {
   "cell_type": "code",
   "execution_count": 2,
   "metadata": {},
   "outputs": [
    {
     "name": "stdout",
     "output_type": "stream",
     "text": [
      "Enter a number: 2\n",
      "even\n"
     ]
    }
   ],
   "source": [
    "#even odd\n",
    "\n",
    "x = int(input(\"Enter a number: \"))\n",
    "if x % 2 == 0:\n",
    "    print(\"even\")\n",
    "else :\n",
    "    print(\"odd\")"
   ]
  },
  {
   "cell_type": "code",
   "execution_count": 8,
   "metadata": {},
   "outputs": [
    {
     "name": "stdout",
     "output_type": "stream",
     "text": [
      "Enter a 1st number: 1\n",
      "Enter a 2nd number: 2\n",
      "Enter a 3rd number:2\n",
      "2nd is greater\n"
     ]
    }
   ],
   "source": [
    "#greatest among three numbers\n",
    "\n",
    "x = int(input(\"Enter a 1st number: \"))\n",
    "y = int(input(\"Enter a 2nd number: \"))\n",
    "z =int(input(\"Enter a 3rd number:\"))\n",
    "\n",
    "if x >= y :\n",
    "    if x >= z :\n",
    "        print(\"1st is greater\")\n",
    "    else :\n",
    "        print(\"3rd is greater\")\n",
    "else :\n",
    "    if y >= z :\n",
    "        print(\"2nd is greater\")\n",
    "    else :\n",
    "        print(\"3rd is greater\")"
   ]
  },
  {
   "cell_type": "code",
   "execution_count": 11,
   "metadata": {},
   "outputs": [
    {
     "name": "stdout",
     "output_type": "stream",
     "text": [
      "A : 10\n",
      "B : 10\n",
      "C : 5\n",
      "A and B are equal and greater than C\n"
     ]
    }
   ],
   "source": [
    "a = int(input(\"A : \"))\n",
    "b = int(input(\"B : \"))\n",
    "c = int(input(\"C : \"))\n",
    "if a == b and b == c:\n",
    "    print(\"A , B and C are equal\")\n",
    "elif a == b and b != c:\n",
    "    if a > c:\n",
    "        print(\"A and B are equal and greater than C\")\n",
    "    else:\n",
    "        print(\"C is greater\")\n",
    "elif b == c and b != a:\n",
    "    if b > a:\n",
    "        print(\"B and C are equal and greater than A\")\n",
    "    else:\n",
    "        print(\"A is greater\")\n",
    "else :\n",
    "    if a >= b and a >= c :\n",
    "        print(\"A is Greatest\")\n",
    "    elif b >= a and b >= c :\n",
    "        print(\"B is Greatest\")\n",
    "    else :\n",
    "        print(\"C is Greatest\")\n",
    "\n"
   ]
  },
  {
   "cell_type": "code",
   "execution_count": null,
   "metadata": {
    "collapsed": true
   },
   "outputs": [],
   "source": []
  }
 ],
 "metadata": {
  "kernelspec": {
   "display_name": "Python 3",
   "language": "python",
   "name": "python3"
  },
  "language_info": {
   "codemirror_mode": {
    "name": "ipython",
    "version": 3
   },
   "file_extension": ".py",
   "mimetype": "text/x-python",
   "name": "python",
   "nbconvert_exporter": "python",
   "pygments_lexer": "ipython3",
   "version": "3.6.3"
  }
 },
 "nbformat": 4,
 "nbformat_minor": 2
}
