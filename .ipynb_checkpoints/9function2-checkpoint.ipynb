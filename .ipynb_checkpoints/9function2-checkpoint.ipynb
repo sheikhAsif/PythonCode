{
 "cells": [
  {
   "cell_type": "markdown",
   "metadata": {},
   "source": [
    "# SCOPE -"
   ]
  },
  {
   "cell_type": "raw",
   "metadata": {
    "collapsed": true
   },
   "source": [
    "Gobal scope - 1. it can only be accessed through function but it cannot change through function.\n",
    "\n",
    "Local scope - 1. life through out the function.\n",
    "              2.\n"
   ]
  },
  {
   "cell_type": "code",
   "execution_count": 3,
   "metadata": {},
   "outputs": [
    {
     "name": "stdout",
     "output_type": "stream",
     "text": [
      "Global x= 10\n",
      "Local variable x = 15\n",
      "Global x= 10\n"
     ]
    }
   ],
   "source": [
    "x = 10\n",
    "def hey():\n",
    "    x = 10\n",
    "    x = x + 5\n",
    "    print(\"Local variable x =\",x)\n",
    "print(\"Global x=\",x)\n",
    "hey()\n",
    "print(\"Global x=\",x)"
   ]
  },
  {
   "cell_type": "code",
   "execution_count": 4,
   "metadata": {},
   "outputs": [
    {
     "name": "stdout",
     "output_type": "stream",
     "text": [
      "Before function calling x = 10\n",
      "In function value = 15\n",
      "After function calling x= 15\n"
     ]
    }
   ],
   "source": [
    "x = 10\n",
    "def change():\n",
    "    global x\n",
    "    x = x + 5\n",
    "    print(\"In function value =\",x)\n",
    "print(\"Before function calling x =\",x)\n",
    "change()\n",
    "print(\"After function calling x=\",x)"
   ]
  },
  {
   "cell_type": "markdown",
   "metadata": {},
   "source": [
    "## lambda function or anonomous function - it is inline function means in 1 line."
   ]
  },
  {
   "cell_type": "code",
   "execution_count": 5,
   "metadata": {
    "collapsed": true
   },
   "outputs": [],
   "source": [
    "add = lambda x,y: x+y"
   ]
  },
  {
   "cell_type": "code",
   "execution_count": 10,
   "metadata": {},
   "outputs": [
    {
     "name": "stdout",
     "output_type": "stream",
     "text": [
      "11\n"
     ]
    }
   ],
   "source": [
    "res = add(6,5)\n",
    "print(res)"
   ]
  },
  {
   "cell_type": "code",
   "execution_count": 2,
   "metadata": {},
   "outputs": [
    {
     "name": "stdout",
     "output_type": "stream",
     "text": [
      "5\n"
     ]
    }
   ],
   "source": [
    "great = lambda p,q: q if q>p else p\n",
    "print(great(3,5))"
   ]
  },
  {
   "cell_type": "code",
   "execution_count": 6,
   "metadata": {},
   "outputs": [
    {
     "name": "stdout",
     "output_type": "stream",
     "text": [
      "120\n"
     ]
    }
   ],
   "source": [
    "fact = lambda num : 1 if num == 1 else num*fact(num-1)\n",
    "print(fact(5))"
   ]
  },
  {
   "cell_type": "code",
   "execution_count": 11,
   "metadata": {},
   "outputs": [
    {
     "name": "stdout",
     "output_type": "stream",
     "text": [
      "1 hello  world\n",
      "2 hello  world\n",
      "3 hello  world\n",
      "4 hello  world\n",
      "5 hello  world\n",
      "6 hello  world\n",
      "7 hello  world\n",
      "8 hello  world\n",
      "9 hello  world\n"
     ]
    },
    {
     "data": {
      "text/plain": [
       "(None, (None, (None, (None, (None, (None, (None, (None, (None, 0)))))))))"
      ]
     },
     "execution_count": 11,
     "metadata": {},
     "output_type": "execute_result"
    }
   ],
   "source": [
    "hello = lambda c : 0 if c == 10 else (print(c,\"hello  world\"),hello(c + 1))\n",
    "hello(1)"
   ]
  },
  {
   "cell_type": "code",
   "execution_count": 14,
   "metadata": {},
   "outputs": [
    {
     "name": "stdout",
     "output_type": "stream",
     "text": [
      "1 2 3 4 5\n",
      "['1', '2', '3', '4', '5']\n",
      "[1, 2, 3, 4, 5]\n"
     ]
    }
   ],
   "source": [
    "# mapping \n",
    "\n",
    "x = input().split()\n",
    "print(x)\n",
    "n = []\n",
    "for var in x:\n",
    "    n.append(int(var))\n",
    "print(n)\n",
    "    "
   ]
  },
  {
   "cell_type": "code",
   "execution_count": null,
   "metadata": {
    "collapsed": true
   },
   "outputs": [],
   "source": []
  }
 ],
 "metadata": {
  "kernelspec": {
   "display_name": "Python 3",
   "language": "python",
   "name": "python3"
  },
  "language_info": {
   "codemirror_mode": {
    "name": "ipython",
    "version": 3
   },
   "file_extension": ".py",
   "mimetype": "text/x-python",
   "name": "python",
   "nbconvert_exporter": "python",
   "pygments_lexer": "ipython3",
   "version": "3.6.3"
  }
 },
 "nbformat": 4,
 "nbformat_minor": 2
}
