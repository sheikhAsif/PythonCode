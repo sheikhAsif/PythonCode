{
 "cells": [
  {
   "cell_type": "markdown",
   "metadata": {},
   "source": [
    "# Loops  in Python"
   ]
  },
  {
   "cell_type": "raw",
   "metadata": {},
   "source": [
    "1. while loop\n",
    "2. for loop"
   ]
  },
  {
   "cell_type": "markdown",
   "metadata": {},
   "source": [
    "# While loop:"
   ]
  },
  {
   "cell_type": "code",
   "execution_count": 1,
   "metadata": {
    "collapsed": true
   },
   "outputs": [],
   "source": [
    "while False:\n",
    "    print(\"hi\")"
   ]
  },
  {
   "cell_type": "code",
   "execution_count": 8,
   "metadata": {},
   "outputs": [
    {
     "name": "stdout",
     "output_type": "stream",
     "text": [
      "1, 2, 3, 4, 5, 6, 7, 8, 9, 10, 11, 12, 13, 14, 15, 16, 17, 18, 19, 20, 21, 22, 23, 24, 25, 26, 27, 28, 29, 30, 31, 32, 33, 34, 35, 36, 37, 38, 39, 40, 41, 42, 43, 44, 45, 46, 47, 48, 49, 50, 51, 52, 53, 54, 55, 56, 57, 58, 59, 60, 61, 62, 63, 64, 65, 66, 67, 68, 69, 70, 71, 72, 73, 74, 75, 76, 77, 78, 79, 80, 81, 82, 83, 84, 85, 86, 87, 88, 89, 90, 91, 92, 93, 94, 95, 96, 97, 98, 99, 100, "
     ]
    }
   ],
   "source": [
    "c = 1\n",
    "while c <= 100:\n",
    "    print(c,end =\", \") # end will cange last value because in python there is default value \\n\n",
    "    c = c+1"
   ]
  },
  {
   "cell_type": "code",
   "execution_count": 7,
   "metadata": {},
   "outputs": [
    {
     "name": "stdout",
     "output_type": "stream",
     "text": [
      "100, 99, 98, 97, 96, 95, 94, 93, 92, 91, 90, 89, 88, 87, 86, 85, 84, 83, 82, 81, 80, 79, 78, 77, 76, 75, 74, 73, 72, 71, 70, 69, 68, 67, 66, 65, 64, 63, 62, 61, 60, 59, 58, 57, 56, 55, 54, 53, 52, 51, 50, 49, 48, 47, 46, 45, 44, 43, 42, 41, 40, 39, 38, 37, 36, 35, 34, 33, 32, 31, 30, 29, 28, 27, 26, 25, 24, 23, 22, 21, 20, 19, 18, 17, 16, 15, 14, 13, 12, 11, 10, 9, 8, 7, 6, 5, 4, 3, 2, 1, "
     ]
    }
   ],
   "source": [
    "c = 100\n",
    "while c >= 1:\n",
    "    print(c,end =\", \")\n",
    "    c = c-1"
   ]
  },
  {
   "cell_type": "code",
   "execution_count": 16,
   "metadata": {},
   "outputs": [
    {
     "name": "stdout",
     "output_type": "stream",
     "text": [
      "Enter a number :5\n",
      "    5 \t*     1 =     5\n",
      "    5 \t*     2 =    10\n",
      "    5 \t*     3 =    15\n",
      "    5 \t*     4 =    20\n",
      "    5 \t*     5 =    25\n",
      "    5 \t*     6 =    30\n",
      "    5 \t*     7 =    35\n",
      "    5 \t*     8 =    40\n",
      "    5 \t*     9 =    45\n",
      "    5 \t*    10 =    50\n"
     ]
    }
   ],
   "source": [
    "num = int(input(\"Enter a number :\"))\n",
    "c = 1\n",
    "while c <= 10:\n",
    "    print('{:5} \\t* {:5} = {:5}'.format(num,c,num*c) ) # {:5} it gives 5 space before \n",
    "    c = c+1"
   ]
  },
  {
   "cell_type": "code",
   "execution_count": 17,
   "metadata": {},
   "outputs": [
    {
     "name": "stdout",
     "output_type": "stream",
     "text": [
      "Enter first number :1\n",
      "Enter second number upto you want add :100\n",
      "5050\n"
     ]
    }
   ],
   "source": [
    "num = int(input(\"Enter first number :\"))\n",
    "num1 = int(input(\"Enter second number upto you want add :\"))\n",
    "res = 0\n",
    "while num <= num1:\n",
    "    res = res + num\n",
    "    num = num + 1\n",
    "print(res)"
   ]
  },
  {
   "cell_type": "code",
   "execution_count": 1,
   "metadata": {},
   "outputs": [
    {
     "name": "stdout",
     "output_type": "stream",
     "text": [
      "do you want roll again : r\n",
      "score :  4\n",
      "do you want roll again : r\n",
      "score :  5\n",
      "do you want roll again : r\n",
      "score :  2\n",
      "do you want roll again : r\n",
      "score :  3\n",
      "do you want roll again : r\n",
      "score :  3\n",
      "do you want roll again : r\n",
      "score :  3\n",
      "do you want roll again : r\n",
      "score :  3\n",
      "do you want roll again : e\n",
      "score :  4\n",
      "do you want roll again : e\n",
      "score :  4\n",
      "do you want roll again : e\n",
      "score :  1\n",
      "do you want roll again : \n"
     ]
    }
   ],
   "source": [
    "#modify it \n",
    "\n",
    "from random import randrange\n",
    "while  input(\"do you want roll again : \") :\n",
    "    print(\"score : \",randrange(1,7))"
   ]
  },
  {
   "cell_type": "markdown",
   "metadata": {},
   "source": [
    "# For loop:"
   ]
  },
  {
   "cell_type": "code",
   "execution_count": 3,
   "metadata": {},
   "outputs": [
    {
     "name": "stdout",
     "output_type": "stream",
     "text": [
      "p\n",
      "y\n",
      "t\n",
      "h\n",
      "o\n",
      "n\n"
     ]
    }
   ],
   "source": [
    "#for works on sequence\n",
    "\n",
    "for var in \"python\":\n",
    "    print(var)"
   ]
  },
  {
   "cell_type": "code",
   "execution_count": 5,
   "metadata": {},
   "outputs": [
    {
     "name": "stdout",
     "output_type": "stream",
     "text": [
      "1\n",
      "2\n",
      "3\n",
      "4\n",
      "5\n",
      "6\n",
      "7\n",
      "8\n",
      "9\n",
      "10\n"
     ]
    }
   ],
   "source": [
    "for i in [1,2,3,4,5,6,7,8,9,10]:\n",
    "    print(i)"
   ]
  },
  {
   "cell_type": "code",
   "execution_count": 6,
   "metadata": {},
   "outputs": [
    {
     "name": "stdout",
     "output_type": "stream",
     "text": [
      "Enter the number : 5\n",
      "5 * 1 = 5\n",
      "5 * 2 = 10\n",
      "5 * 3 = 15\n",
      "5 * 4 = 20\n",
      "5 * 5 = 25\n",
      "5 * 6 = 30\n",
      "5 * 7 = 35\n",
      "5 * 8 = 40\n",
      "5 * 9 = 45\n",
      "5 * 10 = 50\n"
     ]
    }
   ],
   "source": [
    "num = int(input(\"Enter the number : \"))\n",
    "l = [1,2,3,4,5,6,7,8,9,10]\n",
    "for i in l:\n",
    "    print(\"{} * {} = {}\".format(num,i,num*i))"
   ]
  },
  {
   "cell_type": "code",
   "execution_count": 12,
   "metadata": {},
   "outputs": [
    {
     "name": "stdout",
     "output_type": "stream",
     "text": [
      "Start point : 1\n",
      "End point : 20\n",
      "Enter number :2\n",
      "2\t4\t6\t8\t10\t12\t14\t16\t18\t20\t"
     ]
    }
   ],
   "source": [
    "# range function\n",
    "\n",
    "s = int(input(\"Start point : \"))\n",
    "e = int(input(\"End point : \"))\n",
    "num = int(input(\"Enter number :\"))\n",
    "for i in range(s,e+1):\n",
    "    if i % num == 0 :\n",
    "        print(i,end='\\t')"
   ]
  },
  {
   "cell_type": "code",
   "execution_count": 14,
   "metadata": {},
   "outputs": [
    {
     "name": "stdout",
     "output_type": "stream",
     "text": [
      "-100\t-99\t-98\t-97\t-96\t-95\t-94\t-93\t-92\t-91\t-90\t-89\t-88\t-87\t-86\t-85\t-84\t-83\t-82\t-81\t-80\t-79\t-78\t-77\t-76\t-75\t-74\t-73\t-72\t-71\t-70\t-69\t-68\t-67\t-66\t-65\t-64\t-63\t-62\t-61\t-60\t-59\t-58\t-57\t-56\t-55\t-54\t-53\t-52\t-51\t-50\t-49\t-48\t-47\t-46\t-45\t-44\t-43\t-42\t-41\t-40\t-39\t-38\t-37\t-36\t-35\t-34\t-33\t-32\t-31\t-30\t-29\t-28\t-27\t-26\t-25\t-24\t-23\t-22\t-21\t-20\t-19\t-18\t-17\t-16\t-15\t-14\t-13\t-12\t-11\t-10\t-9\t-8\t-7\t-6\t-5\t-4\t-3\t-2\t-1\t"
     ]
    }
   ],
   "source": [
    "for i in range(-100,0,1):\n",
    "    print(i,end=\"\\t\")"
   ]
  },
  {
   "cell_type": "code",
   "execution_count": 18,
   "metadata": {},
   "outputs": [
    {
     "name": "stdout",
     "output_type": "stream",
     "text": [
      "-5\t-10\t-15\t-20\t-25\t-30\t-35\t-40\t-45\t-50\t-55\t-60\t-65\t-70\t-75\t-80\t-85\t-90\t-95\t-100\t"
     ]
    }
   ],
   "source": [
    "for i in range(-5,-101,-5):\n",
    "    print(i,end=\"\\t\")"
   ]
  },
  {
   "cell_type": "code",
   "execution_count": 3,
   "metadata": {},
   "outputs": [
    {
     "name": "stdout",
     "output_type": "stream",
     "text": [
      "one = 1\n",
      "two = 2\n",
      "three = 3\n",
      "four = 4\n",
      "five = 5\n"
     ]
    }
   ],
   "source": [
    "d = {'one' : 1,\n",
    "     'two' : 2,\n",
    "     'three' : 3,\n",
    "     'four' : 4,\n",
    "     'five': 5 }\n",
    "for key in d:\n",
    "    print(key,'=',d[key])"
   ]
  },
  {
   "cell_type": "code",
   "execution_count": 4,
   "metadata": {},
   "outputs": [
    {
     "name": "stdout",
     "output_type": "stream",
     "text": [
      "hi = hello\n",
      "bye = chalo\n",
      "good = bad\n"
     ]
    }
   ],
   "source": [
    "d = {'hi':'hello','bye':'chalo','good':'bad'}\n",
    "for key,value in d.items():\n",
    "    print(key,'=',value)"
   ]
  },
  {
   "cell_type": "code",
   "execution_count": 5,
   "metadata": {},
   "outputs": [
    {
     "name": "stdout",
     "output_type": "stream",
     "text": [
      "1 2 3\n",
      "3 4 5\n",
      "7 8 9\n"
     ]
    }
   ],
   "source": [
    "l = [\n",
    "    [1,2,3],\n",
    "    [3,4,5],\n",
    "    [7,8,9]\n",
    "]\n",
    "for one,two,three in l:\n",
    "    print(one,two,three)"
   ]
  },
  {
   "cell_type": "code",
   "execution_count": 6,
   "metadata": {},
   "outputs": [
    {
     "name": "stdout",
     "output_type": "stream",
     "text": [
      "<class 'range'>\n",
      "range(1, 100, 5)\n",
      "1 6 11 16 21 26 31 36 41 46 51 56 61 66 71 76 81 86 91 96\n"
     ]
    }
   ],
   "source": [
    "start = 1\n",
    "end = 100\n",
    "step = 5\n",
    "k = range(start,end,step)\n",
    "print(type(k))\n",
    "print(k)\n",
    "print(*k)"
   ]
  },
  {
   "cell_type": "code",
   "execution_count": 7,
   "metadata": {},
   "outputs": [
    {
     "name": "stdout",
     "output_type": "stream",
     "text": [
      "100 99 98 97 96 95 94 93 92 91 90 89 88 87 86 85 84 83 82 81 80 79 78 77 76 75 74 73 72 71 70 69 68 67 66 65 64 63 62 61 60 59 58 57 56 55 54 53 52 51 50 49 48 47 46 45 44 43 42 41 40 39 38 37 36 35 34 33 32 31 30 29 28 27 26 25 24 23 22 21 20 19 18 17 16 15 14 13 12 11 10 9 8 7 6 5 4 3 2 1\n"
     ]
    }
   ],
   "source": [
    "print(*range(100,0,-1))"
   ]
  },
  {
   "cell_type": "code",
   "execution_count": 8,
   "metadata": {},
   "outputs": [
    {
     "name": "stdout",
     "output_type": "stream",
     "text": [
      "-16\n"
     ]
    }
   ],
   "source": [
    "for var in range(-16,-18,-2):\n",
    "    print(var)"
   ]
  },
  {
   "cell_type": "code",
   "execution_count": 9,
   "metadata": {},
   "outputs": [
    {
     "name": "stdout",
     "output_type": "stream",
     "text": [
      "-100 -99 -98 -97 -96 -95 -94 -93 -92 -91 -90 -89 -88 -87 -86 -85 -84 -83 -82 -81 -80 -79 -78 -77 -76 -75 -74 -73 -72 -71 -70 -69 -68 -67 -66 -65 -64 -63 -62 -61 -60 -59 -58 -57 -56 -55 -54 -53 -52 -51 -50 -49 -48 -47 -46 -45 -44 -43 -42 -41 -40 -39 -38 -37 -36 -35 -34 -33 -32 -31 -30 -29 -28 -27 -26 -25 -24 -23 -22 -21 -20 -19 -18 -17 -16 -15 -14 -13 -12 -11 -10 -9 -8 -7 -6 -5 -4 -3 -2 -1 "
     ]
    }
   ],
   "source": [
    "for var in range(-100,0):\n",
    "    print(var,end=' ')"
   ]
  },
  {
   "cell_type": "code",
   "execution_count": null,
   "metadata": {
    "collapsed": true
   },
   "outputs": [],
   "source": []
  }
 ],
 "metadata": {
  "kernelspec": {
   "display_name": "Python 3",
   "language": "python",
   "name": "python3"
  },
  "language_info": {
   "codemirror_mode": {
    "name": "ipython",
    "version": 3
   },
   "file_extension": ".py",
   "mimetype": "text/x-python",
   "name": "python",
   "nbconvert_exporter": "python",
   "pygments_lexer": "ipython3",
   "version": "3.6.3"
  }
 },
 "nbformat": 4,
 "nbformat_minor": 2
}
