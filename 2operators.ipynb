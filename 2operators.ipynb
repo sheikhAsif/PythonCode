{
 "cells": [
  {
   "cell_type": "markdown",
   "metadata": {
    "collapsed": true
   },
   "source": [
    "# OPERATOR IN PYTHON"
   ]
  },
  {
   "cell_type": "markdown",
   "metadata": {},
   "source": [
    "1. unary operator\n",
    "2. binary operator"
   ]
  },
  {
   "cell_type": "raw",
   "metadata": {},
   "source": [
    "#priority wise\n",
    "1.arithmetic operators - binary   \n",
    "2.comparision operators\n",
    "3.membership operator\n",
    "4.assignment operators\n",
    "5.binary operators\n",
    "6.identity operators\n",
    "7.logical operators"
   ]
  },
  {
   "cell_type": "markdown",
   "metadata": {},
   "source": [
    "# 1.Arithmetic Operators"
   ]
  },
  {
   "cell_type": "raw",
   "metadata": {},
   "source": [
    "1.arithmetic operators - binary\n",
    "    1.addition operator ( + )\n",
    "    2.substraction operator ( - )\n",
    "    3.multiplication operator ( * )\n",
    "    4.division operator ( / )\n",
    "    5.modulus  operator ( % ) \n",
    "    6.floor division  operator( // )\n",
    "    7.exponent operator ( ** )"
   ]
  },
  {
   "cell_type": "code",
   "execution_count": null,
   "metadata": {
    "collapsed": true
   },
   "outputs": [],
   "source": [
    "#addition operator\n",
    "x = int(input(\"Enter value of x :\"))\n",
    "y = int(input(\"Enter value of y :\"))\n",
    "z = x + y\n",
    "print(\"Addition of {} and  {} is {}.\".format(x,y,z))\n",
    "\n",
    "x = \"hello \"\n",
    "y = \"world\"\n",
    "print(x+y)    #concatenate\n",
    "\n",
    "l1 = [1,2,3]\n",
    "l2 = [4,5,6]\n",
    "print(l1+l2)  #gives new list\n",
    "\n",
    "t1 = (1,2,3)\n",
    "t2 = (4,5,6)\n",
    "print(t1+t2)   #gives new tuple\n",
    "\n",
    "#dictionary and set is not sequential(not follow index) data type so we cannot use arithmetic operators on that\n",
    "\n",
    "''' Dictionary can not be processed by Airthmatic Operators\n",
    "d = { 1:'one',2:'two'}\n",
    "d1 = { 3:'three',4:'four'}\n",
    "print(d+d1)\n",
    "'''\n",
    "\"\"\" Sets can not be processed by Airthmatic Operators\n",
    "s1 = { 1,2,3 }\n",
    "s2 = { 4,5,6 }\n",
    "print(s1+s2)\n",
    "\"\"\"\n"
   ]
  },
  {
   "cell_type": "code",
   "execution_count": null,
   "metadata": {
    "collapsed": true
   },
   "outputs": [],
   "source": [
    "#substraction operator\n",
    "x = int(input(\"Enter value of x :\"))\n",
    "y = int(input(\"Enter value of y :\"))\n",
    "z = x - y\n",
    "print(\"substraction of {} and  {} is {}.\".format(x,y,z))\n",
    "\n",
    "#substration operator is not used on string , list ,tuple ,sets and dictionary"
   ]
  },
  {
   "cell_type": "code",
   "execution_count": null,
   "metadata": {
    "collapsed": true
   },
   "outputs": [],
   "source": [
    "#multiplication operator\n",
    "x = 53\n",
    "y = 20\n",
    "print(x*y)\n",
    "\n",
    "s1 = \" hi\"  #string\n",
    "print(3* s1)\n",
    "\n",
    "l1 = [1,2,3] #list\n",
    "print(3*l1)\n",
    "\n",
    "t1 = (1,2,3) #tuple\n",
    "print(2*t1)\n",
    "\n",
    "#multiplication operator is not used on sets and dictionary"
   ]
  },
  {
   "cell_type": "code",
   "execution_count": null,
   "metadata": {
    "collapsed": true
   },
   "outputs": [],
   "source": [
    "#Division operator\n",
    "x = 22\n",
    "y = 7\n",
    "\n",
    "print(x/y)  #absolute divison\n",
    "print(x%y)  #remainder\n",
    "print(x//y) #quetent"
   ]
  },
  {
   "cell_type": "code",
   "execution_count": null,
   "metadata": {
    "collapsed": true
   },
   "outputs": [],
   "source": [
    "#Exponent  operator\n",
    "x = 5\n",
    "y = 3\n",
    "print(x**y)"
   ]
  },
  {
   "cell_type": "markdown",
   "metadata": {},
   "source": [
    "# 2.Comparision operators\n"
   ]
  },
  {
   "cell_type": "raw",
   "metadata": {},
   "source": [
    "1. Less Than ( < )\n",
    "2. Less Than Equals To ( <= )\n",
    "3. Greater Than ( > )\n",
    "4. Greater Than Equals To ( >= )\n",
    "5. Equals  To  Equals To ( == )\n",
    "6. Not Equals To (!=)"
   ]
  },
  {
   "cell_type": "code",
   "execution_count": null,
   "metadata": {
    "collapsed": true
   },
   "outputs": [],
   "source": [
    "\n"
   ]
  },
  {
   "cell_type": "markdown",
   "metadata": {},
   "source": [
    "# 3.Logical operators"
   ]
  },
  {
   "cell_type": "raw",
   "metadata": {},
   "source": [
    "1. and\n",
    "2. or \n",
    "3. not\n",
    "#false,0,none--> are false and except this everything is true"
   ]
  },
  {
   "cell_type": "code",
   "execution_count": null,
   "metadata": {
    "collapsed": true
   },
   "outputs": [],
   "source": [
    "print( 6-4*3+6 and 6<5 )\n",
    "print( 6-4*3+6 or 6<5 )\n",
    "print( not True)"
   ]
  },
  {
   "cell_type": "code",
   "execution_count": null,
   "metadata": {
    "collapsed": true
   },
   "outputs": [],
   "source": [
    "print( 6 and -12 )  #because 6 is true and -12  is true so it prints last true value"
   ]
  },
  {
   "cell_type": "code",
   "execution_count": null,
   "metadata": {
    "collapsed": true
   },
   "outputs": [],
   "source": [
    "print( [1,2,3] and {1: 'one'})"
   ]
  },
  {
   "cell_type": "code",
   "execution_count": null,
   "metadata": {
    "collapsed": true
   },
   "outputs": [],
   "source": [
    "#\\t = 5 space\n",
    "x = True\n",
    "y = False\n",
    "print(\"x\\ty\\tand\\tor\")  #and operator and or operator\n",
    "print(\"{}\\t{}\\t{}\\t{}\".format(x,x,x and x,x or x))\n",
    "print(\"{}\\t{}\\t{}\\t{}\".format(x,y,x and y,x or y))\n",
    "print(\"{}\\t{}\\t{}\\t{}\".format(y,x,y and x,y or x))\n",
    "print(\"{}\\t{}\\t{}\\t{}\".format(y,y,y and y,y or y))\n",
    "\n",
    "#not operator\n",
    "print(\"\\nx\\tnot\")\n",
    "print(\"{}\\t{}\".format(x,not x))\n",
    "print(\"{}\\t{}\".format(y,not y))"
   ]
  },
  {
   "cell_type": "markdown",
   "metadata": {},
   "source": [
    "# 4.Assignment operators"
   ]
  },
  {
   "cell_type": "code",
   "execution_count": null,
   "metadata": {
    "collapsed": true
   },
   "outputs": [],
   "source": [
    "x = 1\n",
    "print(x)"
   ]
  },
  {
   "cell_type": "code",
   "execution_count": null,
   "metadata": {
    "collapsed": true
   },
   "outputs": [],
   "source": [
    "k = ((6*5/2-5) and (6<4 or 3>6)) or (10/2*3-1)\n",
    "print(k)"
   ]
  },
  {
   "cell_type": "code",
   "execution_count": null,
   "metadata": {
    "collapsed": true
   },
   "outputs": [],
   "source": [
    "x = 6+7\n",
    "print(x)\n",
    "a,b = 6,7\n",
    "l = [1,2,3]\n",
    "x,y,z = l\n",
    "print(x,y,z)"
   ]
  },
  {
   "cell_type": "code",
   "execution_count": null,
   "metadata": {
    "collapsed": true
   },
   "outputs": [],
   "source": [
    "x = 5\n",
    "y = 6\n",
    "x,y = y,x\n",
    "print(x,y)\n",
    "a = 4\n",
    "b = 6\n",
    "c = 10\n",
    "a,b,c = a+b,a-b,c*b\n",
    "print(a,b,c)"
   ]
  },
  {
   "cell_type": "markdown",
   "metadata": {
    "collapsed": true
   },
   "source": [
    "# 5.Membership Operator"
   ]
  },
  {
   "cell_type": "raw",
   "metadata": {},
   "source": [
    "1. in \n",
    "2. not in\n",
    "# we can check string in string\n",
    "# we cannot check list in list\n",
    "\n",
    "l1 = [1,2,3,4]\n",
    "l2 = [3,4]\n",
    "if l2 in l1:\n",
    "    print(\"present\")\n",
    "else :\n",
    "    print(\"not present)   #this will be printed\n",
    "\n",
    "# we can item in list\n",
    "\n",
    "l1 = [1,2,[3,4]]\n",
    "l2 = [3,4]\n",
    "if l2 in l1:\n",
    "        print(\"present\")    #this will be printed\n",
    "else :\n",
    "    print(\"not present)   "
   ]
  },
  {
   "cell_type": "code",
   "execution_count": null,
   "metadata": {
    "collapsed": true
   },
   "outputs": [],
   "source": [
    "s = \"dog is an animal\"\n",
    "x = \"dog\" in s\n",
    "y = \"cat\" in s\n",
    "z = \"bird\" not in s\n",
    "print(x)\n",
    "print(y)\n",
    "print(z)\n"
   ]
  },
  {
   "cell_type": "raw",
   "metadata": {},
   "source": [
    "GET PASS - get pass is used for taking input secretly"
   ]
  },
  {
   "cell_type": "code",
   "execution_count": null,
   "metadata": {
    "collapsed": true
   },
   "outputs": [],
   "source": [
    "from getpass import getpass\n",
    "p1 = getpass(\"player1 : \")\n",
    "p2= getpass(\"player1 : \")\n",
    "print(\"choice player 1 : \",p1)\n",
    "print(\"choice player 1 : \",p2)"
   ]
  },
  {
   "cell_type": "code",
   "execution_count": null,
   "metadata": {
    "collapsed": true
   },
   "outputs": [],
   "source": [
    "#rock paper scissor from common programming logic\n",
    "from getpass import getpass\n",
    "p1 = getpass(\"player 1 : \").strip().lower()\n",
    "p2 = getpass(\"player 2 : \").strip().lower()\n",
    "if p1 == p2: \n",
    "    print(\"player 1 win\")\n",
    "elif ( p1 == 'r' and p2 == 's' ) or ( p1 == 's' and p2 == 'p' ) or (p1 == 'p' and p2 == 'r') : \n",
    "     print(\"player 1 win\")\n",
    "else :\n",
    "     print(\"player 2 win\")"
   ]
  },
  {
   "cell_type": "code",
   "execution_count": null,
   "metadata": {
    "collapsed": true
   },
   "outputs": [],
   "source": [
    "# rock paper scissor by using data structure\n",
    "p1 = [('r','s'),('p','r'),('s','p')]\n",
    "from getpass import getpass\n",
    "i1 = getpass(\"player 1 : \").strip().lower()\n",
    "i2 = getpass(\"player 2 : \").strip().lower()\n",
    "if i1 == i2: \n",
    "    print(\"tie\")\n",
    "elif (i1,i2) in p1 : \n",
    "    print(\"player 1 win\")\n",
    "else :\n",
    "    print(\"player 2 win\")"
   ]
  },
  {
   "cell_type": "markdown",
   "metadata": {},
   "source": [
    "# 6.Identity Operator"
   ]
  },
  {
   "cell_type": "raw",
   "metadata": {},
   "source": [
    "1. is \n",
    "2. is not"
   ]
  },
  {
   "cell_type": "code",
   "execution_count": null,
   "metadata": {
    "collapsed": true
   },
   "outputs": [],
   "source": [
    "x = 5\n",
    "y = 5\n",
    "print(x is y)\n",
    "print(x is  not y)\n",
    "\n",
    "p = 3\n",
    "q = 4\n",
    "if p is q:\n",
    "    print(\"both are equal\")\n",
    "else:\n",
    "    print(\"both are different\")"
   ]
  },
  {
   "cell_type": "raw",
   "metadata": {},
   "source": [
    "continue - goes to condition directly without going further\n",
    "pass - "
   ]
  },
  {
   "cell_type": "raw",
   "metadata": {},
   "source": [
    "from random module choice is function which selects randomly from the sequence like string,list etc\n",
    "from random module randrange is function which selects randomly from the range (int)"
   ]
  },
  {
   "cell_type": "code",
   "execution_count": null,
   "metadata": {},
   "outputs": [
    {
     "name": "stdout",
     "output_type": "stream",
     "text": [
      "player 2 : s\n",
      "player 2 win\n",
      "computer choice : p\n",
      "player choice : s\n"
     ]
    }
   ],
   "source": [
    "#rock paper scissor with computer\n",
    "p1 = [('r','s'),('p','r'),('s','p')]\n",
    "from random import choice\n",
    "while True:\n",
    "    i1 = choice(['r','p','s'])\n",
    "    i2 = input(\"player 2 : \").strip().lower()\n",
    "    if i1 == i2: \n",
    "        print(\"match tie\")\n",
    "    elif (i1,i2) in p1 : \n",
    "        print(\"player 1 win\")\n",
    "        print(\"computer choice : {}\".format(i1))\n",
    "        print(\"player choice : {}\".format(i2))\n",
    "    else :\n",
    "        print(\"player 2 win\")\n",
    "        print(\"computer choice : {}\".format(i1))\n",
    "        print(\"player choice : {}\".format(i2))"
   ]
  },
  {
   "cell_type": "code",
   "execution_count": 2,
   "metadata": {},
   "outputs": [
    {
     "name": "stdout",
     "output_type": "stream",
     "text": [
      "guess number between 1 - 100 :33\n",
      "your guess is low\n",
      "guess number between 1 - 100 :55\n",
      "your guess is low\n",
      "guess number between 1 - 100 :60\n",
      "your guess is low\n",
      "guess number between 1 - 100 :70\n",
      "your guess is high\n",
      "guess number between 1 - 100 :65\n",
      "your guess is low\n",
      "\n",
      "loser\n",
      "computer guess is :  67\n",
      "do you want to play again (y/n) :n\n"
     ]
    }
   ],
   "source": [
    "#guess game \n",
    "\n",
    "from random import randrange\n",
    "c = 1\n",
    "com = randrange(1,100)\n",
    "while True:\n",
    "    while c <= 5: \n",
    "        p = int(input('guess number between 1 - 100 :'))\n",
    "        if ( p > 100 ) or (p < 1):\n",
    "            print(\"dont be over smart\")\n",
    "            continue\n",
    "        elif p == com:\n",
    "            print(\"you have guess correctly\")\n",
    "            break\n",
    "        elif p > com:\n",
    "            print(\"your guess is high\")\n",
    "        else :\n",
    "            print(\"your guess is low\")\n",
    "        c = c + 1\n",
    "    print(\"\\nloser\")\n",
    "    print(\"computer guess is : \",com)\n",
    "    ch = input(\"do you want to play again (y/n) :\").strip().lower()\n",
    "    if ch == 'y' or ch == 'yes' :\n",
    "         pass\n",
    "    else :\n",
    "         break"
   ]
  },
  {
   "cell_type": "markdown",
   "metadata": {},
   "source": [
    "#prime number -user input check prime or not\n",
    "              -start point - end point print all prime numbers\n",
    "#palindrome (reverse)\n",
    "#armstrong - count digit and then index[0]**count digit + ...\n",
    "            - input check\n",
    "            -start point - end point all armstrong"
   ]
  },
  {
   "cell_type": "code",
   "execution_count": null,
   "metadata": {
    "collapsed": true
   },
   "outputs": [],
   "source": []
  }
 ],
 "metadata": {
  "kernelspec": {
   "display_name": "Python 3",
   "language": "python",
   "name": "python3"
  },
  "language_info": {
   "codemirror_mode": {
    "name": "ipython",
    "version": 3
   },
   "file_extension": ".py",
   "mimetype": "text/x-python",
   "name": "python",
   "nbconvert_exporter": "python",
   "pygments_lexer": "ipython3",
   "version": "3.6.3"
  }
 },
 "nbformat": 4,
 "nbformat_minor": 2
}
