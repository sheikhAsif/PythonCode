{
 "cells": [
  {
   "cell_type": "markdown",
   "metadata": {},
   "source": [
    "# Prime number with recursion-"
   ]
  },
  {
   "cell_type": "code",
   "execution_count": 2,
   "metadata": {},
   "outputs": [],
   "source": [
    "from math import sqrt\n",
    "def check_prime(num):\n",
    "    sq = int(sqrt(num) + 1)\n",
    "    flag = 0\n",
    "    for i in range(2,sq+1):\n",
    "        if num % i == 0 :\n",
    "            return False\n",
    "            break\n",
    "        else:\n",
    "            flag = 1\n",
    "    if flag == 1 :\n",
    "        return True"
   ]
  },
  {
   "cell_type": "code",
   "execution_count": 4,
   "metadata": {},
   "outputs": [
    {
     "name": "stdout",
     "output_type": "stream",
     "text": [
      "Enter a number : 21232323\n",
      "Given number is not Prime\n",
      "\n",
      "Type something to repeat againd\n",
      "Enter a number : 121323\n",
      "Given number is not Prime\n",
      "\n",
      "Type something to repeat again231\n",
      "Enter a number : 121\n",
      "Given number is not Prime\n",
      "\n",
      "Type something to repeat again\n"
     ]
    }
   ],
   "source": [
    "def prime():\n",
    "    if check_prime(int(input(\"Enter a number : \"))):\n",
    "        print(\"Given number is Prime\")\n",
    "    else:\n",
    "        print(\"Given number is not Prime\")\n",
    "    if input(\"\\nType something to repeat again\"):\n",
    "        prime()\n",
    "prime()"
   ]
  },
  {
   "cell_type": "code",
   "execution_count": null,
   "metadata": {},
   "outputs": [],
   "source": []
  },
  {
   "cell_type": "code",
   "execution_count": null,
   "metadata": {
    "collapsed": true
   },
   "outputs": [],
   "source": []
  }
 ],
 "metadata": {
  "kernelspec": {
   "display_name": "Python 3",
   "language": "python",
   "name": "python3"
  },
  "language_info": {
   "codemirror_mode": {
    "name": "ipython",
    "version": 3
   },
   "file_extension": ".py",
   "mimetype": "text/x-python",
   "name": "python",
   "nbconvert_exporter": "python",
   "pygments_lexer": "ipython3",
   "version": "3.6.3"
  }
 },
 "nbformat": 4,
 "nbformat_minor": 2
}
