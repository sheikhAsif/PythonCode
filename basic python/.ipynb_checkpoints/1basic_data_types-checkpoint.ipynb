{
 "cells": [
  {
   "cell_type": "markdown",
   "metadata": {},
   "source": [
    "# printing hello"
   ]
  },
  {
   "cell_type": "code",
   "execution_count": 1,
   "metadata": {},
   "outputs": [
    {
     "name": "stdout",
     "output_type": "stream",
     "text": [
      "enter your name:asif\n",
      "welcome to jupyter  asif\n"
     ]
    }
   ],
   "source": [
    "name = input(\"enter your name:\") #input\n",
    "print(\"welcome to jupyter \", name)\n"
   ]
  },
  {
   "cell_type": "markdown",
   "metadata": {
    "collapsed": true
   },
   "source": [
    "# DATATYPES IN PYTHON"
   ]
  },
  {
   "cell_type": "raw",
   "metadata": {},
   "source": [
    "1.Numbers\n",
    "2.String\n",
    "3.List\n",
    "4.Tuple\n",
    "5.Dictionary\n",
    "6.Sets"
   ]
  },
  {
   "cell_type": "markdown",
   "metadata": {},
   "source": [
    "# 1.NUMBER"
   ]
  },
  {
   "cell_type": "raw",
   "metadata": {},
   "source": [
    "1.Number-\n",
    "        1.int\n",
    "        2.float\n",
    "        3.complex-\n",
    "                   r+ij #r-real i-imaginery j-iota\n",
    "                   "
   ]
  },
  {
   "cell_type": "code",
   "execution_count": null,
   "metadata": {
    "collapsed": true
   },
   "outputs": [],
   "source": [
    "#1.Number\n",
    "#integer\n",
    "x = 5 #integer value\n",
    "#float\n",
    "y = 3.14 #real number\n",
    "#complex\n",
    "z = 3.14+5j #complex value\n",
    "print(type(x),x)\n",
    "print(type(y),y)\n",
    "print(type(z),z)"
   ]
  },
  {
   "cell_type": "code",
   "execution_count": 4,
   "metadata": {},
   "outputs": [
    {
     "name": "stdout",
     "output_type": "stream",
     "text": [
      "Enter a integer number:1\n",
      "Enter a float number:2\n",
      "Enter a complex nuber:1+2j\n",
      "<class 'int'> 1\n",
      "<class 'float'> 2.0\n",
      "<class 'complex'> (1+2j)\n"
     ]
    }
   ],
   "source": [
    "x = int(input(\"Enter a integer number:\"))\n",
    "y = float(input(\"Enter a float number:\"))\n",
    "z = complex(input(\"Enter a complex nuber:\"))\n",
    "print(type(x),x)\n",
    "print(type(y),y)\n",
    "print(type(z),z)"
   ]
  },
  {
   "cell_type": "markdown",
   "metadata": {},
   "source": [
    "x = float(input(\"Enter value of x :\"))\n",
    "y = float(input(\"Enter value of y :\"))\n",
    "z = x+y\n",
    "print(\"Addition of {} and {} is = {} \".format(x,y,z))\n",
    "print(\"Addition of %.2f and %.2f is = %.2f \"%(x,y,z))"
   ]
  },
  {
   "cell_type": "markdown",
   "metadata": {},
   "source": [
    "# 2.STRING"
   ]
  },
  {
   "cell_type": "markdown",
   "metadata": {
    "collapsed": true
   },
   "source": [
    "2.String-set of characters.\n",
    "         unicoding in python is utf-8 but in c is ascii.\n",
    "         we can use ' ',\" \",''' ''' (multiple lines) for storing string value ."
   ]
  },
  {
   "cell_type": "code",
   "execution_count": 8,
   "metadata": {},
   "outputs": [
    {
     "name": "stdout",
     "output_type": "stream",
     "text": [
      "single quoted string\n",
      "double qouted string\n",
      "hi this is \n",
      "     multiline\n",
      "     string\n"
     ]
    }
   ],
   "source": [
    "x = 'single quoted string'\n",
    "y = \"double qouted string\"\n",
    "z = '''hi this is \n",
    "     multiline\n",
    "     string'''\n",
    "print(x)\n",
    "print(y)\n",
    "print(z)"
   ]
  },
  {
   "cell_type": "code",
   "execution_count": 9,
   "metadata": {},
   "outputs": [
    {
     "name": "stdout",
     "output_type": "stream",
     "text": [
      "he said,'python is awesome'\n"
     ]
    }
   ],
   "source": [
    "print(\"he said,'python is awesome'\")"
   ]
  },
  {
   "cell_type": "code",
   "execution_count": 15,
   "metadata": {},
   "outputs": [
    {
     "name": "stdout",
     "output_type": "stream",
     "text": [
      "length of python  6\n",
      "python\n",
      "h\n",
      "11\n",
      "world\n"
     ]
    }
   ],
   "source": [
    "s = \"python\"\n",
    "k = len(s) #length function in python\n",
    "print(\"length of python \",k)\n",
    "print(s)\n",
    "\n",
    "#indexing\n",
    "\n",
    "print(s[3])  # print s of index 3\n",
    "\n",
    "#slicing\n",
    "\n",
    "s = \"hello world\"\n",
    "print(len(s))\n",
    "print(s[6:11])"
   ]
  },
  {
   "cell_type": "code",
   "execution_count": 27,
   "metadata": {},
   "outputs": [
    {
     "name": "stdout",
     "output_type": "stream",
     "text": [
      "interpreted\n",
      "python is interpreted\n",
      " language\n",
      "python is interpreted language\n",
      "python is interpreted\n",
      "pto\n",
      "nohtyp\n",
      "uoy era woh dlrow olleh\n",
      "\n",
      "dlrow\n"
     ]
    }
   ],
   "source": [
    "s = \"python is interpreted language\"\n",
    "print(s[10:21])   #printing substring interpreted\n",
    "print(s[:21])      #print 'python is intrepreted'\n",
    "print(s[21:])      #print ' language'\n",
    "print(s[:])        #print 'python is interpreted language' means from index 0 to last\n",
    "k = s[:21]          #storing substring in container\n",
    "print(k)\n",
    "s = \"python\"\n",
    "print(s[::2])       #step size 2  s[start : end : stepsize]\n",
    "print(s[::-1])      #step size -1 means it starts from end value  (reversing)\n",
    "s = \"hello world how are you\"\n",
    "print(s[::-1])\n",
    "print(s[-13:-18])    #gives no output becoz -13+1=-12 which is wrong\n",
    "print(s[-13:-18:-1])  #print reverse of world => dlrow"
   ]
  },
  {
   "cell_type": "code",
   "execution_count": 28,
   "metadata": {},
   "outputs": [
    {
     "name": "stdout",
     "output_type": "stream",
     "text": [
      "['__add__', '__class__', '__contains__', '__delattr__', '__dir__', '__doc__', '__eq__', '__format__', '__ge__', '__getattribute__', '__getitem__', '__getnewargs__', '__gt__', '__hash__', '__init__', '__init_subclass__', '__iter__', '__le__', '__len__', '__lt__', '__mod__', '__mul__', '__ne__', '__new__', '__reduce__', '__reduce_ex__', '__repr__', '__rmod__', '__rmul__', '__setattr__', '__sizeof__', '__str__', '__subclasshook__', 'capitalize', 'casefold', 'center', 'count', 'encode', 'endswith', 'expandtabs', 'find', 'format', 'format_map', 'index', 'isalnum', 'isalpha', 'isdecimal', 'isdigit', 'isidentifier', 'islower', 'isnumeric', 'isprintable', 'isspace', 'istitle', 'isupper', 'join', 'ljust', 'lower', 'lstrip', 'maketrans', 'partition', 'replace', 'rfind', 'rindex', 'rjust', 'rpartition', 'rsplit', 'rstrip', 'split', 'splitlines', 'startswith', 'strip', 'swapcase', 'title', 'translate', 'upper', 'zfill']\n"
     ]
    }
   ],
   "source": [
    "x = 'python'\n",
    "print(dir(x)) #dir prints all function which is defined for varible x"
   ]
  },
  {
   "cell_type": "code",
   "execution_count": 29,
   "metadata": {},
   "outputs": [
    {
     "name": "stdout",
     "output_type": "stream",
     "text": [
      "HELO WORLD\n",
      "helo world\n",
      "HElO wORlD\n",
      "Helo world\n"
     ]
    }
   ],
   "source": [
    "#functions for string\n",
    "#here . is access specifier\n",
    "#upper function for changing the string to upper case\n",
    "#lower function for changing the string to lower case\n",
    "#swapcase function for changing the string to opposite case\n",
    "#captitalize function capitalize first character of string \n",
    "s = \"heLo WorLd\"\n",
    "k = s.upper() # .upper()  method of class\n",
    "l =  s.lower()\n",
    "m =  s.swapcase()\n",
    "n = s.capitalize()\n",
    "print(k)\n",
    "print(l)\n",
    "print(m)\n",
    "print(n)\n",
    "\n"
   ]
  },
  {
   "cell_type": "code",
   "execution_count": 30,
   "metadata": {},
   "outputs": [
    {
     "name": "stdout",
     "output_type": "stream",
     "text": [
      "S.split(sep=None, maxsplit=-1) -> list of strings\n",
      "\n",
      "Return a list of the words in S, using sep as the\n",
      "delimiter string.  If maxsplit is given, at most maxsplit\n",
      "splits are done. If sep is not specified or is None, any\n",
      "whitespace string is a separator and empty strings are\n",
      "removed from the result.\n"
     ]
    }
   ],
   "source": [
    "#getting documentation of any method\n",
    "s = \"python\"\n",
    "doc = s.split.__doc__\n",
    "print(doc)"
   ]
  },
  {
   "cell_type": "code",
   "execution_count": 31,
   "metadata": {},
   "outputs": [
    {
     "name": "stdout",
     "output_type": "stream",
     "text": [
      "4\n",
      "all dogs are cat  but all cats are not dog.\n",
      "all cats are cat  but all cats are not cat.\n"
     ]
    }
   ],
   "source": [
    "#find method for finding first instance\n",
    "s = \"all dogs are cat  but all cats are not dog.\"\n",
    "k = s.find(\"dog\")\n",
    "print(k)\n",
    "l = s.replace(\"dog\",\"cat\") #replace method is used for replacing one substring with other substring.\n",
    "print(s)\n",
    "print(l)"
   ]
  },
  {
   "cell_type": "markdown",
   "metadata": {},
   "source": [
    "# 3.LIST"
   ]
  },
  {
   "cell_type": "raw",
   "metadata": {},
   "source": [
    "3.lists-\n",
    "        1.homogenous (array) - stores similar type of data\n",
    "        2.hetogenous (structure) - stores different type of data"
   ]
  },
  {
   "cell_type": "code",
   "execution_count": 33,
   "metadata": {},
   "outputs": [
    {
     "name": "stdout",
     "output_type": "stream",
     "text": [
      "[5, 2, 3, 56, 34, 23, 46, 2]\n",
      "5 2 3 56 34 23 46 2\n",
      "['hello', 3.14, [1, 2, 3], 12345]\n",
      "hello 3.14 [1, 2, 3] 12345\n",
      "[56, 34, 23, 46]\n"
     ]
    }
   ],
   "source": [
    "mylist = [5,2,3,56,34,23,46,2] #it can be called array(homogenous)\n",
    "mylist1 = [\"hello\",3.14,[1,2,3],12345] #hetrogenous list\n",
    "print(mylist)\n",
    "print(*mylist)  #only print values without []\n",
    "print(mylist1)\n",
    "print(*mylist1) #only print values without []\n",
    "k = mylist[3:7]\n",
    "print(k)"
   ]
  },
  {
   "cell_type": "code",
   "execution_count": 34,
   "metadata": {},
   "outputs": [
    {
     "name": "stdout",
     "output_type": "stream",
     "text": [
      "4 7 10 13 16 19\n",
      "20 19 18 17 16 15 14 13 12 11 10 9 8 7 6 5 4 3 2 1\n",
      "1 3 5 7 9 11 13 15 17 19\n",
      "1 2 3 4 5 6 7 8 9 10\n",
      "16 14 12 10 8\n"
     ]
    }
   ],
   "source": [
    "l = [1,2,3,4,5,6,7,8,9,10,11,12,13,14,15,16,17,18,19,20]\n",
    "print(*l[3::3])\n",
    "print(*l[::-1])\n",
    "print(*l[::2])\n",
    "print(*l[-20:-10])\n",
    "print(*l[-5:-15:-2])"
   ]
  },
  {
   "cell_type": "code",
   "execution_count": 35,
   "metadata": {},
   "outputs": [
    {
     "name": "stdout",
     "output_type": "stream",
     "text": [
      "['__add__', '__class__', '__contains__', '__delattr__', '__delitem__', '__dir__', '__doc__', '__eq__', '__format__', '__ge__', '__getattribute__', '__getitem__', '__gt__', '__hash__', '__iadd__', '__imul__', '__init__', '__init_subclass__', '__iter__', '__le__', '__len__', '__lt__', '__mul__', '__ne__', '__new__', '__reduce__', '__reduce_ex__', '__repr__', '__reversed__', '__rmul__', '__setattr__', '__setitem__', '__sizeof__', '__str__', '__subclasshook__', 'append', 'clear', 'copy', 'count', 'extend', 'index', 'insert', 'pop', 'remove', 'reverse', 'sort']\n"
     ]
    }
   ],
   "source": [
    "mylist = [1,23,4,123,'hi',45,10,12,66,77,\"hello\"]\n",
    "print(dir(mylist))"
   ]
  },
  {
   "cell_type": "raw",
   "metadata": {},
   "source": [
    "list functions-\n",
    "\n",
    "fnctions that are used to insert items to list-\n",
    "1.append\n",
    "2.extend\n",
    "3.insert\n",
    "\n",
    "functions that are used to delete items from list-\n",
    "1.pop\n",
    "2.remove\n",
    "\n",
    "functions for other work in list-\n",
    "1.sort\n",
    "2.index\n",
    "3.count\n",
    "4.copy\n",
    "5.reverse\n",
    "6.clear"
   ]
  },
  {
   "cell_type": "code",
   "execution_count": 43,
   "metadata": {},
   "outputs": [
    {
     "name": "stdout",
     "output_type": "stream",
     "text": [
      "1 23 4 123 hi 45 10 12 66 77 hello bye\n",
      "1 23 4 123 hi 45 10 12 66 77 hello bye 56 24 23\n",
      "1 23 4 123 100 23 45 10 12 66 77 hello bye 56 24 23\n",
      "1 23 4 123 hi 45 10 12 66 77 hello p y t h o n ['hello', 'world'] hello world\n"
     ]
    }
   ],
   "source": [
    "#functions that are used to add items\n",
    "#append -> it will add a item at the end of the list use - mylist.append(item)\n",
    "mylist = [1,23,4,123,'hi',45,10,12,66,77,\"hello\"]\n",
    "mylist.append(\"bye\")\n",
    "print(*mylist)\n",
    "mylist.append(56)\n",
    "mylist.append(24)\n",
    "mylist.append(23)\n",
    "print(*mylist)\n",
    "\n",
    "#insert ->it will take index number and  item and add that item to given index \n",
    "#use = mylist.insert(index,item)\n",
    "mylist.insert(4,100) #add\n",
    "mylist[5] = 23  #replacement\n",
    "print(*mylist)\n",
    "\n",
    "#extend is used to add mutiple items\n",
    "mylist = [1,23,4,123,'hi',45,10,12,66,77,\"hello\"]\n",
    "mylist.extend(\"python\") #take one by one from sequence and add to the list means add p y t h o n\n",
    "mylist.append([\"hello\",\"world\"]) #takes whole as one item and add\n",
    "mylist.extend([\"hello\",\"world\"]) #take one by one and add to the list\n",
    "print(*mylist)\n"
   ]
  },
  {
   "cell_type": "code",
   "execution_count": 45,
   "metadata": {},
   "outputs": [
    {
     "name": "stdout",
     "output_type": "stream",
     "text": [
      "[1, 23, 4, 123]\n"
     ]
    }
   ],
   "source": [
    "#pop delete one item from end\n",
    "mylist = [1,23,4,123,'hi',45,10,12,66,77,\"hello\"]\n",
    "mylist.pop()\n",
    "mylist.pop()\n",
    "mylist.pop()\n",
    "mylist.pop()\n",
    "mylist.pop()\n",
    "mylist.pop()\n",
    "#pop from any index\n",
    "mylist.pop(4)  # mylist.pop(index)\n",
    "print(mylist)"
   ]
  },
  {
   "cell_type": "code",
   "execution_count": 46,
   "metadata": {},
   "outputs": [
    {
     "name": "stdout",
     "output_type": "stream",
     "text": [
      "[1, 4, 23, 'hi', 45, 10, 12, 66, 77, 'hello']\n"
     ]
    }
   ],
   "source": [
    "#remove it deletes by searching that item \n",
    "#mylist.remove(item)   delete only first repetation\n",
    "mylist = [1,23,4,23,'hi',45,10,12,66,77,\"hello\"]\n",
    "mylist.remove(23)\n",
    "print(mylist)"
   ]
  },
  {
   "cell_type": "code",
   "execution_count": 55,
   "metadata": {},
   "outputs": [
    {
     "name": "stdout",
     "output_type": "stream",
     "text": [
      "2\n",
      "[]\n",
      "[3, 2, 1]\n",
      "[1, 2, 3]\n",
      "[3, 2, 1]\n",
      "0\n",
      "[2, 5, 6]\n"
     ]
    }
   ],
   "source": [
    "#count function\n",
    "#it counts that how many time item is repeated\n",
    "#if item is not there but we are removing then it shows error\n",
    "mylist = [1,23,4,23,'hi',45,10,12,66,77,\"hello\"]\n",
    "c = mylist.count(23)\n",
    "print(c)\n",
    "\n",
    "#clear function \n",
    "#it is used for clearing all items from list\n",
    "mylist.clear()\n",
    "print(mylist)\n",
    "\n",
    "#reverse function is used for reversing\n",
    "my =[1,2,3]\n",
    "my.reverse()\n",
    "print(my)\n",
    "\n",
    "#sort function\n",
    "# .sort() -> accending order\n",
    "# .sort(revese=True)  -> decending order\n",
    "my.sort()\n",
    "print(my)  #accending order\n",
    "my.sort(reverse = True) \n",
    "print(my) #decending order\n",
    "\n",
    "#index funtion\n",
    "#it is used to check index of any item\n",
    "i = my.index(3)\n",
    "print(i)\n",
    "\n",
    "#copy functon\n",
    "mylist1 = [1,2,3]\n",
    "mylist2 = [2,5,6]\n",
    "mylist1=mylist2.copy()\n",
    "print(mylist1)  #now the value becomes [2,5,6]"
   ]
  },
  {
   "cell_type": "markdown",
   "metadata": {
    "collapsed": true
   },
   "source": [
    "# 4.Tuple"
   ]
  },
  {
   "cell_type": "raw",
   "metadata": {},
   "source": [
    "4.Tuples - Tuples are immutable data types that can not be changed after it's defination\n",
    " 1.index()\n",
    " 2.count()"
   ]
  },
  {
   "cell_type": "code",
   "execution_count": 9,
   "metadata": {},
   "outputs": [
    {
     "name": "stdout",
     "output_type": "stream",
     "text": [
      "['__add__', '__class__', '__contains__', '__delattr__', '__dir__', '__doc__', '__eq__', '__format__', '__ge__', '__getattribute__', '__getitem__', '__getnewargs__', '__gt__', '__hash__', '__init__', '__init_subclass__', '__iter__', '__le__', '__len__', '__lt__', '__mul__', '__ne__', '__new__', '__reduce__', '__reduce_ex__', '__repr__', '__rmul__', '__setattr__', '__sizeof__', '__str__', '__subclasshook__', 'count', 'index']\n",
      "2\n",
      "3\n",
      "[1, 3, 4] 3 4 3 hi 3 2 1\n",
      "3 is repeted 3 times \n",
      "4\n"
     ]
    }
   ],
   "source": [
    "mytuple = (1,2,3,\"hi\",3,4,3,[1,3,4])\n",
    "print(dir(mytuple))\n",
    "print(mytuple.index(3))\n",
    "print(mytuple.count(3))\n",
    "print(*mytuple[-1::-1])\n",
    "print(\"3 is repeted {} times \".format(mytuple.count(3)))\n",
    "print(mytuple[7][2]) #2d list\n"
   ]
  },
  {
   "cell_type": "code",
   "execution_count": 10,
   "metadata": {},
   "outputs": [
    {
     "name": "stdout",
     "output_type": "stream",
     "text": [
      "2\n"
     ]
    }
   ],
   "source": [
    "#example of 2d list \n",
    "mylist = [\n",
    "    [1,2,3],\n",
    "    [4,5,6],\n",
    "    [7,8,9],\n",
    "]\n",
    "print(mylist[0][1])"
   ]
  },
  {
   "cell_type": "markdown",
   "metadata": {},
   "source": [
    "# 5.Dictionary"
   ]
  },
  {
   "cell_type": "raw",
   "metadata": {},
   "source": [
    "5.Dictonary - set of keys and values\n",
    "key will be string or int\n",
    "value can be anything\n",
    "dict_name = {'key1' : 'value1'\n",
    "             'key2' : 'value2'\n",
    "             ...}\n",
    "dictionary is fast than list choose dictionary over list.\n",
    "here we using keys so that is called hashing."
   ]
  },
  {
   "cell_type": "code",
   "execution_count": 18,
   "metadata": {},
   "outputs": [
    {
     "name": "stdout",
     "output_type": "stream",
     "text": [
      "{'name': 'python', 'scope': 'world wide', 'build_year': 1994, 'frame works': ['django', 'flask', 'pyramid'], 'father': 'guido van rossum'}\n",
      "name scope build_year frame works father\n",
      "['__class__', '__contains__', '__delattr__', '__delitem__', '__dir__', '__doc__', '__eq__', '__format__', '__ge__', '__getattribute__', '__getitem__', '__gt__', '__hash__', '__init__', '__init_subclass__', '__iter__', '__le__', '__len__', '__lt__', '__ne__', '__new__', '__reduce__', '__reduce_ex__', '__repr__', '__setattr__', '__setitem__', '__sizeof__', '__str__', '__subclasshook__', 'clear', 'copy', 'fromkeys', 'get', 'items', 'keys', 'pop', 'popitem', 'setdefault', 'update', 'values']\n",
      "['django', 'flask', 'pyramid']\n",
      "dict_items([('name', 'python'), ('scope', 'world wide'), ('build_year', 1994), ('frame works', ['django', 'flask', 'pyramid']), ('father', 'guido van rossum')])\n",
      "dict_keys(['name', 'scope', 'build_year', 'frame works', 'father'])\n",
      "dict_values(['python', 'world wide', 1994, ['django', 'flask', 'pyramid'], 'guido van rossum'])\n"
     ]
    }
   ],
   "source": [
    "mydict = {\n",
    "    'name' : 'python',\n",
    "    'scope' : 'world wide',\n",
    "    'build_year' : 1994,\n",
    "    'frame works' : ['django','flask','pyramid'],\n",
    "    'father' : 'guido van rossum'\n",
    "}\n",
    "print(mydict)\n",
    "print(*mydict) #prints keys\n",
    "print(dir(mydict))\n",
    "print(mydict.get('frame works'))\n",
    "print(mydict.items())  #makes list of key and value\n",
    "print(mydict.keys())\n",
    "print(mydict.values())"
   ]
  },
  {
   "cell_type": "code",
   "execution_count": 3,
   "metadata": {},
   "outputs": [
    {
     "name": "stdout",
     "output_type": "stream",
     "text": [
      "here are your keys to select \n",
      "name scope build_year frame_works father\n",
      "enter a key: scope\n",
      "world wide\n"
     ]
    }
   ],
   "source": [
    "mydict = {\n",
    "    'name' : 'python',\n",
    "    'scope' : 'world wide',\n",
    "    'build_year' : 1994,\n",
    "    'frame_works' : ['django','flask','pyramid'],\n",
    "    'father' : 'guido van rossum'\n",
    "}\n",
    "print(\"here are your keys to select \")\n",
    "print(*mydict.keys())\n",
    "key = input(\"enter a key: \")\n",
    "key = key.strip()   #deletes unwanted spacing from leading and trailing\n",
    "key = key.lower()   #change to lower case because our all keys are in lower case\n",
    "value = mydict[key]\n",
    "print(value)"
   ]
  },
  {
   "cell_type": "code",
   "execution_count": null,
   "metadata": {
    "collapsed": true
   },
   "outputs": [],
   "source": [
    "mydict = {\n",
    "    'name' : 'python',\n",
    "    'scope' : 'world wide',\n",
    "    'build_year' : 1994,\n",
    "    'frame_works' : ['django','flask','pyramid'],\n",
    "    'father' : 'guido van rossum'\n",
    "}\n",
    "mydict['name'] = \"python 3.5.6\"    #if it exits then it update otherwise it add that to the dictionry\n",
    "print(mydict)"
   ]
  },
  {
   "cell_type": "markdown",
   "metadata": {
    "collapsed": true
   },
   "source": [
    "# 6.SET"
   ]
  },
  {
   "cell_type": "raw",
   "metadata": {},
   "source": [
    "6.Set- 1.values cannot be repeated\n",
    "       2.set cannot be empty so if we write s = {} then it become dictionary not set"
   ]
  },
  {
   "cell_type": "code",
   "execution_count": 11,
   "metadata": {},
   "outputs": [
    {
     "name": "stdout",
     "output_type": "stream",
     "text": [
      "{1, 2, 3, 4, 5}\n",
      "{4, 5, 6, 7, 8}\n",
      "intersection of s1 and s2 is  {4, 5}\n",
      "union of s1 and s2 is  {1, 2, 3, 4, 5, 6, 7, 8}\n",
      "difference of {1, 2, 3, 4, 5} with {4, 5, 6, 7, 8} is {1, 2, 3}.\n"
     ]
    }
   ],
   "source": [
    "s1 = { 1,2,3,4,5,1,1,1,1,1,1,5,5,5} #removes repeted values\n",
    "s2 = {4,5,6,7,8}\n",
    "print(s1)\n",
    "print(s2)\n",
    "value = s1.intersection(s2)\n",
    "print(\"intersection of s1 and s2 is \",value)\n",
    "value = s1.union(s2)\n",
    "print(\"union of s1 and s2 is \",value)\n",
    "value = s1.difference(s2)\n",
    "print(\"difference of {} with {} is {}.\".format(s1,s2,value))"
   ]
  },
  {
   "cell_type": "markdown",
   "metadata": {},
   "source": [
    "# TYPE CONVERSION"
   ]
  },
  {
   "cell_type": "raw",
   "metadata": {},
   "source": [
    "1.int,bin,oct,hex\n",
    "2.float\n",
    "3.complex\n",
    "4.string\n",
    "5.list  #pass everything except int it is not a sequence\n",
    "6.tuple\n",
    "7.dictionary  #pass list or tuple with min 2 items in dict like dict(['a',1])\n",
    "8.sets"
   ]
  },
  {
   "cell_type": "code",
   "execution_count": 18,
   "metadata": {},
   "outputs": [
    {
     "data": {
      "text/plain": [
       "'0x10'"
      ]
     },
     "execution_count": 18,
     "metadata": {},
     "output_type": "execute_result"
    }
   ],
   "source": [
    "int(\"abcd\",16)  #int(\"str\",base)\n",
    "int(\"01010101\",2)  #converts the base 2 means binary to integer \n",
    "#base can be 2,8,10,16\n",
    "oct(1212121) #octal conversion\n",
    "hex(16) #hex conversion"
   ]
  },
  {
   "cell_type": "code",
   "execution_count": 20,
   "metadata": {},
   "outputs": [
    {
     "name": "stdout",
     "output_type": "stream",
     "text": [
      "['a', 'b']\n",
      "[('a', 1), ('b', 2)]\n",
      "[1, 2]\n"
     ]
    }
   ],
   "source": [
    "d = {'a':1,'b':2}\n",
    "l = list(d)\n",
    "print(l)  #only key goes in list l\n",
    "\n",
    "l = list(d.items()) #pair goes in list\n",
    "print(l)\n",
    "\n",
    "l = list(d.values()) #value goes\n",
    "print(l)"
   ]
  },
  {
   "cell_type": "code",
   "execution_count": 4,
   "metadata": {},
   "outputs": [
    {
     "name": "stdout",
     "output_type": "stream",
     "text": [
      "Enter first key:a\n",
      "Enter first value:1\n",
      "Enter second key:b\n",
      "Enter second value:2\n",
      "{'a': '1', 'b': '2'}\n"
     ]
    }
   ],
   "source": [
    "outer_list = []\n",
    "inner_list = []\n",
    "\n",
    "key1 = input(\"Enter first key:\")\n",
    "value1 = input(\"Enter first value:\")\n",
    "inner_list.append(key1)\n",
    "inner_list.append(value1)\n",
    "outer_list.append(inner_list)\n",
    "d = dict(outer_list)\n",
    "inner_list.clear()\n",
    "key2 = input(\"Enter second key:\")\n",
    "value2 = input(\"Enter second value:\")\n",
    "inner_list.append(key2)\n",
    "inner_list.append(value2)\n",
    "outer_list.append(inner_list)\n",
    "d.update(outer_list)       #update is used to add in the end of dictionary without replacement\n",
    "print(d)\n"
   ]
  },
  {
   "cell_type": "code",
   "execution_count": 6,
   "metadata": {},
   "outputs": [
    {
     "name": "stdout",
     "output_type": "stream",
     "text": [
      "Enter key1 :a\n",
      "enter value1:1\n",
      "Enter key2 :b\n",
      "enter value2:2\n",
      "{'a': '1', 'b': '2'}\n"
     ]
    }
   ],
   "source": [
    "d = {\n",
    "    input(\"Enter key1 :\") : input(\"enter value1:\"),\n",
    "    input(\"Enter key2 :\") : input(\"enter value2:\")\n",
    "}\n",
    "print(d)"
   ]
  },
  {
   "cell_type": "code",
   "execution_count": null,
   "metadata": {
    "collapsed": true
   },
   "outputs": [],
   "source": []
  }
 ],
 "metadata": {
  "kernelspec": {
   "display_name": "Python 3",
   "language": "python",
   "name": "python3"
  },
  "language_info": {
   "codemirror_mode": {
    "name": "ipython",
    "version": 3
   },
   "file_extension": ".py",
   "mimetype": "text/x-python",
   "name": "python",
   "nbconvert_exporter": "python",
   "pygments_lexer": "ipython3",
   "version": "3.6.3"
  }
 },
 "nbformat": 4,
 "nbformat_minor": 2
}
