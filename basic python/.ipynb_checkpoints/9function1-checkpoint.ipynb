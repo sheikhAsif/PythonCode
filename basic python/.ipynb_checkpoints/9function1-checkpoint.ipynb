{
 "cells": [
  {
   "cell_type": "markdown",
   "metadata": {},
   "source": [
    "# Functions -"
   ]
  },
  {
   "cell_type": "raw",
   "metadata": {},
   "source": [
    "1.definition - set of statements for doing specific task.\n",
    "2.calling\n",
    "\n",
    "def function_name(arguments):\n",
    "    stament 1\n",
    "    ...\n",
    "    stament n\n",
    "    return(_)\n",
    "    \n",
    "python has only call by value.\n"
   ]
  },
  {
   "cell_type": "code",
   "execution_count": 1,
   "metadata": {
    "collapsed": true
   },
   "outputs": [],
   "source": [
    "def hello():\n",
    "    name = input(\"Enter your name :\")\n",
    "    print(\"Welcome {} to the python functions.\".format(name))  #by default return none"
   ]
  },
  {
   "cell_type": "code",
   "execution_count": 2,
   "metadata": {},
   "outputs": [
    {
     "name": "stdout",
     "output_type": "stream",
     "text": [
      "function calling starts\n",
      "Enter your name :asif\n",
      "Welcome asif to the python functions.\n",
      "function calling ends\n",
      "None\n"
     ]
    }
   ],
   "source": [
    "print(\"function calling starts\")\n",
    "x = hello()\n",
    "print(\"function calling ends\")\n",
    "print(x) #return none by default"
   ]
  },
  {
   "cell_type": "code",
   "execution_count": 1,
   "metadata": {
    "collapsed": true
   },
   "outputs": [],
   "source": [
    "#calculator\n",
    "\n",
    "def calc(x,y,ch):\n",
    "    ch = ch.strip()\n",
    "    if ch == '+' :\n",
    "        return x + y\n",
    "    elif ch == '-' :\n",
    "        return x - y \n",
    "    elif ch == '*' :\n",
    "        return x * y\n",
    "    elif ch == '/' or ch == '//' or ch == '%' :\n",
    "        if y == 0 :\n",
    "            return \"Number cannot divide by zero\"\n",
    "        else :\n",
    "            if ch == '/' :\n",
    "                return x / y\n",
    "            elif ch == '//' :\n",
    "                return x // y\n",
    "            else :\n",
    "                return x % y\n",
    "    elif ch == '**' :\n",
    "        return x ** y\n",
    "    else :\n",
    "        return 'invalid!! operation.'\n",
    "        "
   ]
  },
  {
   "cell_type": "code",
   "execution_count": 2,
   "metadata": {},
   "outputs": [
    {
     "name": "stdout",
     "output_type": "stream",
     "text": [
      "Number cannot divide by zero\n"
     ]
    }
   ],
   "source": [
    "x = calc(5,0,'%')\n",
    "print(x)"
   ]
  },
  {
   "cell_type": "code",
   "execution_count": 5,
   "metadata": {},
   "outputs": [
    {
     "name": "stdout",
     "output_type": "stream",
     "text": [
      "Do you want run calc program : a\n",
      "************************************************** \n",
      "Welcome to calc program\n",
      " **************************************************\n",
      "\n",
      "\n",
      "X : 20\n",
      "Y : 12\n",
      "Operations (+,-,*,/,//,%,**) : **\n",
      "Result : 4096000000000000 \n",
      "Do you want run calc program : \n"
     ]
    }
   ],
   "source": [
    "while input(\"Do you want run calc program : \"):\n",
    "    print(\"*\" * 50,'\\nWelcome to calc program\\n','*'*50)\n",
    "    p = int(input(\"\\n\\nX : \"))\n",
    "    q = int(input(\"Y : \"))\n",
    "    user_choice = input(\"Operations (+,-,*,/,//,%,**) : \")\n",
    "    result = calc(p,q,user_choice)\n",
    "    print(\"Result : %s \"%(result))\n",
    "    "
   ]
  },
  {
   "cell_type": "code",
   "execution_count": 8,
   "metadata": {
    "collapsed": true
   },
   "outputs": [],
   "source": [
    "def convert_Dict(p,q,r,s) : # ('name','python'),('hello','world')\n",
    "    \"\"\"convert_Dict(p,q,r,s)-> This function takes 4 tuples with two values each.\n",
    "    and return dictionary.\"\"\"\n",
    "    l = [p,q,r,s] # [('name','python'),('hello','world'),(...,...),(...,...)]\n",
    "    d = dict(l)\n",
    "    return d\n"
   ]
  },
  {
   "cell_type": "code",
   "execution_count": 10,
   "metadata": {},
   "outputs": [
    {
     "name": "stdout",
     "output_type": "stream",
     "text": [
      "give input as key = value :\n",
      "\n",
      "\n",
      "1st entry : ki=ka\n",
      "2nd entry : li=la\n",
      "3rd entry : ki=kp\n",
      "4th entry : pi=pa\n",
      "Doc =  convert_Dict(p,q,r,s)-> This function takes 4 tuples with two values each.\n",
      "    and return dictionary.\n",
      "('ki', 'ka')\n",
      "<class 'dict'>\n",
      "{'ki': 'kp', 'li': 'la', 'pi': 'pa'}\n"
     ]
    }
   ],
   "source": [
    "print(\"give input as key = value :\\n\\n\")\n",
    "e1 = input(\"1st entry : \").split('=')# 'name'='python'.stirp('=')\n",
    "e1 = tuple(e1)\n",
    "e2 = input(\"2nd entry : \").split('=') \n",
    "e2 = tuple(e2)\n",
    "e3 = input(\"3rd entry : \").split('=')\n",
    "e3 = tuple(e3)\n",
    "e4 = input(\"4th entry : \").split('=')\n",
    "e4 = tuple(e4)\n",
    "print(\"Doc = \",convert_Dict.__doc__)\n",
    "st1 = convert_Dict(e1,e2,e3,e4)\n",
    "print(type(st1))\n",
    "print(st1)"
   ]
  },
  {
   "cell_type": "code",
   "execution_count": 12,
   "metadata": {},
   "outputs": [
    {
     "name": "stdout",
     "output_type": "stream",
     "text": [
      "Enter a string : asif\n",
      "fisa\n",
      "Enter a list space sperated : 1  2 3 4 5 6 7\n",
      "['7', '6', '5', '4', '3', '2', '1']\n"
     ]
    }
   ],
   "source": [
    "def reverse(string):\n",
    "    return string[::-1]\n",
    "s = reverse(input(\"Enter a string : \"))\n",
    "print(s)\n",
    "s = reverse(input(\"Enter a list space sperated : \").split())\n",
    "print(s)"
   ]
  },
  {
   "cell_type": "code",
   "execution_count": 16,
   "metadata": {},
   "outputs": [
    {
     "name": "stdout",
     "output_type": "stream",
     "text": [
      "Enter x :6\n",
      "Enter y :7\n",
      "x : 7 \n",
      "y : 6\n"
     ]
    }
   ],
   "source": [
    "def swap(x,y):\n",
    "    return y,x\n",
    "x,y = int(input(\"Enter x :\")),int(input(\"Enter y :\"))\n",
    "x,y = swap(x,y)\n",
    "print(\"x :\",x,\"\\ny :\",y)"
   ]
  },
  {
   "cell_type": "raw",
   "metadata": {},
   "source": [
    "Types of argument :\n",
    "    1.postional argument\n",
    "    2.keyword argument\n",
    "    3.default argument\n",
    "    \n",
    "    function first check position then keyword then default value for passing."
   ]
  },
  {
   "cell_type": "code",
   "execution_count": 17,
   "metadata": {},
   "outputs": [
    {
     "name": "stdout",
     "output_type": "stream",
     "text": [
      "81\n"
     ]
    }
   ],
   "source": [
    "# POSITIONAl ARGUMENT\n",
    "def pow(x,y):\n",
    "    return x**y\n",
    "x = pow(3,4) #positional argument becz value goes in accordance to position\n",
    "print(x)"
   ]
  },
  {
   "cell_type": "code",
   "execution_count": 18,
   "metadata": {},
   "outputs": [
    {
     "name": "stdout",
     "output_type": "stream",
     "text": [
      "4\n"
     ]
    }
   ],
   "source": [
    "# KEYWORD ARGUMENT\n",
    "r = pow(y=2,x=2)\n",
    "print(r)  #keyword argument"
   ]
  },
  {
   "cell_type": "code",
   "execution_count": 19,
   "metadata": {
    "collapsed": true
   },
   "outputs": [],
   "source": [
    "# DEFAULT ARGUMENT\n",
    "def pow(x,y=1):\n",
    "    return x**y"
   ]
  },
  {
   "cell_type": "code",
   "execution_count": 20,
   "metadata": {},
   "outputs": [
    {
     "name": "stdout",
     "output_type": "stream",
     "text": [
      "2\n",
      "8\n",
      "1\n",
      "243\n"
     ]
    }
   ],
   "source": [
    "k = pow(2)\n",
    "p = pow(2,3)\n",
    "print(k)\n",
    "print(p)\n",
    "print(pow(y=2,x=1))\n",
    "print(pow(3,y=5))\n",
    "#print(pow(y=5,3))  wrong throw error"
   ]
  },
  {
   "cell_type": "code",
   "execution_count": null,
   "metadata": {
    "collapsed": true
   },
   "outputs": [],
   "source": []
  }
 ],
 "metadata": {
  "kernelspec": {
   "display_name": "Python 3",
   "language": "python",
   "name": "python3"
  },
  "language_info": {
   "codemirror_mode": {
    "name": "ipython",
    "version": 3
   },
   "file_extension": ".py",
   "mimetype": "text/x-python",
   "name": "python",
   "nbconvert_exporter": "python",
   "pygments_lexer": "ipython3",
   "version": "3.6.3"
  }
 },
 "nbformat": 4,
 "nbformat_minor": 2
}
