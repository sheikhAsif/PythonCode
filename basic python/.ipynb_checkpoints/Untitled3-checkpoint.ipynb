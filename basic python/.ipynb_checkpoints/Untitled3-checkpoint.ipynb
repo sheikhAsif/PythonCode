{
 "cells": [
  {
   "cell_type": "markdown",
   "metadata": {},
   "source": [
    "# SOCKET-"
   ]
  },
  {
   "cell_type": "raw",
   "metadata": {},
   "source": [
    "socket is a way of communication.\n",
    "socket is the combination of ip and port.\n",
    "server socket is more important.\n",
    "address family internet network -AF_INET -> ipv4"
   ]
  },
  {
   "cell_type": "code",
   "execution_count": 4,
   "metadata": {},
   "outputs": [
    {
     "name": "stdout",
     "output_type": "stream",
     "text": [
      "DESKTOP-LV6JDMK\n",
      "192.168.136.1\n"
     ]
    }
   ],
   "source": [
    "import socket\n",
    "x = socket.gethostname()\n",
    "print(x)\n",
    "print(socket.gethostbyname(x))"
   ]
  },
  {
   "cell_type": "code",
   "execution_count": 5,
   "metadata": {},
   "outputs": [
    {
     "name": "stdout",
     "output_type": "stream",
     "text": [
      "An enumeration.\n"
     ]
    }
   ],
   "source": [
    "print(socket.SOCK_STREAM.__doc__)"
   ]
  },
  {
   "cell_type": "code",
   "execution_count": 16,
   "metadata": {},
   "outputs": [
    {
     "name": "stdout",
     "output_type": "stream",
     "text": [
      "[5, 3, 'hi', 6, 7, 8, 9, 'sachin'] \n",
      " [5, 3, 6, 7, 8, 9] \n",
      " [5, 3, 'hi', 6, 7, 8, 9, 'sachin']\n"
     ]
    }
   ],
   "source": [
    "l = [5,3,6,7,8,9]\n",
    "k = l.copy() #deep copy\n",
    "x = l #shallow copy\n",
    "l.append(\"sachin\");l.insert(2,\"hi\")\n",
    "print(l,\"\\n\",k,\"\\n\",x)"
   ]
  },
  {
   "cell_type": "code",
   "execution_count": 21,
   "metadata": {},
   "outputs": [
    {
     "name": "stdout",
     "output_type": "stream",
     "text": [
      "['hello', 'hi', 'bye']\n",
      "['hello', 'hi', 'bye']\n",
      "['hello', 'hi', 'bye']\n",
      "['j', 'hello', 'hi', 'bye', 2]\n",
      "['hello', 'hi', 'bye']\n",
      "['hello', 'hi', 'bye']\n"
     ]
    }
   ],
   "source": [
    "import copy\n",
    "main = [\"hello\",\"hi\",\"bye\"]\n",
    "shallow = copy.copy(main) #its not working \n",
    "deep = copy.deepcopy(main)\n",
    "print(main)\n",
    "print(shallow)\n",
    "print(deep)\n",
    "main.insert(0,\"j\");main.append(2)\n",
    "print(main)\n",
    "print(shallow)\n",
    "print(deep)"
   ]
  },
  {
   "cell_type": "code",
   "execution_count": null,
   "metadata": {
    "collapsed": true
   },
   "outputs": [],
   "source": []
  }
 ],
 "metadata": {
  "kernelspec": {
   "display_name": "Python 3",
   "language": "python",
   "name": "python3"
  },
  "language_info": {
   "codemirror_mode": {
    "name": "ipython",
    "version": 3
   },
   "file_extension": ".py",
   "mimetype": "text/x-python",
   "name": "python",
   "nbconvert_exporter": "python",
   "pygments_lexer": "ipython3",
   "version": "3.6.3"
  }
 },
 "nbformat": 4,
 "nbformat_minor": 2
}
