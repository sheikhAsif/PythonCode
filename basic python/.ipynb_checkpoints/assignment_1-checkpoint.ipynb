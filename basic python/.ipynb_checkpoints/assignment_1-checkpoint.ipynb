{
 "cells": [
  {
   "cell_type": "markdown",
   "metadata": {},
   "source": [
    "Data Types(Structures) In Python"
   ]
  },
  {
   "cell_type": "code",
   "execution_count": 1,
   "metadata": {},
   "outputs": [
    {
     "name": "stdout",
     "output_type": "stream",
     "text": [
      "here is integer  5 type of x is  <class 'int'>\n",
      "here is float  6.7 type of y is  <class 'float'>\n",
      "here is complex  (4+5j) type of z is  <class 'complex'>\n",
      "here is string  python type of name is  <class 'str'>\n"
     ]
    }
   ],
   "source": [
    "#Starting data types\n",
    "x = 5 # here x will be type of int \n",
    "y = 6.7 # used to declare float data type\n",
    "z = 4+5j # used to declare complex data type\n",
    "name = \"python\"\n",
    "print(\"here is integer \",x,\"type of x is \",type(x))\n",
    "print(\"here is float \",y,\"type of y is \",type(y))\n",
    "print(\"here is complex \",z,\"type of z is \",type(z))\n",
    "print(\"here is string \",name,\"type of name is \",type(name))"
   ]
  },
  {
   "cell_type": "code",
   "execution_count": 3,
   "metadata": {},
   "outputs": [
    {
     "name": "stdout",
     "output_type": "stream",
     "text": [
      "he said,\"india is a rising country\"\n",
      "\n",
      "this is line 1.\n",
      "this is line 2.\n",
      "this is para changed.\n",
      "see it.\n"
     ]
    }
   ],
   "source": [
    "print('he said,\"india is a rising country\"')\n",
    "para = \"\"\"\n",
    "this is line 1.\n",
    "this is line 2.\n",
    "this is para changed.\n",
    "see it.\"\"\"\n",
    "print(para)"
   ]
  },
  {
   "cell_type": "code",
   "execution_count": 7,
   "metadata": {},
   "outputs": [
    {
     "name": "stdout",
     "output_type": "stream",
     "text": [
      "[1, 2, 3]\n",
      "[1.6, 3.14, 6.2]\n",
      "['hello', 'hi', 'bye']\n",
      "[1, 3.14, (4+5j), 'python', [1, 2, 3]]\n",
      "1 2 3\n"
     ]
    }
   ],
   "source": [
    "#introduction to list\n",
    "list1 = [1,2,3]  #homogenous list array of integers\n",
    "list2 = [1.6,3.14,6.2] #array of floats\n",
    "list3 = ['hello','hi','bye'] #homogenous list array of strings\n",
    "list4 = [1,3.14,4+5j,'python',[1,2,3]] #hetrogenous list known as struture\n",
    "print(list1)\n",
    "print(list2)\n",
    "print(list3)\n",
    "print(list4)\n",
    "print(*list1)"
   ]
  },
  {
   "cell_type": "code",
   "execution_count": 8,
   "metadata": {},
   "outputs": [
    {
     "name": "stdout",
     "output_type": "stream",
     "text": [
      "15 = 15\n",
      "86 = 86\n",
      "12 = 12\n"
     ]
    }
   ],
   "source": [
    "#let's understand list a bit more\n",
    "#indexing supported in list\n",
    "mylist = [ 36, 24, 15, 12, 86 ]\n",
    "print(mylist[2],\"=\",mylist[-3])\n",
    "print(mylist[4],\"=\",mylist[-1])\n",
    "print(mylist[3],\"=\",mylist[-2])"
   ]
  },
  {
   "cell_type": "code",
   "execution_count": 9,
   "metadata": {},
   "outputs": [
    {
     "name": "stdout",
     "output_type": "stream",
     "text": [
      "hello world\n",
      "good to go\n",
      "python is a good language\n",
      "9.14\n"
     ]
    }
   ],
   "source": [
    "mylist = [ 'hello world',3.14,'python is a good language',1,2,3,'good to go']\n",
    "print(mylist[0])\n",
    "print(mylist[-1])\n",
    "print(mylist[2])\n",
    "sum = mylist[1]+mylist[-2]+mylist[3]+mylist[-3]\n",
    "print(sum)"
   ]
  },
  {
   "cell_type": "code",
   "execution_count": 10,
   "metadata": {},
   "outputs": [
    {
     "name": "stdout",
     "output_type": "stream",
     "text": [
      "['python', 'c', 'c++', 'java', 'perl', 'ruby', 'swift']\n",
      "['python', 'c', 'c++', 'java', 'perl', 'ruby', 'php']\n",
      "['python', 'c', '.net', 'java', 'perl', 'ruby', 'php']\n",
      "['java', 'perl', 'ruby']\n",
      "['python', 'c', '.net', 'java', 'perl', 'ruby', 'php']\n",
      "['java', 'perl', 'ruby', 'php']\n",
      "['python', 'c', '.net', 'java']\n",
      "['.net', 'ruby']\n"
     ]
    }
   ],
   "source": [
    "#replacing and adding items to a list\n",
    "mylist = ['python','c','c++','java','perl','ruby','swift']\n",
    "length = len(mylist)\n",
    "print(mylist)\n",
    "mylist[length-1] = 'php'\n",
    "print(mylist)\n",
    "mylist[2] = '.net'\n",
    "print(mylist)\n",
    "print(mylist[3:6])\n",
    "print(mylist[:])\n",
    "print(mylist[3:])\n",
    "print(mylist[:4])\n",
    "print(mylist[2:6:3])"
   ]
  },
  {
   "cell_type": "code",
   "execution_count": 11,
   "metadata": {},
   "outputs": [
    {
     "name": "stdout",
     "output_type": "stream",
     "text": [
      "[30, 443, 8, 4]\n",
      "[40, 10, 20, 30, 41, 55, 66, 443, 22, 3, 7, 8, 9, 12, 34, 4, 65]\n",
      "[65, 4, 34, 12, 9, 8, 7, 3, 22, 443, 66, 55, 41, 30, 20, 10, 40]\n",
      "['__add__', '__class__', '__contains__', '__delattr__', '__delitem__', '__dir__', '__doc__', '__eq__', '__format__', '__ge__', '__getattribute__', '__getitem__', '__gt__', '__hash__', '__iadd__', '__imul__', '__init__', '__init_subclass__', '__iter__', '__le__', '__len__', '__lt__', '__mul__', '__ne__', '__new__', '__reduce__', '__reduce_ex__', '__repr__', '__reversed__', '__rmul__', '__setattr__', '__setitem__', '__sizeof__', '__str__', '__subclasshook__', 'append', 'clear', 'copy', 'count', 'extend', 'index', 'insert', 'pop', 'remove', 'reverse', 'sort']\n"
     ]
    }
   ],
   "source": [
    "l = [40,10,20,30,41,55,66,443,22,3,7,8,9,12,34,4,65]\n",
    "print(l[3:17:4])\n",
    "print(l[:])\n",
    "print(l[::-1])\n",
    "print(dir(l))"
   ]
  },
  {
   "cell_type": "code",
   "execution_count": 12,
   "metadata": {},
   "outputs": [
    {
     "name": "stdout",
     "output_type": "stream",
     "text": [
      "['hi', 'i', 'am', 'a', 'list']\n",
      "hi\n",
      "list\n",
      "list\n",
      "['hi', 'i', 'am', 'a', 'list']\n",
      "['a', 'list']\n",
      "['hi', 'i', 'am', 'a']\n",
      "['hi', 'am', 'list']\n",
      "['am']\n",
      "['list', 'a', 'am', 'i', 'hi']\n",
      "['hi', 'am']\n"
     ]
    }
   ],
   "source": [
    "#list data types (mutable data type)\n",
    "#collection of items - known as array if all items are similar\n",
    "#else known as structure if all data types are different \n",
    "l = ['hi','i','am','a','list'] #declaration of list\n",
    "print(l) #printing the whole list\n",
    "\n",
    "#list has index numbers to access he elements starts from zero\n",
    "print(l[0]) #accessing the index 0 element which is 'hi'\n",
    "print(l[-1]) #last element of the list\n",
    "print(l[4]) #element of index 4\n",
    "\n",
    "#another way to traverse through list is slicing\n",
    "#slice define starting and ending of the list with start : end parameter\n",
    "#inside the index\n",
    "print(l[:]) #will print whole list starting from zero ending in end \n",
    "print(l[3:5]) #print from index 3 to 4 . see 5 is not included because slicing take  n-1 index from last n\n",
    "print(l[:4])\n",
    "\n",
    "#slice also support jump as l[start:end:jump] which print each jumb var from starting\n",
    "print(l[::2]) #will print every second element from list\n",
    "print(l[2:5:3]) #will print index 2 var then try to jump 3 so ended with end\n",
    "print(l[::-1]) #will print reverse of the list\n",
    "print(l[-5:-1:2]) #will print every second element from index -5 to end"
   ]
  },
  {
   "cell_type": "code",
   "execution_count": 15,
   "metadata": {},
   "outputs": [
    {
     "name": "stdout",
     "output_type": "stream",
     "text": [
      "12 10 5 7 3 54 68 54 2\n",
      "[5, 54, 2]\n",
      "[2, 54, 68, 54, 3, 7, 5, 10, 12]\n",
      "12 10 5 7 6 3 54 68 54 2 23 46\n",
      "1\n",
      "10\n",
      "10 5 7 3 54 68 54 2 23\n",
      "[68, 54, 54, 23, 10, 5, 2]\n",
      "[68, 54, 54, 23, 10, 5, 2]\n",
      "None\n",
      "6.7\n",
      "(4+5j)\n"
     ]
    }
   ],
   "source": [
    "#test 1\n",
    "l = [12,10,5,7,3,54,68,54,2]\n",
    "print(*l); print(l[2::3]); print(l[::-1])\n",
    "l.append(23); l.append(46); l.insert(4,6) #insert(position,item) and shift remaining items\n",
    "print(*l)\n",
    "l.extend('hello');l.pop();l.pop()\n",
    "print(l.count('l'))\n",
    "l.pop();l.pop();l.pop();l.pop()\n",
    "print(l.index(23)); l.pop(4); l.pop(0)\n",
    "print(*l)\n",
    "x = l.sort()\n",
    "l.remove(7); l.remove(3)\n",
    "l.reverse()\n",
    "print(l)\n",
    "l.sort(reverse=True)\n",
    "print(l)\n",
    "print(x); print(y); print(z)"
   ]
  },
  {
   "cell_type": "code",
   "execution_count": 1,
   "metadata": {},
   "outputs": [
    {
     "name": "stdout",
     "output_type": "stream",
     "text": [
      "{'name': 'Python', 'age': '30', 'Type': 'programming Language'}\n",
      "Python\n",
      "Type =  programming Language\n"
     ]
    }
   ],
   "source": [
    "#introduction to dictionary\n",
    "#collection of key and value pairs seprated with : and enclosed in {}\n",
    "#syntax dict_name = { 'key1':'value1','key2':'value2'}\n",
    "info = { 'name':\"Python\",\"age\":\"30\",\"Type\":\"programming Language\", }\n",
    "#we can only acess dictionary with the help of keys\n",
    "print(info) #will print dictinary as it is\n",
    "print(info['name']) # will print values of name key in dictionary\n",
    "print(\"Type = \",info['Type'])\n"
   ]
  },
  {
   "cell_type": "code",
   "execution_count": 2,
   "metadata": {},
   "outputs": [
    {
     "name": "stdout",
     "output_type": "stream",
     "text": [
      "Students Who plays cricket and footbal :  33 35 5 6 10 45 16 20 25 30\n",
      "Students Who plays both Games :   16 10\n",
      "Students Who play excatly one Game :  33 35 5 6 45 20 25 30\n",
      "1 2 3 6435 11 45 23\n",
      "<class 'dict'>\n",
      "set()\n",
      "<class 'set'>\n",
      "{1, 2, 3, 556, 45}\n"
     ]
    }
   ],
   "source": [
    "#SETS \n",
    "cricket = {5,10,30,16,33}\n",
    "footbal = { 45,35,16,10,20,25,6}\n",
    "c_f = cricket.union(footbal)\n",
    "print(\"Students Who plays cricket and footbal : \",*c_f)\n",
    "c = cricket.intersection(footbal)\n",
    "print(\"Students Who plays both Games :  \",*c)\n",
    "result = c_f.difference(c)\n",
    "print(\"Students Who play excatly one Game : \",*result)\n",
    "s = {1,1,1,1,1,11,1,1,2,3,45,6435,23,1,1,1,1,1,}\n",
    "print(*s) #does not include same items\n",
    "new_set = {}\n",
    "print(type(new_set))\n",
    "new_set = set()\n",
    "print(new_set)\n",
    "print(type(new_set))\n",
    "s = {1,2,3,45,556,}\n",
    "new_set = new_set.union(s)\n",
    "print(new_set)"
   ]
  },
  {
   "cell_type": "code",
   "execution_count": 3,
   "metadata": {},
   "outputs": [
    {
     "name": "stdout",
     "output_type": "stream",
     "text": [
      "Type of X :  <class 'str'>\n",
      "Type of Y :  <class 'int'>\n",
      "X =  ABCDEF\n",
      "Y =  11259375\n",
      "Enter a no : 24\n",
      "Type of x \n",
      "X =  36\n"
     ]
    }
   ],
   "source": [
    "#Type Conversion in python\n",
    "x = 'ABCDEF'\n",
    "y = int(x,16)\n",
    "print(\"Type of X : \",type(x))\n",
    "print(\"Type of Y : \",type(y))\n",
    "print(\"X = \",x)\n",
    "print(\"Y = \",y)\n",
    "x = int(input(\"Enter a no : \"),16)\n",
    "print(\"Type of x \")\n",
    "print(\"X = \",x)\n"
   ]
  },
  {
   "cell_type": "code",
   "execution_count": 4,
   "metadata": {},
   "outputs": [
    {
     "name": "stdout",
     "output_type": "stream",
     "text": [
      "String =  something\n",
      "List of String =  ['s', 'o', 'm', 'e', 't', 'h', 'i', 'n', 'g']\n",
      "Tuple =  (1, 'hello', 'how', 3, 4)\n",
      "List of a Tuple =  [1, 'hello', 'how', 3, 4]\n",
      "Dictionary =  {'one': 1, 'two': 2, 'three': 3, 'four': 4}\n",
      "List representation of Dictionary =  ['one', 'two', 'three', 'four']\n",
      "List of Values of Dictionary  [1, 2, 3, 4]\n",
      "Set =  {1, 2, 3, 'hello', 'world'}\n",
      "List of Set =  [1, 2, 3, 'hello', 'world']\n"
     ]
    }
   ],
   "source": [
    "#conversion into list with help of inbuilt function list(seq)\n",
    "my_string = 'something' #this is a string\n",
    "my_list = list(my_string) #converting a string into list\n",
    "print(\"String = \",my_string) #s will not change it just return list into k \n",
    "print(\"List of String = \",my_list) #printing list \n",
    "my_tuple = (1,'hello','how',3,4,) #This is tuple\n",
    "my_list = list(my_tuple) #Converting tuple into list\n",
    "print(\"Tuple = \",my_tuple) #it is still tuple\n",
    "print(\"List of a Tuple = \",my_list) #it is list of tuple\n",
    "my_dict =  { 'one':1,'two':2,'three':3,'four':4 } # this is dictionary\n",
    "my_list = list(my_dict) #will return list of s dictionary into k var\n",
    "print(\"Dictionary = \",my_dict) #no changes in dictionary\n",
    "print(\"List representation of Dictionary = \",my_list) #it only takes keys to form a list from dictionary\n",
    "my_list = list(my_dict.values()) #values will return values from dictionary\n",
    "print(\"List of Values of Dictionary \",my_list)\n",
    "my_set = {1,2,3,'hello','world',} # this is set\n",
    "my_list = list(my_set) #converting set into list\n",
    "print(\"Set = \",my_set) #s is still set\n",
    "print(\"List of Set = \",my_list) #but k is a list now\n"
   ]
  },
  {
   "cell_type": "code",
   "execution_count": 8,
   "metadata": {},
   "outputs": [
    {
     "name": "stdout",
     "output_type": "stream",
     "text": [
      "String =  something\n",
      "List of String =  ('s', 'o', 'm', 'e', 't', 'h', 'i', 'n', 'g')\n",
      "Tuple =  (1, 'hello', 'how', 3, 4)\n",
      "List of a Tuple =  [1, 'hello', 'how', 3, 4]\n",
      "Dictionary =  {'one': 1, 'two': 2, 'three': 3, 'four': 4}\n",
      "List representation of Dictionary =  ['one', 'two', 'three', 'four']\n",
      "List of Values of Dictionary  [1, 2, 3, 4]\n",
      "Set =  {1, 2, 3, 'hello', 'world'}\n",
      "List of Set =  [1, 2, 3, 'hello', 'world']\n"
     ]
    }
   ],
   "source": [
    "#conversion into tuple with help of inbuilt function tuple(seq)\n",
    "my_string = 'something' #this is a string\n",
    "my_tuple = tuple(my_string) #converting a string into tuple\n",
    "print(\"String = \",my_string) #s will not change it just return list into k \n",
    "print(\"List of String = \",my_tuple) #printing list \n",
    "\n",
    "my_tuple = (1,'hello','how',3,4,) #This is tuple\n",
    "my_list = list(my_tuple) #Converting tuple into list\n",
    "print(\"Tuple = \",my_tuple) #it is still tuple\n",
    "print(\"List of a Tuple = \",my_list) #it is list of tuple\n",
    "\n",
    "my_dict =  { 'one':1,'two':2,'three':3,'four':4 } # this is dictionary\n",
    "my_list = list(my_dict) #will return list of s dictionary into k var\n",
    "print(\"Dictionary = \",my_dict) #no changes in dictionary\n",
    "print(\"List representation of Dictionary = \",my_list) #it only takes keys to form a list from dictionary\n",
    "my_list = list(my_dict.values()) #values will return values from dictionary\n",
    "print(\"List of Values of Dictionary \",my_list)\n",
    "\n",
    "my_set = {1,2,3,'hello','world',} # this is set\n",
    "my_list = list(my_set) #converting set into list\n",
    "print(\"Set = \",my_set) #s is still set\n",
    "print(\"List of Set = \",my_list) #but k is a list now\n"
   ]
  },
  {
   "cell_type": "code",
   "execution_count": 9,
   "metadata": {},
   "outputs": [
    {
     "name": "stdout",
     "output_type": "stream",
     "text": [
      "[('one', 1), ('two', 2), ('three', 3), ('four', 4), ('five', 5)]\n",
      "{'one': 1, 'two': 2, 'three': 3, 'four': 4, 'five': 5}\n"
     ]
    }
   ],
   "source": [
    "#dictionary \n",
    "#we have to provide key and value pairs in a seq to convert into a dict\n",
    "#let's define keyword and value pair as seq\n",
    "my_list = [ ('one',1),('two',2),('three',3),('four',4),('five',5)] #this is nested list\n",
    "my_dict = dict(my_list) #conversion of list to dictionary\n",
    "print(my_list) #printing list \n",
    "print(my_dict) #printing dictionary of a list\n"
   ]
  },
  {
   "cell_type": "code",
   "execution_count": 10,
   "metadata": {},
   "outputs": [
    {
     "name": "stdout",
     "output_type": "stream",
     "text": [
      "name asif\n",
      "gender male\n",
      "profession student\n",
      "language hindi\n",
      "country india\n",
      "Type of list we have created  <class 'list'>\n",
      "Here is your list :  [['name', 'asif'], ['gender', 'male'], ['profession', 'student'], ['language', 'hindi'], ['country', 'india']]\n",
      "here is your result as dictionary :  {'name': 'asif', 'gender': 'male', 'profession': 'student', 'language': 'hindi', 'country': 'india'}\n"
     ]
    }
   ],
   "source": [
    "#making a dictionary by taking 5 inputs as tuple key,vale pair\n",
    "l = [] #declaring a empty list\n",
    "one,two,three,four = input().split(),input().split(),input().split(),input().split()\n",
    "five = input().split() #will take input as string and convert it into list by seprating from spaces\n",
    "l.append(one);l.append(two);l.append(three);l.append(four);l.append(five)\n",
    "print(\"Type of list we have created \",type(l))\n",
    "print(\"Here is your list : \",l)\n",
    "d = dict(l) #type conversion from list to dictionary\n",
    "print(\"here is your result as dictionary : \",d)\n"
   ]
  },
  {
   "cell_type": "code",
   "execution_count": 1,
   "metadata": {},
   "outputs": [
    {
     "name": "stdout",
     "output_type": "stream",
     "text": [
      "name asif sheikh\n",
      "[['name', 'asif', 'sheikh']]\n"
     ]
    }
   ],
   "source": [
    "l = []\n",
    "one = input().split() #split function splits the value by space means it change space into ,\n",
    "l.append(one)\n",
    "print(l)"
   ]
  },
  {
   "cell_type": "code",
   "execution_count": null,
   "metadata": {
    "collapsed": true
   },
   "outputs": [],
   "source": []
  }
 ],
 "metadata": {
  "kernelspec": {
   "display_name": "Python 3",
   "language": "python",
   "name": "python3"
  },
  "language_info": {
   "codemirror_mode": {
    "name": "ipython",
    "version": 3
   },
   "file_extension": ".py",
   "mimetype": "text/x-python",
   "name": "python",
   "nbconvert_exporter": "python",
   "pygments_lexer": "ipython3",
   "version": "3.6.3"
  }
 },
 "nbformat": 4,
 "nbformat_minor": 2
}
