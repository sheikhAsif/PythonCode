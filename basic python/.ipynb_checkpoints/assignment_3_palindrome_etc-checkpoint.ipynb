{
 "cells": [
  {
   "cell_type": "markdown",
   "metadata": {},
   "source": [
    "# palindrome"
   ]
  },
  {
   "cell_type": "code",
   "execution_count": 10,
   "metadata": {},
   "outputs": [
    {
     "name": "stdout",
     "output_type": "stream",
     "text": [
      "Enter a number you want to check palindrome or not : 1500\n",
      "1500 is not palindrome\n"
     ]
    }
   ],
   "source": [
    "num = int(input(\"Enter a number you want to check palindrome or not : \"))\n",
    "res = 0\n",
    "org = num\n",
    "while num > 0 :\n",
    "    rem = num % 10\n",
    "    res = res * 10 + rem\n",
    "    num = num // 10\n",
    "if org == res :\n",
    "    print(\"{} is palindrome\".format(org))\n",
    "else :\n",
    "    print(\"{} is not palindrome\".format(org))\n"
   ]
  },
  {
   "cell_type": "markdown",
   "metadata": {},
   "source": [
    "# armstrong"
   ]
  },
  {
   "cell_type": "code",
   "execution_count": 22,
   "metadata": {},
   "outputs": [
    {
     "name": "stdout",
     "output_type": "stream",
     "text": [
      "Enter a number you want to check armstrong or not : 2\n",
      "2 number is armstrong\n"
     ]
    }
   ],
   "source": [
    "#check from input\n",
    "\n",
    "num = int(input(\"Enter a number you want to check armstrong or not : \"))\n",
    "res = 0\n",
    "count = 0\n",
    "org = num\n",
    "dgt_cntr = num\n",
    "while dgt_cntr > 0:\n",
    "    dgt_cntr = dgt_cntr // 10\n",
    "    count = count + 1\n",
    "while num > 0 :\n",
    "    rem = num % 10\n",
    "    res = res +( rem ** count )\n",
    "    num = num // 10\n",
    "if org == res :\n",
    "    print(\"{} number is armstrong\".format(org))\n",
    "else :\n",
    "    print(\"{} number is not armstrong number\".format(org))"
   ]
  },
  {
   "cell_type": "code",
   "execution_count": 15,
   "metadata": {},
   "outputs": [
    {
     "name": "stdout",
     "output_type": "stream",
     "text": [
      "Enter start point from you want to get armstrong number : 1\n",
      "Enter end point upto you want to get armstrong number : 100\n",
      "1, 2, 3, 4, 5, 6, 7, 8, 9, 25, 36, "
     ]
    }
   ],
   "source": [
    "#print armstrong by taking start point and upto  end point\n",
    "\n",
    "strt_num = int(input(\"Enter start point from you want to get armstrong number : \"))\n",
    "end_num = int(input(\"Enter end point upto you want to get armstrong number : \"))\n",
    "num = strt_num\n",
    "while end_num > num :\n",
    "    res = 0\n",
    "    count = 0\n",
    "    strt_num = num\n",
    "    dgt_cntr = strt_num\n",
    "    org = strt_num\n",
    "    while dgt_cntr > 0:\n",
    "        dgt_cntr = dgt_cntr // 10\n",
    "        count = count + 1  \n",
    "    rem = strt_num % 10\n",
    "    res = res + ( rem ** count )\n",
    "    strt_num = strt_num // 10\n",
    "    num = num + 1\n",
    "    if org == res :\n",
    "        print(\"{}\".format(org),end=\", \")\n",
    "    else :\n",
    "        continue\n",
    "        "
   ]
  },
  {
   "cell_type": "markdown",
   "metadata": {},
   "source": [
    "# prime number"
   ]
  },
  {
   "cell_type": "code",
   "execution_count": 25,
   "metadata": {},
   "outputs": [
    {
     "name": "stdout",
     "output_type": "stream",
     "text": [
      "Enter a number to check prime or not : 11\n",
      "2\n",
      "3\n",
      "4\n",
      "5\n",
      "6\n",
      "7\n",
      "8\n",
      "9\n",
      "10\n",
      "your number is prime\n"
     ]
    }
   ],
   "source": [
    "#check input is prime or not\n",
    "num = int(input(\"Enter a number to check prime or not : \"))\n",
    "i = 2\n",
    "flag = 0\n",
    "while num > i :\n",
    "    if num % i == 0:\n",
    "        flag = 1\n",
    "    print(i)\n",
    "    i = i + 1\n",
    "if flag == 0:\n",
    "    print(\"your number is prime\")\n",
    "else:\n",
    "    print(\"your number is not prime\")\n",
    "    \n",
    "    "
   ]
  },
  {
   "cell_type": "code",
   "execution_count": null,
   "metadata": {
    "collapsed": true
   },
   "outputs": [],
   "source": []
  }
 ],
 "metadata": {
  "kernelspec": {
   "display_name": "Python 3",
   "language": "python",
   "name": "python3"
  },
  "language_info": {
   "codemirror_mode": {
    "name": "ipython",
    "version": 3
   },
   "file_extension": ".py",
   "mimetype": "text/x-python",
   "name": "python",
   "nbconvert_exporter": "python",
   "pygments_lexer": "ipython3",
   "version": "3.6.3"
  }
 },
 "nbformat": 4,
 "nbformat_minor": 2
}
