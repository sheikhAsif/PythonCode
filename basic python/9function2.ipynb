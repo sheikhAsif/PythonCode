{
 "cells": [
  {
   "cell_type": "markdown",
   "metadata": {},
   "source": [
    "# SCOPE -"
   ]
  },
  {
   "cell_type": "raw",
   "metadata": {
    "collapsed": true
   },
   "source": [
    "Gobal scope - 1. it can only be accessed through function but it cannot change through function.\n",
    "\n",
    "Local scope - 1. life through out the function.\n",
    "              2.\n"
   ]
  },
  {
   "cell_type": "code",
   "execution_count": 3,
   "metadata": {},
   "outputs": [
    {
     "name": "stdout",
     "output_type": "stream",
     "text": [
      "Global x= 10\n",
      "Local variable x = 15\n",
      "Global x= 10\n"
     ]
    }
   ],
   "source": [
    "x = 10\n",
    "def hey():\n",
    "    x = 10\n",
    "    x = x + 5\n",
    "    print(\"Local variable x =\",x)\n",
    "print(\"Global x=\",x)\n",
    "hey()\n",
    "print(\"Global x=\",x)"
   ]
  },
  {
   "cell_type": "code",
   "execution_count": 4,
   "metadata": {},
   "outputs": [
    {
     "name": "stdout",
     "output_type": "stream",
     "text": [
      "Before function calling x = 10\n",
      "In function value = 15\n",
      "After function calling x= 15\n"
     ]
    }
   ],
   "source": [
    "x = 10\n",
    "def change():\n",
    "    global x\n",
    "    x = x + 5\n",
    "    print(\"In function value =\",x)\n",
    "print(\"Before function calling x =\",x)\n",
    "change()\n",
    "print(\"After function calling x=\",x)"
   ]
  },
  {
   "cell_type": "markdown",
   "metadata": {},
   "source": [
    "## lambda function or anonomous function - it is inline function means in 1 line."
   ]
  },
  {
   "cell_type": "code",
   "execution_count": 5,
   "metadata": {
    "collapsed": true
   },
   "outputs": [],
   "source": [
    "add = lambda x,y: x+y"
   ]
  },
  {
   "cell_type": "code",
   "execution_count": 10,
   "metadata": {},
   "outputs": [
    {
     "name": "stdout",
     "output_type": "stream",
     "text": [
      "11\n"
     ]
    }
   ],
   "source": [
    "res = add(6,5)\n",
    "print(res)"
   ]
  },
  {
   "cell_type": "code",
   "execution_count": 2,
   "metadata": {},
   "outputs": [
    {
     "name": "stdout",
     "output_type": "stream",
     "text": [
      "5\n"
     ]
    }
   ],
   "source": [
    "great = lambda p,q: q if q>p else p\n",
    "print(great(3,5))"
   ]
  },
  {
   "cell_type": "code",
   "execution_count": 6,
   "metadata": {},
   "outputs": [
    {
     "name": "stdout",
     "output_type": "stream",
     "text": [
      "120\n"
     ]
    }
   ],
   "source": [
    "fact = lambda num : 1 if num == 1 else num*fact(num-1)\n",
    "print(fact(5))"
   ]
  },
  {
   "cell_type": "code",
   "execution_count": 11,
   "metadata": {},
   "outputs": [
    {
     "name": "stdout",
     "output_type": "stream",
     "text": [
      "1 hello  world\n",
      "2 hello  world\n",
      "3 hello  world\n",
      "4 hello  world\n",
      "5 hello  world\n",
      "6 hello  world\n",
      "7 hello  world\n",
      "8 hello  world\n",
      "9 hello  world\n"
     ]
    },
    {
     "data": {
      "text/plain": [
       "(None, (None, (None, (None, (None, (None, (None, (None, (None, 0)))))))))"
      ]
     },
     "execution_count": 11,
     "metadata": {},
     "output_type": "execute_result"
    }
   ],
   "source": [
    "hello = lambda c : 0 if c == 10 else (print(c,\"hello  world\"),hello(c + 1))\n",
    "hello(1)"
   ]
  },
  {
   "cell_type": "code",
   "execution_count": 14,
   "metadata": {},
   "outputs": [
    {
     "name": "stdout",
     "output_type": "stream",
     "text": [
      "1 2 3 4 5\n",
      "['1', '2', '3', '4', '5']\n",
      "[1, 2, 3, 4, 5]\n"
     ]
    }
   ],
   "source": [
    "# mapping \n",
    "\n",
    "x = input().split()\n",
    "print(x)\n",
    "n = []\n",
    "for var in x:\n",
    "    n.append(int(var))\n",
    "print(n)\n",
    "    "
   ]
  },
  {
   "cell_type": "code",
   "execution_count": 17,
   "metadata": {},
   "outputs": [
    {
     "name": "stdout",
     "output_type": "stream",
     "text": [
      "1 2 3 4 5\n",
      "<map object at 0x0000026439EB45F8>\n",
      "[1, 2, 3, 4, 5]\n"
     ]
    }
   ],
   "source": [
    "x = input().split()\n",
    "y = map(int,x)\n",
    "print(y)\n",
    "y = list(y)\n",
    "print(y)"
   ]
  },
  {
   "cell_type": "code",
   "execution_count": 19,
   "metadata": {},
   "outputs": [
    {
     "name": "stdout",
     "output_type": "stream",
     "text": [
      "1 2 3 4 5\n",
      "[1, 2, 3, 4, 5]\n"
     ]
    }
   ],
   "source": [
    "x = list(map(int,input().split()))\n",
    "print(x)"
   ]
  },
  {
   "cell_type": "code",
   "execution_count": 23,
   "metadata": {},
   "outputs": [
    {
     "name": "stdout",
     "output_type": "stream",
     "text": [
      "1 3 4\n",
      "1 2 3\n",
      "[2, 5, 7]\n"
     ]
    }
   ],
   "source": [
    "#  1 2 3 4 5\n",
    "# +2 3 4 5 6\n",
    "#  3 5 7 9 11 \n",
    "\n",
    "x = list(map(int,input().split()))\n",
    "y = list(map(int,input().split()))\n",
    "print(list(map(lambda x,y:x+y,x,y)))"
   ]
  },
  {
   "cell_type": "code",
   "execution_count": 34,
   "metadata": {},
   "outputs": [
    {
     "name": "stdout",
     "output_type": "stream",
     "text": [
      "1 2 3 4\n",
      "['odd', 'even', 'odd', 'even']\n"
     ]
    }
   ],
   "source": [
    "x = list(map(int,input().split()))\n",
    "print(list(map(lambda x: \"even\" if x % 2 == 0 else \"odd\" ,x )))"
   ]
  },
  {
   "cell_type": "code",
   "execution_count": 35,
   "metadata": {},
   "outputs": [
    {
     "name": "stdout",
     "output_type": "stream",
     "text": [
      "<map object at 0x0000026439EC6438>\n",
      "False True False True False True False\n"
     ]
    }
   ],
   "source": [
    "l = [1,2,3,4,5,6,7]\n",
    "r = map(lambda x: True if x % 2 == 0 else False, l)\n",
    "print(r) #iterator \n",
    "print(*r)"
   ]
  },
  {
   "cell_type": "code",
   "execution_count": 36,
   "metadata": {},
   "outputs": [
    {
     "name": "stdout",
     "output_type": "stream",
     "text": [
      "<filter object at 0x0000026439EC6550>\n",
      "2 4 6\n"
     ]
    }
   ],
   "source": [
    "l = [1,2,3,4,5,6,7]\n",
    "r = filter(lambda x: True if x % 2 == 0 else False, l)\n",
    "print(r) #iterator \n",
    "print(*r)"
   ]
  },
  {
   "cell_type": "code",
   "execution_count": 38,
   "metadata": {},
   "outputs": [
    {
     "name": "stdout",
     "output_type": "stream",
     "text": [
      "1 5\n",
      "1 2 3 4\n"
     ]
    }
   ],
   "source": [
    "l = range(*map(int,input().split()))\n",
    "print(*l)    "
   ]
  },
  {
   "cell_type": "code",
   "execution_count": 1,
   "metadata": {
    "collapsed": true
   },
   "outputs": [],
   "source": [
    "def count_Digits(num):\n",
    "    \"\"\"count_Digits(num) -> this function takes a num as formal argument and return no of digits in the num.\"\"\"\n",
    "    count = 0\n",
    "    while num:\n",
    "        num = num // 10\n",
    "        count = count + 1\n",
    "    return count"
   ]
  },
  {
   "cell_type": "code",
   "execution_count": 2,
   "metadata": {},
   "outputs": [
    {
     "name": "stdout",
     "output_type": "stream",
     "text": [
      "Enter number : 123456789\n",
      "number of digits =  9\n"
     ]
    }
   ],
   "source": [
    "n_digit = count_Digits(int(input(\"Enter number : \")))\n",
    "print(\"number of digits = \",n_digit)\n"
   ]
  },
  {
   "cell_type": "code",
   "execution_count": 3,
   "metadata": {
    "collapsed": true
   },
   "outputs": [],
   "source": [
    "def check_armstrong(num):\n",
    "    n = count_Digits(num)\n",
    "    copy_num = num\n",
    "    s = 0\n",
    "    while num:\n",
    "        r = num % 10\n",
    "        s = s + r**n\n",
    "        num = num // 10\n",
    "    if s == copy_num :\n",
    "        return True\n",
    "    else:\n",
    "        return False"
   ]
  },
  {
   "cell_type": "code",
   "execution_count": 5,
   "metadata": {
    "collapsed": true
   },
   "outputs": [],
   "source": [
    "def armstrong():\n",
    "    if check_armstrong(int(input(\"Enter a number : \"))):\n",
    "        print(\"Given number is armstrong\")\n",
    "    else:\n",
    "        print(\"Given number is not armstrong number\")\n",
    "    if input(\"\\nType something to repeat again\"):\n",
    "        armstrong()"
   ]
  },
  {
   "cell_type": "code",
   "execution_count": 7,
   "metadata": {},
   "outputs": [
    {
     "name": "stdout",
     "output_type": "stream",
     "text": [
      "Enter a number : 1\n",
      "Given number is armstrong\n",
      "\n",
      "Type something to repeat again1\n",
      "Enter a number : 2\n",
      "Given number is armstrong\n",
      "\n",
      "Type something to repeat again\n"
     ]
    }
   ],
   "source": [
    "armstrong()"
   ]
  },
  {
   "cell_type": "code",
   "execution_count": 9,
   "metadata": {},
   "outputs": [
    {
     "name": "stdout",
     "output_type": "stream",
     "text": [
      "1 2 3 4 5 6\n",
      "True True True True True True\n"
     ]
    }
   ],
   "source": [
    "x = list(map(int,input().split()))\n",
    "y = map(check_armstrong,x)\n",
    "print(*y)"
   ]
  },
  {
   "cell_type": "code",
   "execution_count": 10,
   "metadata": {},
   "outputs": [
    {
     "name": "stdout",
     "output_type": "stream",
     "text": [
      "False True False True False True False True False True\n"
     ]
    }
   ],
   "source": [
    "l = [ 1,2,3,4,5,6,7,8,9,10]\n",
    "r = map(lambda x : True if x % 2 == 0 else False , l)\n",
    "print(*r)"
   ]
  },
  {
   "cell_type": "code",
   "execution_count": 11,
   "metadata": {},
   "outputs": [
    {
     "name": "stdout",
     "output_type": "stream",
     "text": [
      "1 3 5 7 9\n"
     ]
    }
   ],
   "source": [
    "# filter prints true values only\n",
    "l = [1,2,3,4,5,6,7,8,9,10]\n",
    "r = filter(lambda x: False if x % 2 == 0 else True ,l)\n",
    "print(*r)"
   ]
  },
  {
   "cell_type": "code",
   "execution_count": 12,
   "metadata": {},
   "outputs": [
    {
     "name": "stdout",
     "output_type": "stream",
     "text": [
      "11 99999\n",
      "153 370 371 407 1634 8208 9474 54748 92727 93084\n"
     ]
    }
   ],
   "source": [
    "print(*filter(check_armstrong,range(*map(int,input().split()))))"
   ]
  },
  {
   "cell_type": "code",
   "execution_count": null,
   "metadata": {},
   "outputs": [],
   "source": []
  },
  {
   "cell_type": "code",
   "execution_count": null,
   "metadata": {
    "collapsed": true
   },
   "outputs": [],
   "source": []
  }
 ],
 "metadata": {
  "kernelspec": {
   "display_name": "Python 3",
   "language": "python",
   "name": "python3"
  },
  "language_info": {
   "codemirror_mode": {
    "name": "ipython",
    "version": 3
   },
   "file_extension": ".py",
   "mimetype": "text/x-python",
   "name": "python",
   "nbconvert_exporter": "python",
   "pygments_lexer": "ipython3",
   "version": "3.6.5"
  }
 },
 "nbformat": 4,
 "nbformat_minor": 2
}
