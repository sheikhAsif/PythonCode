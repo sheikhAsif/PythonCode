{
 "cells": [
  {
   "cell_type": "code",
   "execution_count": 1,
   "metadata": {},
   "outputs": [
    {
     "name": "stdout",
     "output_type": "stream",
     "text": [
      "file successfully created\n"
     ]
    }
   ],
   "source": [
    "#for dumping \n",
    "\n",
    "import json\n",
    "f = open('bank.db','w')\n",
    "\n",
    "bank = {\n",
    "    'user' : ['python','java','c','c+'],\n",
    "    'acc' : [1001,1002,1003,1004],\n",
    "    'password' : ['redhat','hi','bye','hello'],\n",
    "    'bal' : [50000,30000,10000,0]\n",
    "}\n",
    "\n",
    "json.dump(bank,f)\n",
    "\n",
    "f.close()\n",
    "print('file successfully created')"
   ]
  },
  {
   "cell_type": "code",
   "execution_count": 3,
   "metadata": {},
   "outputs": [
    {
     "name": "stdout",
     "output_type": "stream",
     "text": [
      "user ['python', 'java', 'c', 'c+']\n",
      "acc [1001, 1002, 1003, 1004]\n",
      "password ['redhat', 'hi', 'bye', 'hello']\n",
      "bal [50000, 30000, 10000, 0]\n"
     ]
    }
   ],
   "source": [
    "# for loading\n",
    "\n",
    "import json\n",
    "\n",
    "f = open('bank.db')\n",
    "data = json.load(f)\n",
    "f.close()\n",
    "\n",
    "for key,value in data.items():\n",
    "    print(key,value)"
   ]
  },
  {
   "cell_type": "code",
   "execution_count": null,
   "metadata": {
    "collapsed": true
   },
   "outputs": [],
   "source": [
    "# log file are made to have log records between the backup file and corrupted file\n",
    "#backup file is created by us \n",
    "#suppose the file get corrupted so we can make changes which are happened after backup is created by checking in log file."
   ]
  }
 ],
 "metadata": {
  "kernelspec": {
   "display_name": "Python 3",
   "language": "python",
   "name": "python3"
  },
  "language_info": {
   "codemirror_mode": {
    "name": "ipython",
    "version": 3
   },
   "file_extension": ".py",
   "mimetype": "text/x-python",
   "name": "python",
   "nbconvert_exporter": "python",
   "pygments_lexer": "ipython3",
   "version": "3.6.5"
  }
 },
 "nbformat": 4,
 "nbformat_minor": 2
}
