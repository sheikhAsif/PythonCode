{
 "cells": [
  {
   "cell_type": "code",
   "execution_count": 1,
   "metadata": {},
   "outputs": [
    {
     "name": "stdout",
     "output_type": "stream",
     "text": [
      "Hello World!\n"
     ]
    }
   ],
   "source": [
    "# print hello world\n",
    "\n",
    "print(\"Hello World!\")"
   ]
  },
  {
   "cell_type": "code",
   "execution_count": 3,
   "metadata": {},
   "outputs": [
    {
     "name": "stdout",
     "output_type": "stream",
     "text": [
      "Enter first number : 2\n",
      "Enter second number : 3\n",
      "Result : 5\n"
     ]
    }
   ],
   "source": [
    "# add two numbers\n",
    "\n",
    "num1 = int(input(\"Enter first number : \"))\n",
    "num2 = int(input(\"Enter second number : \"))\n",
    "print(\"Result : %d\"%(num1+num2))"
   ]
  },
  {
   "cell_type": "code",
   "execution_count": 3,
   "metadata": {},
   "outputs": [
    {
     "name": "stdout",
     "output_type": "stream",
     "text": [
      "Enter a number : 66.7\n",
      "square root :  8.167006795638168\n"
     ]
    }
   ],
   "source": [
    "# square root\n",
    "\n",
    "num = float(input(\"Enter a number : \"))\n",
    "sq = num ** 0.5\n",
    "print(\"square root : \",sq)"
   ]
  },
  {
   "cell_type": "code",
   "execution_count": 3,
   "metadata": {},
   "outputs": [
    {
     "name": "stdout",
     "output_type": "stream",
     "text": [
      "Enter number : 49\n",
      "Square Root :  7.0\n"
     ]
    }
   ],
   "source": [
    "# square root\n",
    "\n",
    "from math import sqrt\n",
    "num = float(input(\"Enter number : \"))\n",
    "if num < 0:\n",
    "    print(\"Square  root not posible \")\n",
    "else:\n",
    "    print(\"Square Root : \",sqrt(num))"
   ]
  },
  {
   "cell_type": "code",
   "execution_count": 5,
   "metadata": {},
   "outputs": [
    {
     "name": "stdout",
     "output_type": "stream",
     "text": [
      "Enter height of triangle : 20\n",
      "Enter base of triange : 10\n",
      "Area of triangle is : 100.0\n"
     ]
    }
   ],
   "source": [
    "# area of a triangle\n",
    "\n",
    "h = float(input('Enter height of triangle : '))\n",
    "b = float(input('Enter base of triange : '))\n",
    "\n",
    "res = 0.5 * b * h\n",
    "print('Area of triangle is :', res)"
   ]
  },
  {
   "cell_type": "code",
   "execution_count": 2,
   "metadata": {},
   "outputs": [
    {
     "name": "stdout",
     "output_type": "stream",
     "text": [
      "quadratic equation - ax^2 + bx^1 + cx^0\n",
      "Enter coefficient of x^2 :1\n",
      "Enter coefficient of x^1 :-1\n",
      "Enter coefficient of x^0 :-12\n",
      "Root 1 : 4.00 \n",
      "Root 2 : -3.00\n"
     ]
    }
   ],
   "source": [
    "# solve quadratic equation\n",
    "from math import sqrt\n",
    "print(\"quadratic equation - ax^2 + bx^1 + cx^0\")\n",
    "a = float(input(\"Enter coefficient of x^2 :\"))\n",
    "b = float(input(\"Enter coefficient of x^1 :\"))\n",
    "c = float(input(\"Enter coefficient of x^0 :\"))\n",
    "d = b*b - 4*a*c\n",
    "if d < 0 :\n",
    "    print(\"Imaginery roots!!\")\n",
    "else :    \n",
    "    d = sqrt(d)\n",
    "    root1 = (-1*b + d)/2*a\n",
    "    root2 = (-1*b - d)/2*a\n",
    "    print(\"Root 1 : %.2f \\nRoot 2 : %.2f\"%(root1,root2))\n"
   ]
  },
  {
   "cell_type": "code",
   "execution_count": 17,
   "metadata": {},
   "outputs": [
    {
     "name": "stdout",
     "output_type": "stream",
     "text": [
      "Enter value of variable : 1\n",
      "Enter value of variable : 2\n",
      "Var 1 :  2 \n",
      "Var 2 :  1\n"
     ]
    }
   ],
   "source": [
    "# swap two variables\n",
    "\n",
    "num1 = input(\"Enter value of variable : \")\n",
    "num2 = input(\"Enter value of variable : \")\n",
    "num1,num2 = num2,num1\n",
    "print('Var 1 : ',num1,'\\nVar 2 : ',num2)"
   ]
  },
  {
   "cell_type": "code",
   "execution_count": 26,
   "metadata": {},
   "outputs": [
    {
     "name": "stdout",
     "output_type": "stream",
     "text": [
      "Random number between 0 - 9 : 7\n"
     ]
    }
   ],
   "source": [
    "# generate random number\n",
    "\n",
    "from random import randrange\n",
    "num = randrange(10)\n",
    "print(\"Random number between 0 - 9 :\",num)"
   ]
  },
  {
   "cell_type": "code",
   "execution_count": 30,
   "metadata": {},
   "outputs": [
    {
     "name": "stdout",
     "output_type": "stream",
     "text": [
      "Enter distance in km : 1\n",
      "Miles :  0.62\n"
     ]
    }
   ],
   "source": [
    "# km to miles\n",
    "\n",
    "km = float(input(\"Enter distance in km : \"))\n",
    "miles = .62 *  km\n",
    "print(\"Miles : \",miles)\n"
   ]
  },
  {
   "cell_type": "code",
   "execution_count": 37,
   "metadata": {},
   "outputs": [
    {
     "name": "stdout",
     "output_type": "stream",
     "text": [
      "Enter tempreature in celsius : 33\n",
      "tempreature in fahrenheit : 91.4\n"
     ]
    }
   ],
   "source": [
    "# celsius to fahrenheit\n",
    "\n",
    "cel = float(input('Enter tempreature in celsius : '))\n",
    "fahrenheit = 1.8 * cel  + 32\n",
    "print('tempreature in fahrenheit :',fahrenheit)"
   ]
  },
  {
   "cell_type": "code",
   "execution_count": 3,
   "metadata": {},
   "outputs": [
    {
     "name": "stdout",
     "output_type": "stream",
     "text": [
      "Enter year to check leap year or not: 2017\n",
      "2017 is not leap year\n"
     ]
    }
   ],
   "source": [
    "# leap year\n",
    "\n",
    "yr = int(input(\"Enter year to check leap year or not: \"))\n",
    "if yr > 0 :\n",
    "    if yr % 4 == 0:\n",
    "        print(\"{} is leap year\".format(yr))\n",
    "    else:\n",
    "        print(\"{} is not leap year\".format(yr))\n",
    "else :\n",
    "    print(\"negative value is entered....\")"
   ]
  },
  {
   "cell_type": "code",
   "execution_count": 59,
   "metadata": {},
   "outputs": [
    {
     "name": "stdout",
     "output_type": "stream",
     "text": [
      "Enter 1st number : 1\n",
      "Enter 2nd number : 2\n",
      "Enter 3rd number : 2\n",
      "2.0 and 2.0 are equal\n"
     ]
    }
   ],
   "source": [
    "# find the largest among three numbers\n",
    "\n",
    "num1 = float(input(\"Enter 1st number : \"))\n",
    "num2 = float(input(\"Enter 2nd number : \"))\n",
    "num3 = float(input(\"Enter 3rd number : \"))\n",
    "if num1 > num2 and num1 > num3:\n",
    "    print(\"{} is greater\".format(num1))\n",
    "elif num2 > num1 and num2 > num3 :\n",
    "    print(\"{} is greater\".format(num2))\n",
    "elif num3 > num1 and num3 > num2:\n",
    "    print(\"{} is greater\".format(num3))\n",
    "elif num1 == num2 and num2 == num3 :\n",
    "    print(\"{}, {}, {} are equal \".format(num1,num2,num3))\n",
    "elif num1 == num2 :\n",
    "    print(\"{} and {} are equal\".format(num1,num2))\n",
    "elif num2 == num3 :\n",
    "    print(\"{} and {} are equal\".format(num2,num3))\n"
   ]
  },
  {
   "cell_type": "code",
   "execution_count": 4,
   "metadata": {},
   "outputs": [
    {
     "name": "stdout",
     "output_type": "stream",
     "text": [
      "Enter a number to check prime or not :99991\n",
      "prime\n"
     ]
    }
   ],
   "source": [
    "# prime or not\n",
    "from math import sqrt\n",
    "num = int(input(\"Enter a number to check prime or not :\"))\n",
    "sq = int(sqrt(num) + 1)\n",
    "flag = 0\n",
    "for i in range(2,sq+1):\n",
    "    if num % i == 0 :\n",
    "        print(\"not prime\")\n",
    "        break\n",
    "    else:\n",
    "        flag = 1\n",
    "if flag == 1 :\n",
    "    print(\"prime\")"
   ]
  },
  {
   "cell_type": "code",
   "execution_count": 12,
   "metadata": {},
   "outputs": [
    {
     "name": "stdout",
     "output_type": "stream",
     "text": [
      "Enter a start number from you want to print prime :1\n",
      "Enter a end number to print prime :10\n",
      "1, 1, 1, 1, 1, 1, 1, 1, 1, 1, "
     ]
    }
   ],
   "source": [
    "# print prime numbers\n",
    "from math import sqrt\n",
    "st = int(input(\"Enter a start number from you want to print prime :\"))\n",
    "end = int(input(\"Enter a end number to print prime :\"))\n",
    "flag = 0\n",
    "for i in range(st,end+1):\n",
    "    sq = int(sqrt(st) + 1)\n",
    "    for j in range(2,sq+1):\n",
    "        if st % j == 0 :\n",
    "            break\n",
    "        else:\n",
    "            print(\"{},\".format(st),end =\" \")\n",
    "        "
   ]
  },
  {
   "cell_type": "code",
   "execution_count": null,
   "metadata": {
    "collapsed": true
   },
   "outputs": [],
   "source": []
  }
 ],
 "metadata": {
  "kernelspec": {
   "display_name": "Python 3",
   "language": "python",
   "name": "python3"
  },
  "language_info": {
   "codemirror_mode": {
    "name": "ipython",
    "version": 3
   },
   "file_extension": ".py",
   "mimetype": "text/x-python",
   "name": "python",
   "nbconvert_exporter": "python",
   "pygments_lexer": "ipython3",
   "version": "3.6.3"
  }
 },
 "nbformat": 4,
 "nbformat_minor": 2
}
