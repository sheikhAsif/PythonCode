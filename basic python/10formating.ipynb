{
 "cells": [
  {
   "cell_type": "code",
   "execution_count": 2,
   "metadata": {},
   "outputs": [
    {
     "name": "stdout",
     "output_type": "stream",
     "text": [
      "Enter starting point : 2\n",
      "Enter ending point : 5\n",
      "2    4    8    \n",
      "3    9    27   \n",
      "4    16   64   \n",
      "5    25   125  \n"
     ]
    }
   ],
   "source": [
    "s = int(input(\"Enter starting point : \"))\n",
    "e = int(input(\"Enter ending point : \"))\n",
    "\n",
    "for var in range(s,e+1):\n",
    "    s = \"{:<5}{:<5}{:<5}\".format(var,var**2,var**3) #{:<} left formating\n",
    "    print(s)"
   ]
  },
  {
   "cell_type": "code",
   "execution_count": 3,
   "metadata": {},
   "outputs": [
    {
     "name": "stdout",
     "output_type": "stream",
     "text": [
      "Enter starting point : 2\n",
      "Enter ending point : 5\n",
      "    2    4    8\n",
      "    3    9   27\n",
      "    4   16   64\n",
      "    5   25  125\n"
     ]
    }
   ],
   "source": [
    "s = int(input(\"Enter starting point : \"))\n",
    "e = int(input(\"Enter ending point : \"))\n",
    "\n",
    "for var in range(s,e+1):\n",
    "    s = \"{:>5}{:>5}{:>5}\".format(var,var**2,var**3) #{:>} right formating\n",
    "    print(s)"
   ]
  },
  {
   "cell_type": "code",
   "execution_count": null,
   "metadata": {
    "collapsed": true
   },
   "outputs": [],
   "source": []
  }
 ],
 "metadata": {
  "kernelspec": {
   "display_name": "Python 3",
   "language": "python",
   "name": "python3"
  },
  "language_info": {
   "codemirror_mode": {
    "name": "ipython",
    "version": 3
   },
   "file_extension": ".py",
   "mimetype": "text/x-python",
   "name": "python",
   "nbconvert_exporter": "python",
   "pygments_lexer": "ipython3",
   "version": "3.6.3"
  }
 },
 "nbformat": 4,
 "nbformat_minor": 2
}
