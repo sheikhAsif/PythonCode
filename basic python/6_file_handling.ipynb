{
 "cells": [
  {
   "cell_type": "markdown",
   "metadata": {},
   "source": [
    "# File handling in python"
   ]
  },
  {
   "cell_type": "raw",
   "metadata": {},
   "source": [
    "file - combination of data\n",
    "     - permanent storage\n",
    " \n",
    "two types of file -\n",
    "1. text file - fixed unicode - utf 8 for python\n",
    "2. byte file(binary) -  non texted file such as image and video file\n",
    "\n",
    "buffer - area where data is stored.\n",
    "buffer space is ram where any program put temporary data\n",
    "\n",
    "fp = open(fname-path,mode(default-r),buffer_size)\n",
    "\n",
    "file pointer points starting (fp)\n",
    "\n",
    "buffer_size is auto by default\n",
    "\n",
    "mode - r(read)- reads from where cursor.\n",
    "       w(write)- writes from start of the file(overwrite).\n",
    "       a(append)- append from end of the file.\n",
    "\n",
    "read(r) mode - 1. 'r' - read only\n",
    "               2. 'r+' - read-write mode - couldn't write file if it doesn't exist.\n",
    "               3. 'rb' - read byte file (byte file is file which is not text file )\n",
    "               4. 'rb+' - read-write byte file (byte file is file which is not text file )\n",
    "               \n",
    "write(w) mode - overwrite - 1. 'w' - write only\n",
    "                            2. 'w+' - write-read mode\n",
    "                            3. 'wb' - write byte file\n",
    "                            4. 'wb+' - write-read byte file\n",
    "                            \n",
    "append(a) mode - starts dumping data without overwriting - 1.'a' - append only\n",
    "                                                           2. 'a+' - append-read\n",
    "                                                           3. 'ab' - append byte file\n",
    "                                                           4. 'ab+' - append-read byte file\n",
    "                                                          \n",
    "\n",
    "seek() - go anywhere\n",
    "        - file_name.seek(position ,from where)\n",
    "        - from where \n",
    "                - 0 - beginning(position will be +ve)\n",
    "                - 1 - current position(position will be +ve or -ve)\n",
    "                - 2 - end position(position will be -ve)\n",
    "        "
   ]
  },
  {
   "cell_type": "code",
   "execution_count": 6,
   "metadata": {
    "collapsed": true
   },
   "outputs": [],
   "source": [
    "f = open('C:\\\\Users\\\\Asif Sheikh\\\\Desktop\\\\text','w')\n",
    "f.write(\"hi hello how are you...\") #write string to the file\n",
    "f.close()\n"
   ]
  },
  {
   "cell_type": "code",
   "execution_count": null,
   "metadata": {
    "collapsed": true
   },
   "outputs": [],
   "source": [
    "f = input(\"Enter file to overwrite :  \")\n",
    "f = open('C:\\\\Users\\\\Asif Sheikh\\\\Desktop\\\\{}'.format(f),'w')\n",
    "print('Write :wq to exit and save file ')\n",
    "f.write()\n"
   ]
  },
  {
   "cell_type": "markdown",
   "metadata": {},
   "source": [
    "# readable  and writable function -"
   ]
  },
  {
   "cell_type": "code",
   "execution_count": 2,
   "metadata": {},
   "outputs": [
    {
     "name": "stdout",
     "output_type": "stream",
     "text": [
      "True\n",
      "True\n",
      "\n"
     ]
    }
   ],
   "source": [
    "f = open('hello.txt','w+')\n",
    "for var in range(10):\n",
    "    f.write(\"hello world\\n\") #writes to the file\n",
    "    \n",
    "print(f.readable()) # prints that the file is readable or not\n",
    "print(f.writable()) # prints that the file is writeable or not\n",
    "d = f.read() # reads from the file byte by byte f.read(byte) if byte is not specified then it read whole file\n",
    "print(d)\n",
    "f.close()"
   ]
  },
  {
   "cell_type": "markdown",
   "metadata": {},
   "source": [
    "# read functions -"
   ]
  },
  {
   "cell_type": "code",
   "execution_count": 14,
   "metadata": {},
   "outputs": [
    {
     "name": "stdout",
     "output_type": "stream",
     "text": [
      "hel\n",
      "lo world\n",
      "hello world\n",
      "hello world\n",
      "hello world\n",
      "hello world\n",
      "hello world\n",
      "hello world\n",
      "hello world\n",
      "hello world\n",
      "hello world\n",
      "\n"
     ]
    }
   ],
   "source": [
    "f = open('hello.txt','r')\n",
    "print(f.read(3))  #it reads whole file if f.read(byte) byte is not passed in it\n",
    "print(f.read())\n",
    "f.close()  "
   ]
  },
  {
   "cell_type": "code",
   "execution_count": 10,
   "metadata": {},
   "outputs": [
    {
     "name": "stdout",
     "output_type": "stream",
     "text": [
      "hello world\n",
      "\n"
     ]
    }
   ],
   "source": [
    "f = open('hello.txt','r')\n",
    "print(f.readline())  #it read first line\n",
    "f.close()  #for closing the file so it couldnot get corrupted"
   ]
  },
  {
   "cell_type": "code",
   "execution_count": 11,
   "metadata": {},
   "outputs": [
    {
     "name": "stdout",
     "output_type": "stream",
     "text": [
      "['hello world\\n', 'hello world\\n', 'hello world\\n', 'hello world\\n', 'hello world\\n', 'hello world\\n', 'hello world\\n', 'hello world\\n', 'hello world\\n', 'hello world\\n']\n"
     ]
    }
   ],
   "source": [
    "f = open('hello.txt','r')\n",
    "print(f.readlines())  #it reads line by line and return it in a list.\n",
    "f.close()"
   ]
  },
  {
   "cell_type": "markdown",
   "metadata": {},
   "source": [
    "# write functions-"
   ]
  },
  {
   "cell_type": "code",
   "execution_count": 27,
   "metadata": {
    "collapsed": true
   },
   "outputs": [],
   "source": [
    "f = open('hello.txt','w')\n",
    "f.write('hi,how are you....') # writes string to the file\n",
    "f.close()"
   ]
  },
  {
   "cell_type": "code",
   "execution_count": 26,
   "metadata": {},
   "outputs": [
    {
     "name": "stdout",
     "output_type": "stream",
     "text": [
      "\n",
      "hi\n"
     ]
    }
   ],
   "source": [
    "l = ['hi\\n','hello']\n",
    "f = open('hello.txt','w+')\n",
    "f.writelines(l)\n",
    "print(f.read())    # why this is not working\n",
    "f.close()"
   ]
  },
  {
   "cell_type": "markdown",
   "metadata": {
    "collapsed": true
   },
   "source": [
    "# tell , seek , name and mode function -"
   ]
  },
  {
   "cell_type": "code",
   "execution_count": 95,
   "metadata": {
    "collapsed": true
   },
   "outputs": [],
   "source": [
    "f = open('hello.txt','w')\n",
    "for var in range(10):\n",
    "    f.write('hello, how are you? i am fine thank you.\\n')  #\\n is get counted in tell function becz it is the part of string.\n",
    "f.close()"
   ]
  },
  {
   "cell_type": "code",
   "execution_count": 82,
   "metadata": {},
   "outputs": [
    {
     "name": "stdout",
     "output_type": "stream",
     "text": [
      "hello, how are you? i am fine thank you.\n",
      "hello, how are you? i am fine thank you.\n",
      "hello, how are you? i am fine thank you.\n",
      "hello, how are you? i am fine thank you.\n",
      "hello, how are you? i am fine thank you.\n",
      "hello, how are you? i am fine thank you.\n",
      "hello, how are you? i am fine thank you.\n",
      "hello, how are you? i am fine thank you.\n",
      "hello, how are you? i am fine thank you.\n",
      "hello, how are you? i am fine thank you.\n",
      "\n",
      "10\n",
      "410\n",
      "420\n",
      "hello, how are you? i am fine thank you.\n",
      "\n",
      "42\n",
      "['.\\n', 'hello, how are you? i am fine thank you.\\n', 'hello, how are you? i am fine thank you.\\n', 'hello, how are you? i am fine thank you.\\n', 'hello, how are you? i am fine thank you.\\n', 'hello, how are you? i am fine thank you.\\n', 'hello, how are you? i am fine thank you.\\n', 'hello, how are you? i am fine thank you.\\n', 'hello, how are you? i am fine thank you.\\n', 'hello, how are you? i am fine thank you.\\n']\n"
     ]
    }
   ],
   "source": [
    "f = open('hello.txt','r+')\n",
    "d = f.read()\n",
    "print(d)\n",
    "c = d.count('\\n')\n",
    "print(c) #print the count \\n \n",
    "l = len(d)\n",
    "print(l) # count \\n as 1 \n",
    "\n",
    "print(f.tell())  # tells the current location of the cursor\n",
    "f.seek(0)  # cursor now moves to location 1\n",
    "print(f.readline())\n",
    "print(f.tell())\n",
    "f.seek(39)\n",
    "#print(f.readline())  # prints .\n",
    "print(f.readlines())\n"
   ]
  },
  {
   "cell_type": "code",
   "execution_count": 76,
   "metadata": {},
   "outputs": [
    {
     "name": "stdout",
     "output_type": "stream",
     "text": [
      "file name =  hello.txt\n",
      "mode =  r+\n"
     ]
    }
   ],
   "source": [
    "print(\"file name = \", f.name)\n",
    "print(\"mode = \", f.mode)\n",
    "f.close()"
   ]
  },
  {
   "cell_type": "code",
   "execution_count": 111,
   "metadata": {},
   "outputs": [
    {
     "name": "stdout",
     "output_type": "stream",
     "text": [
      "['hi\\n', 'hi\\n', 'hi\\n', 'hi\\n', 'hi\\n', 'hi\\n', 'hi\\n', 'hi\\n', 'hi\\n', 'hi\\n']\n",
      "10\n",
      "['hi\\n', 'hi\\n', 'hi\\n', 'hi\\n', 'python is awesome\\n', 'hi\\n', 'hi\\n', 'hi\\n', 'hi\\n', 'hi\\n', 'hi\\n']\n"
     ]
    }
   ],
   "source": [
    "# for entering data at 5 th line in file\n",
    "fp = open('hi.txt','w')\n",
    "for var in range(10):\n",
    "    fp.write(\"hi\\n\")\n",
    "fp.close()\n",
    "\n",
    "fp = open('hi.txt','r')\n",
    "l = fp.readlines()\n",
    "print(l)\n",
    "fp.close()\n",
    "\n",
    "fp = open('hi.txt','w')\n",
    "leng = len(l)\n",
    "print(leng)\n",
    "l.insert(4,'python is awesome\\n')\n",
    "print(l)\n",
    "fp.writelines(l)\n",
    "fp.seek(0)\n",
    "fp.close()"
   ]
  },
  {
   "cell_type": "code",
   "execution_count": 9,
   "metadata": {},
   "outputs": [
    {
     "name": "stdout",
     "output_type": "stream",
     "text": [
      "['hi\\n', 'hi\\n', 'hi\\n', 'hi\\n', 'hi\\n', 'hi\\n', 'hi\\n', 'hi\\n', 'hi\\n', 'hi\\n']\n"
     ]
    }
   ],
   "source": [
    "#printing counting in front of lines.\n",
    "\n",
    "fp = open('hl.txt','w')\n",
    "for var in range(10):\n",
    "    fp.write(\"hi\\n\")\n",
    "fp.close()\n",
    "\n",
    "fp = open('hl.txt','r+') \n",
    "l = fp.readlines()\n",
    "fp.close()\n",
    "\n",
    "print(l)\n",
    "\n",
    "fp = open('hl.txt','w')\n",
    "c = 1\n",
    "for var in l:\n",
    "    var = str(c) +'.'+ var\n",
    "    fp.write(var)\n",
    "    c = c+1\n",
    "fp.close()\n"
   ]
  },
  {
   "cell_type": "code",
   "execution_count": 1,
   "metadata": {},
   "outputs": [
    {
     "name": "stdout",
     "output_type": "stream",
     "text": [
      "1.hi\n",
      "2.hi\n",
      "3.hi\n",
      "4.hi\n",
      "5.hi\n",
      "6.hi\n",
      "7.hi\n",
      "8.hi\n",
      "9.hi\n",
      "10.hi\n",
      "\n"
     ]
    }
   ],
   "source": [
    "fp = open('hl.txt','r')\n",
    "d=fp.read()\n",
    "print(d)"
   ]
  },
  {
   "cell_type": "code",
   "execution_count": null,
   "metadata": {
    "collapsed": true
   },
   "outputs": [],
   "source": []
  }
 ],
 "metadata": {
  "kernelspec": {
   "display_name": "Python 3",
   "language": "python",
   "name": "python3"
  },
  "language_info": {
   "codemirror_mode": {
    "name": "ipython",
    "version": 3
   },
   "file_extension": ".py",
   "mimetype": "text/x-python",
   "name": "python",
   "nbconvert_exporter": "python",
   "pygments_lexer": "ipython3",
   "version": "3.6.3"
  }
 },
 "nbformat": 4,
 "nbformat_minor": 2
}
