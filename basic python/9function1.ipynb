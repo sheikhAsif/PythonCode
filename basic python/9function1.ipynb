{
 "cells": [
  {
   "cell_type": "markdown",
   "metadata": {},
   "source": [
    "# Functions -"
   ]
  },
  {
   "cell_type": "raw",
   "metadata": {},
   "source": [
    "1.definition - set of statements for doing specific task.\n",
    "2.calling\n",
    "\n",
    "def function_name(arguments):\n",
    "    stament 1\n",
    "    ...\n",
    "    stament n\n",
    "    return(_)\n",
    "    \n",
    "python has only call by value.\n"
   ]
  },
  {
   "cell_type": "code",
   "execution_count": 1,
   "metadata": {
    "collapsed": true
   },
   "outputs": [],
   "source": [
    "def hello():\n",
    "    name = input(\"Enter your name :\")\n",
    "    print(\"Welcome {} to the python functions.\".format(name))  #by default return none"
   ]
  },
  {
   "cell_type": "code",
   "execution_count": 2,
   "metadata": {},
   "outputs": [
    {
     "name": "stdout",
     "output_type": "stream",
     "text": [
      "function calling starts\n",
      "Enter your name :asif\n",
      "Welcome asif to the python functions.\n",
      "function calling ends\n",
      "None\n"
     ]
    }
   ],
   "source": [
    "print(\"function calling starts\")\n",
    "x = hello()\n",
    "print(\"function calling ends\")\n",
    "print(x) #return none by default"
   ]
  },
  {
   "cell_type": "code",
   "execution_count": 1,
   "metadata": {
    "collapsed": true
   },
   "outputs": [],
   "source": [
    "#calculator\n",
    "\n",
    "def calc(x,y,ch):\n",
    "    ch = ch.strip()\n",
    "    if ch == '+' :\n",
    "        return x + y\n",
    "    elif ch == '-' :\n",
    "        return x - y \n",
    "    elif ch == '*' :\n",
    "        return x * y\n",
    "    elif ch == '/' or ch == '//' or ch == '%' :\n",
    "        if y == 0 :\n",
    "            return \"Number cannot divide by zero\"\n",
    "        else :\n",
    "            if ch == '/' :\n",
    "                return x / y\n",
    "            elif ch == '//' :\n",
    "                return x // y\n",
    "            else :\n",
    "                return x % y\n",
    "    elif ch == '**' :\n",
    "        return x ** y\n",
    "    else :\n",
    "        return 'invalid!! operation.'\n",
    "        "
   ]
  },
  {
   "cell_type": "code",
   "execution_count": 2,
   "metadata": {},
   "outputs": [
    {
     "name": "stdout",
     "output_type": "stream",
     "text": [
      "Number cannot divide by zero\n"
     ]
    }
   ],
   "source": [
    "x = calc(5,0,'%')\n",
    "print(x)"
   ]
  },
  {
   "cell_type": "code",
   "execution_count": 5,
   "metadata": {},
   "outputs": [
    {
     "name": "stdout",
     "output_type": "stream",
     "text": [
      "Do you want run calc program : a\n",
      "************************************************** \n",
      "Welcome to calc program\n",
      " **************************************************\n",
      "\n",
      "\n",
      "X : 20\n",
      "Y : 12\n",
      "Operations (+,-,*,/,//,%,**) : **\n",
      "Result : 4096000000000000 \n",
      "Do you want run calc program : \n"
     ]
    }
   ],
   "source": [
    "while input(\"Do you want run calc program : \"):\n",
    "    print(\"*\" * 50,'\\nWelcome to calc program\\n','*'*50)\n",
    "    p = int(input(\"\\n\\nX : \"))\n",
    "    q = int(input(\"Y : \"))\n",
    "    user_choice = input(\"Operations (+,-,*,/,//,%,**) : \")\n",
    "    result = calc(p,q,user_choice)\n",
    "    print(\"Result : %s \"%(result))\n",
    "    "
   ]
  },
  {
   "cell_type": "code",
   "execution_count": 8,
   "metadata": {
    "collapsed": true
   },
   "outputs": [],
   "source": [
    "def convert_Dict(p,q,r,s) : # ('name','python'),('hello','world')\n",
    "    \"\"\"convert_Dict(p,q,r,s)-> This function takes 4 tuples with two values each.\n",
    "    and return dictionary.\"\"\"\n",
    "    l = [p,q,r,s] # [('name','python'),('hello','world'),(...,...),(...,...)]\n",
    "    d = dict(l)\n",
    "    return d\n"
   ]
  },
  {
   "cell_type": "code",
   "execution_count": 10,
   "metadata": {},
   "outputs": [
    {
     "name": "stdout",
     "output_type": "stream",
     "text": [
      "give input as key = value :\n",
      "\n",
      "\n",
      "1st entry : ki=ka\n",
      "2nd entry : li=la\n",
      "3rd entry : ki=kp\n",
      "4th entry : pi=pa\n",
      "Doc =  convert_Dict(p,q,r,s)-> This function takes 4 tuples with two values each.\n",
      "    and return dictionary.\n",
      "('ki', 'ka')\n",
      "<class 'dict'>\n",
      "{'ki': 'kp', 'li': 'la', 'pi': 'pa'}\n"
     ]
    }
   ],
   "source": [
    "print(\"give input as key = value :\\n\\n\")\n",
    "e1 = input(\"1st entry : \").split('=')# 'name'='python'.stirp('=')\n",
    "e1 = tuple(e1)\n",
    "e2 = input(\"2nd entry : \").split('=') \n",
    "e2 = tuple(e2)\n",
    "e3 = input(\"3rd entry : \").split('=')\n",
    "e3 = tuple(e3)\n",
    "e4 = input(\"4th entry : \").split('=')\n",
    "e4 = tuple(e4)\n",
    "print(\"Doc = \",convert_Dict.__doc__)\n",
    "st1 = convert_Dict(e1,e2,e3,e4)\n",
    "print(type(st1))\n",
    "print(st1)"
   ]
  },
  {
   "cell_type": "code",
   "execution_count": 12,
   "metadata": {},
   "outputs": [
    {
     "name": "stdout",
     "output_type": "stream",
     "text": [
      "Enter a string : asif\n",
      "fisa\n",
      "Enter a list space sperated : 1  2 3 4 5 6 7\n",
      "['7', '6', '5', '4', '3', '2', '1']\n"
     ]
    }
   ],
   "source": [
    "def reverse(string):\n",
    "    return string[::-1]\n",
    "s = reverse(input(\"Enter a string : \"))\n",
    "print(s)\n",
    "s = reverse(input(\"Enter a list space sperated : \").split())\n",
    "print(s)"
   ]
  },
  {
   "cell_type": "code",
   "execution_count": 16,
   "metadata": {},
   "outputs": [
    {
     "name": "stdout",
     "output_type": "stream",
     "text": [
      "Enter x :6\n",
      "Enter y :7\n",
      "x : 7 \n",
      "y : 6\n"
     ]
    }
   ],
   "source": [
    "def swap(x,y):\n",
    "    return y,x\n",
    "x,y = int(input(\"Enter x :\")),int(input(\"Enter y :\"))\n",
    "x,y = swap(x,y)\n",
    "print(\"x :\",x,\"\\ny :\",y)"
   ]
  },
  {
   "cell_type": "raw",
   "metadata": {},
   "source": [
    "Types of argument :\n",
    "    1.postional argument\n",
    "    2.keyword argument\n",
    "    3.default argument\n",
    "    \n",
    "    function first check position then keyword then default value for passing."
   ]
  },
  {
   "cell_type": "code",
   "execution_count": 17,
   "metadata": {},
   "outputs": [
    {
     "name": "stdout",
     "output_type": "stream",
     "text": [
      "81\n"
     ]
    }
   ],
   "source": [
    "# POSITIONAl ARGUMENT\n",
    "def pow(x,y):\n",
    "    return x**y\n",
    "x = pow(3,4) #positional argument becz value goes in accordance to position\n",
    "print(x)"
   ]
  },
  {
   "cell_type": "code",
   "execution_count": 18,
   "metadata": {},
   "outputs": [
    {
     "name": "stdout",
     "output_type": "stream",
     "text": [
      "4\n"
     ]
    }
   ],
   "source": [
    "# KEYWORD ARGUMENT\n",
    "r = pow(y=2,x=2)\n",
    "print(r)  #keyword argument"
   ]
  },
  {
   "cell_type": "code",
   "execution_count": 19,
   "metadata": {
    "collapsed": true
   },
   "outputs": [],
   "source": [
    "# DEFAULT ARGUMENT\n",
    "def pow(x,y=1):  formal argument\n",
    "    return x**y"
   ]
  },
  {
   "cell_type": "code",
   "execution_count": 20,
   "metadata": {},
   "outputs": [
    {
     "name": "stdout",
     "output_type": "stream",
     "text": [
      "2\n",
      "8\n",
      "1\n",
      "243\n"
     ]
    }
   ],
   "source": [
    "k = pow(2)\n",
    "p = pow(2,3) #actual aargument\n",
    "print(k)\n",
    "print(p)\n",
    "print(pow(y=2,x=1))\n",
    "print(pow(3,y=5))\n",
    "#print(pow(y=5,3))  wrong throw error"
   ]
  },
  {
   "cell_type": "code",
   "execution_count": 4,
   "metadata": {},
   "outputs": [
    {
     "name": "stdout",
     "output_type": "stream",
     "text": [
      "()\n",
      "0\n",
      "(1,)\n",
      "1\n",
      "(1, 2)\n",
      "3\n",
      "(1, 2, 3, 4, 5, 6)\n",
      "21\n"
     ]
    }
   ],
   "source": [
    "def add(*args):\n",
    "    print(args)\n",
    "    return sum(args)\n",
    "\n",
    "print(add())\n",
    "print(add(1))\n",
    "print(add(1,2))\n",
    "print(add(1,2,3,4,5,6))"
   ]
  },
  {
   "cell_type": "code",
   "execution_count": 5,
   "metadata": {},
   "outputs": [
    {
     "name": "stdout",
     "output_type": "stream",
     "text": [
      "<class 'tuple'>\n",
      "value 1 : one\n",
      "value 2 : two\n",
      "\n",
      "\n",
      "\n",
      "<class 'tuple'>\n",
      "value 1 : hello\n",
      "value 2 : hi\n",
      "value 3 : how\n",
      "value 4 : are\n",
      "value 5 : you\n"
     ]
    }
   ],
   "source": [
    "def info(*args):\n",
    "    print(type(args))\n",
    "    c = 1\n",
    "    for var in args :\n",
    "        print(\"value {} : {}\".format(c,var))\n",
    "        c = c + 1\n",
    "info('one','two')\n",
    "print('\\n\\n')\n",
    "info('hello','hi','how','are','you')\n"
   ]
  },
  {
   "cell_type": "code",
   "execution_count": 8,
   "metadata": {},
   "outputs": [
    {
     "name": "stdout",
     "output_type": "stream",
     "text": [
      "<class 'dict'>\n",
      "name = sachin\n",
      "\n",
      "<class 'dict'>\n",
      "name = python\n",
      "framework = ['django', 'flask']\n",
      "\n",
      "Enter your name : aasif\n",
      "Enter your address : jec\n",
      "{'name': 'aasif', 'addr': 'jec'}\n"
     ]
    }
   ],
   "source": [
    "def info(**kwargs):\n",
    "    print(type(kwargs))\n",
    "    for key,value in kwargs.items():\n",
    "        print(\"{} = {}\".format(key,value))\n",
    "info(name='sachin')\n",
    "print()\n",
    "info(name='python',framework=['django','flask'])\n",
    "print()\n",
    "\n",
    "def info(**info):\n",
    "    return info\n",
    "\n",
    "st1 = info(name=input(\"Enter your name : \"),addr = input(\"Enter your address : \"))\n",
    "print(st1)"
   ]
  },
  {
   "cell_type": "code",
   "execution_count": 18,
   "metadata": {
    "collapsed": true
   },
   "outputs": [],
   "source": [
    "def fun(x,y=0,*mytuple):\n",
    "    print(\"\\npositional argument : \",x)\n",
    "    print(\"\\ndefault argument : \",y)\n",
    "    print(\"\\nhere is your var length arguments : \")\n",
    "    c = 1\n",
    "    for var in mytuple :\n",
    "        print(\"{} arg = {}\".format(c,var))\n",
    "        c = c+1"
   ]
  },
  {
   "cell_type": "code",
   "execution_count": 16,
   "metadata": {},
   "outputs": [
    {
     "name": "stdout",
     "output_type": "stream",
     "text": [
      "\n",
      "positional argument :  1\n",
      "\n",
      "default argument :  0\n",
      "\n",
      "here is your var length arguments : \n",
      "\n",
      "positional argument :  1\n",
      "\n",
      "default argument :  2\n",
      "\n",
      "here is your var length arguments : \n",
      "\n",
      "positional argument :  1\n",
      "\n",
      "default argument :  2\n",
      "\n",
      "here is your var length arguments : \n",
      "1 arg = 3\n",
      "2 arg = 4\n",
      "3 arg = 5\n",
      "4 arg = 6\n",
      "5 arg = 7\n"
     ]
    }
   ],
   "source": [
    "fun(1)\n",
    "fun(1,2)\n",
    "fun(1,2,3,4,5,6,7)"
   ]
  },
  {
   "cell_type": "code",
   "execution_count": 19,
   "metadata": {},
   "outputs": [
    {
     "name": "stdout",
     "output_type": "stream",
     "text": [
      "(1, 2, 3)\n",
      "(4, 5, 6, 7, 8, 'hello', 'hi', 'bye')\n"
     ]
    }
   ],
   "source": [
    "def fun1(*args):\n",
    "    print(args)\n",
    "fun1(1,2,3)\n",
    "fun1(4,5,6,7,8,'hello','hi','bye')"
   ]
  },
  {
   "cell_type": "code",
   "execution_count": 29,
   "metadata": {},
   "outputs": [
    {
     "name": "stdout",
     "output_type": "stream",
     "text": [
      "15\n",
      "21\n"
     ]
    }
   ],
   "source": [
    "def mysum(*args):\n",
    "    return sum(args)\n",
    "\n",
    "print(mysum(1,2,3,4,5))\n",
    "print(mysum(1,2,3,4,5,6))"
   ]
  },
  {
   "cell_type": "code",
   "execution_count": 32,
   "metadata": {},
   "outputs": [
    {
     "name": "stdout",
     "output_type": "stream",
     "text": [
      "<class 'dict'>\n",
      "name = sachin \n",
      "<class 'dict'>\n",
      "one = 1 \n",
      "two = 2 \n",
      "three = 3 \n"
     ]
    }
   ],
   "source": [
    "def info(**mydict):\n",
    "    print(type(mydict))\n",
    "    for key,value in mydict.items():\n",
    "        print(\"{} = {} \".format(key,value))\n",
    "\n",
    "info(name = 'sachin')\n",
    "\n",
    "info(one=1,two=2,three=3)"
   ]
  },
  {
   "cell_type": "code",
   "execution_count": 33,
   "metadata": {},
   "outputs": [
    {
     "name": "stdout",
     "output_type": "stream",
     "text": [
      "<class 'dict'>\n",
      "hi = hello \n",
      "bye = bye bye \n"
     ]
    }
   ],
   "source": [
    "d = {\n",
    "    'hi':'hello',\n",
    "    'bye':'bye bye'\n",
    "}\n",
    "info(**d)"
   ]
  },
  {
   "cell_type": "code",
   "execution_count": 34,
   "metadata": {},
   "outputs": [
    {
     "name": "stdout",
     "output_type": "stream",
     "text": [
      "<class 'dict'>\n",
      "user = ['ram', 'sam', 'vijay'] \n",
      "acc = [1001, 1002, 1003] \n",
      "password = ['grras@123', 'something', 'redhat'] \n",
      "balance = [10000.23, 20000.45, 124322.234] \n"
     ]
    }
   ],
   "source": [
    "bank = {\"user\":[\"ram\",\"sam\",\"vijay\"],\"acc\":[1001,1002,1003], \"password\": [\"grras@123\", \"something\", \"redhat\"], \"balance\": [10000.23, 20000.45, 124322.234]}\n",
    "info(**bank)"
   ]
  },
  {
   "cell_type": "markdown",
   "metadata": {},
   "source": [
    "# recursion-"
   ]
  },
  {
   "cell_type": "code",
   "execution_count": 1,
   "metadata": {},
   "outputs": [
    {
     "name": "stdout",
     "output_type": "stream",
     "text": [
      "Enter a no to calculate factorial : 5\n",
      "time taken =  0.0\n"
     ]
    }
   ],
   "source": [
    "#recusion\n",
    "#factorial\n",
    "import time\n",
    "num = int(input(\"Enter a no to calculate factorial : \"))\n",
    "c = time.time()\n",
    "s = 1\n",
    "for var in range(1,num+1):\n",
    "    s = s * var\n",
    "n = time.time()\n",
    "print(\"time taken = \",n-c)"
   ]
  },
  {
   "cell_type": "code",
   "execution_count": 3,
   "metadata": {},
   "outputs": [
    {
     "name": "stdout",
     "output_type": "stream",
     "text": [
      "taken time :  0.0010008811950683594\n"
     ]
    }
   ],
   "source": [
    "#import sys\n",
    "#sys.setrecursionlimit(9999)\n",
    "import time\n",
    "def fact(num):\n",
    "    if num == 1:\n",
    "        return 1\n",
    "    return num*fact(num-1)\n",
    "\n",
    "c = time.time()\n",
    "r = fact(299)\n",
    "n = time.time()\n",
    "print(\"taken time : \",n-c)"
   ]
  },
  {
   "cell_type": "raw",
   "metadata": {},
   "source": [
    "1. function memory is local time means when function returns, memory is get cleaned.\n",
    "2. recursion are time saving but space consuming.\n",
    "3. we consider time coplexity and ignore space complexity."
   ]
  },
  {
   "cell_type": "markdown",
   "metadata": {},
   "source": [
    "# Hash function -"
   ]
  },
  {
   "cell_type": "code",
   "execution_count": 1,
   "metadata": {},
   "outputs": [
    {
     "name": "stdout",
     "output_type": "stream",
     "text": [
      "-14564427693791970\n"
     ]
    }
   ],
   "source": [
    "t = (1,2,3)\n",
    "t1 = (4,5,6)\n",
    "h = hash(t+t1)\n",
    "print(h)"
   ]
  },
  {
   "cell_type": "code",
   "execution_count": null,
   "metadata": {
    "collapsed": true
   },
   "outputs": [],
   "source": []
  }
 ],
 "metadata": {
  "kernelspec": {
   "display_name": "Python 3",
   "language": "python",
   "name": "python3"
  },
  "language_info": {
   "codemirror_mode": {
    "name": "ipython",
    "version": 3
   },
   "file_extension": ".py",
   "mimetype": "text/x-python",
   "name": "python",
   "nbconvert_exporter": "python",
   "pygments_lexer": "ipython3",
   "version": "3.6.5"
  }
 },
 "nbformat": 4,
 "nbformat_minor": 2
}
