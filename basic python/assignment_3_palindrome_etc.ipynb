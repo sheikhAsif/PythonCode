{
 "cells": [
  {
   "cell_type": "markdown",
   "metadata": {},
   "source": [
    "# palindrome"
   ]
  },
  {
   "cell_type": "code",
   "execution_count": 10,
   "metadata": {},
   "outputs": [
    {
     "name": "stdout",
     "output_type": "stream",
     "text": [
      "Enter a number you want to check palindrome or not : 1500\n",
      "1500 is not palindrome\n"
     ]
    }
   ],
   "source": [
    "num = int(input(\"Enter a number you want to check palindrome or not : \"))\n",
    "res = 0\n",
    "org = num\n",
    "while num > 0 :\n",
    "    rem = num % 10\n",
    "    res = res * 10 + rem\n",
    "    num = num // 10\n",
    "if org == res :\n",
    "    print(\"{} is palindrome\".format(org))\n",
    "else :\n",
    "    print(\"{} is not palindrome\".format(org))\n"
   ]
  },
  {
   "cell_type": "markdown",
   "metadata": {},
   "source": [
    "# armstrong"
   ]
  },
  {
   "cell_type": "code",
   "execution_count": 22,
   "metadata": {},
   "outputs": [
    {
     "name": "stdout",
     "output_type": "stream",
     "text": [
      "Enter a number you want to check armstrong or not : 2\n",
      "2 number is armstrong\n"
     ]
    }
   ],
   "source": [
    "#check from input\n",
    "\n",
    "num = int(input(\"Enter a number you want to check armstrong or not : \"))\n",
    "res = 0\n",
    "count = 0\n",
    "org = num\n",
    "dgt_cntr = num\n",
    "while dgt_cntr > 0:\n",
    "    dgt_cntr = dgt_cntr // 10\n",
    "    count = count + 1\n",
    "while num > 0 :\n",
    "    rem = num % 10\n",
    "    res = res +( rem ** count )\n",
    "    num = num // 10\n",
    "if org == res :\n",
    "    print(\"{} number is armstrong\".format(org))\n",
    "else :\n",
    "    print(\"{} number is not armstrong number\".format(org))"
   ]
  },
  {
   "cell_type": "code",
   "execution_count": 15,
   "metadata": {},
   "outputs": [
    {
     "name": "stdout",
     "output_type": "stream",
     "text": [
      "Enter start point from you want to get armstrong number : 1\n",
      "Enter end point upto you want to get armstrong number : 100\n",
      "1, 2, 3, 4, 5, 6, 7, 8, 9, 25, 36, "
     ]
    }
   ],
   "source": [
    "#print armstrong by taking start point and upto  end point\n",
    "\n",
    "strt_num = int(input(\"Enter start point from you want to get armstrong number : \"))\n",
    "end_num = int(input(\"Enter end point upto you want to get armstrong number : \"))\n",
    "num = strt_num\n",
    "while end_num > num :\n",
    "    res = 0\n",
    "    count = 0\n",
    "    strt_num = num\n",
    "    dgt_cntr = strt_num\n",
    "    org = strt_num\n",
    "    while dgt_cntr > 0:\n",
    "        dgt_cntr = dgt_cntr // 10\n",
    "        count = count + 1  \n",
    "    rem = strt_num % 10\n",
    "    res = res + ( rem ** count )\n",
    "    strt_num = strt_num // 10\n",
    "    num = num + 1\n",
    "    if org == res :\n",
    "        print(\"{}\".format(org),end=\", \")\n",
    "    else :\n",
    "        continue\n",
    "        "
   ]
  },
  {
   "cell_type": "markdown",
   "metadata": {},
   "source": [
    "# prime number"
   ]
  },
  {
   "cell_type": "code",
   "execution_count": 5,
   "metadata": {},
   "outputs": [
    {
     "name": "stdout",
     "output_type": "stream",
     "text": [
      "Enter a number to check prime or not : 15907\n",
      "your number is prime\n"
     ]
    }
   ],
   "source": [
    "#check input is prime or not\n",
    "num = int(input(\"Enter a number to check prime or not : \"))\n",
    "i = 2\n",
    "flag = 0\n",
    "while num > i :\n",
    "    if num % i == 0:\n",
    "        flag = 1\n",
    "    i = i + 1\n",
    "if flag == 0:\n",
    "    print(\"your number is prime\")\n",
    "else:\n",
    "    print(\"your number is not prime\")\n",
    "    \n",
    "    "
   ]
  },
  {
   "cell_type": "code",
   "execution_count": 1,
   "metadata": {},
   "outputs": [
    {
     "name": "stdout",
     "output_type": "stream",
     "text": [
      "Enter a number : 12907\n",
      "prime\n"
     ]
    }
   ],
   "source": [
    "# checking prime or not by square root method\n",
    "num = int(input(\"Enter a number : \"))\n",
    "if num <= 1 :\n",
    "    print(\"not prime\")\n",
    "    print(\"error this is not valid input to check prime\")\n",
    "    exit(0)\n",
    "elif num<=3 :\n",
    "    print(\"prime\")\n",
    "    exit(0)\n",
    "check = 2\n",
    "import math\n",
    "sq = math.sqrt(num)\n",
    "sq = int(sq)+1\n",
    "\n",
    "while check <= sq :\n",
    "    \n",
    "    k = num % check\n",
    "    if k == 0:\n",
    "        print(\"not prime\")\n",
    "        break\n",
    "    elif  check == sq :\n",
    "        print(\"prime\")\n",
    "    check = check + 1"
   ]
  },
  {
   "cell_type": "code",
   "execution_count": 1,
   "metadata": {
    "scrolled": true
   },
   "outputs": [
    {
     "name": "stdout",
     "output_type": "stream",
     "text": [
      "Enter start point : 1000\n",
      "Enter end point : 2000\n",
      "1009\t1013\t1019\t1021\t1031\t1033\t1039\t1049\t1051\t1061\t1063\t1069\t1087\t1091\t1093\t1097\t1103\t1109\t1117\t1123\t1129\t1151\t1153\t1163\t1171\t1181\t1187\t1193\t1201\t1213\t1217\t1223\t1229\t1231\t1237\t1249\t1259\t1277\t1279\t1283\t1289\t1291\t1297\t1301\t1303\t1307\t1319\t1321\t1327\t1361\t1367\t1373\t1381\t1399\t1409\t1423\t1427\t1429\t1433\t1439\t1447\t1451\t1453\t1459\t1471\t1481\t1483\t1487\t1489\t1493\t1499\t1511\t1523\t1531\t1543\t1549\t1553\t1559\t1567\t1571\t1579\t1583\t1597\t1601\t1607\t1609\t1613\t1619\t1621\t1627\t1637\t1657\t1663\t1667\t1669\t1693\t1697\t1699\t1709\t1721\t1723\t1733\t1741\t1747\t1753\t1759\t1777\t1783\t1787\t1789\t1801\t1811\t1823\t1831\t1847\t1861\t1867\t1871\t1873\t1877\t1879\t1889\t1901\t1907\t1913\t1931\t1933\t1949\t1951\t1973\t1979\t1987\t1993\t1997\t1999\t"
     ]
    }
   ],
   "source": [
    "#printing n prime numbers\n",
    "import math\n",
    "s = int(input(\"Enter start point : \"))\n",
    "e = int(input(\"Enter end point : \"))\n",
    "while s <= e :\n",
    "    num = s\n",
    "    if num <= 1:\n",
    "        exit(0)\n",
    "    elif num <= 2 :\n",
    "        print(num,end=\"\\t\")\n",
    "        exit(0)\n",
    "    check = 2\n",
    "    sq = math.sqrt(num)\n",
    "    sq = int(sq)+1\n",
    "    \n",
    "    while check <= sq :\n",
    "        \n",
    "        k = num % check\n",
    "        if k == 0 :\n",
    "            break\n",
    "        elif check == sq :\n",
    "            print(num,end=('\\t'))\n",
    "        check = check + 1\n",
    "    s = s + 1\n",
    "        "
   ]
  },
  {
   "cell_type": "code",
   "execution_count": null,
   "metadata": {
    "collapsed": true
   },
   "outputs": [],
   "source": []
  }
 ],
 "metadata": {
  "kernelspec": {
   "display_name": "Python 3",
   "language": "python",
   "name": "python3"
  },
  "language_info": {
   "codemirror_mode": {
    "name": "ipython",
    "version": 3
   },
   "file_extension": ".py",
   "mimetype": "text/x-python",
   "name": "python",
   "nbconvert_exporter": "python",
   "pygments_lexer": "ipython3",
   "version": "3.6.3"
  }
 },
 "nbformat": 4,
 "nbformat_minor": 2
}
