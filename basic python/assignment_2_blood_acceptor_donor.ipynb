{
 "cells": [
  {
   "cell_type": "code",
   "execution_count": 6,
   "metadata": {},
   "outputs": [
    {
     "name": "stdout",
     "output_type": "stream",
     "text": [
      "\t\tWELLCOME TO BLOOD ACCEPTOR DONOR CHECKER\n",
      "Enter the bloodgroup for you want to check acceptance : ab+\n",
      "Enter the bloodgroup for you want to check donation : o\n"
     ]
    }
   ],
   "source": [
    "#Blood group donor-acceptor checker\n",
    "data_dict_donor = { 'A' : {'A+' : ['A+','AB+'], \n",
    "                           'A-' : ['A+','A-','AB+','AB-']},\n",
    "                    'B' : {'B+' : ['B+','AB+'],\n",
    "                           'B-' : ['B+','B-','AB+','AB-']},\n",
    "                    'O' : {'O+' : ['O+','A+','B+','AB+'],\n",
    "                           'O-' : ['O-','O+','A+','A-','B+','B-','AB+','AB-']},\n",
    "                    'AB' : {'AB+' : ['AB+'],\n",
    "                            'AB-' : ['AB+','AB-']}}\n",
    "\n",
    "data_dict_acceptor = { 'A' : {'A+' : ['A+','A-','O+','O-'], \n",
    "                              'A-' :  ['A-','O-']},\n",
    "                       'B' : {'B+' : ['B+','B-','O+','O-'],\n",
    "                              'B-' : ['O-','B-']},\n",
    "                       'O' : {'O+' : ['O+','O-'],\n",
    "                              'O-' : ['O-']},\n",
    "                       'AB' : {'AB+' : ['A+','B+','O+','AB+','A-','B-','O-','AB-'],\n",
    "                               'AB-' : ['A-','AB-','B-','O-']}}\n",
    "print(\"\\t\\tWELLCOME TO BLOOD ACCEPTOR DONOR CHECKER\")\n",
    "acc = input(\"Enter the bloodgroup for you want to check acceptance : \").upper().strip()\n",
    "don = input(\"Enter the bloodgroup for you want to check donation : \").upper().strip()\n",
    "\n",
    "\n",
    "\n",
    "\n",
    "\n",
    "\n",
    "\n",
    "\n",
    "\n",
    "\n",
    "\n",
    "\n",
    "\n"
   ]
  },
  {
   "cell_type": "code",
   "execution_count": null,
   "metadata": {
    "collapsed": true
   },
   "outputs": [],
   "source": []
  },
  {
   "cell_type": "code",
   "execution_count": null,
   "metadata": {
    "collapsed": true
   },
   "outputs": [],
   "source": []
  }
 ],
 "metadata": {
  "kernelspec": {
   "display_name": "Python 3",
   "language": "python",
   "name": "python3"
  },
  "language_info": {
   "codemirror_mode": {
    "name": "ipython",
    "version": 3
   },
   "file_extension": ".py",
   "mimetype": "text/x-python",
   "name": "python",
   "nbconvert_exporter": "python",
   "pygments_lexer": "ipython3",
   "version": "3.6.3"
  }
 },
 "nbformat": 4,
 "nbformat_minor": 2
}
