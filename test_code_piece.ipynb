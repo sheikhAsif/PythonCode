{
 "cells": [
  {
   "cell_type": "code",
   "execution_count": 3,
   "metadata": {},
   "outputs": [
    {
     "name": "stdout",
     "output_type": "stream",
     "text": [
      "{'k': [1, 2, 3, 4]}\n",
      "4\n"
     ]
    }
   ],
   "source": [
    "d = {\n",
    "    'k' : [1,2,3]\n",
    "    \n",
    "    \n",
    "}\n",
    "d['k'].append(4)\n",
    "l=len(d['k'])\n",
    "print(d)\n",
    "print(l)"
   ]
  },
  {
   "cell_type": "code",
   "execution_count": 14,
   "metadata": {},
   "outputs": [
    {
     "name": "stdout",
     "output_type": "stream",
     "text": [
      "1\n",
      "{'acc': ['kick', 'mick']}\n"
     ]
    }
   ],
   "source": [
    "d = {'acc':['kick','pick']}\n",
    "index = d['acc'].index('pick')\n",
    "print(index)\n",
    "d['acc'][index] = 'mick'\n",
    "print(d)"
   ]
  },
  {
   "cell_type": "code",
   "execution_count": null,
   "metadata": {
    "collapsed": true
   },
   "outputs": [],
   "source": []
  }
 ],
 "metadata": {
  "kernelspec": {
   "display_name": "Python 3",
   "language": "python",
   "name": "python3"
  },
  "language_info": {
   "codemirror_mode": {
    "name": "ipython",
    "version": 3
   },
   "file_extension": ".py",
   "mimetype": "text/x-python",
   "name": "python",
   "nbconvert_exporter": "python",
   "pygments_lexer": "ipython3",
   "version": "3.6.3"
  }
 },
 "nbformat": 4,
 "nbformat_minor": 2
}
