{
 "cells": [
  {
   "cell_type": "code",
   "execution_count": 4,
   "metadata": {},
   "outputs": [
    {
     "name": "stdout",
     "output_type": "stream",
     "text": [
      "x x x\n",
      "x x x\n",
      "x x x\n",
      "PLAYER 1 (0)\n",
      "Enter x axis : 1\n",
      "Enter y axis : 1\n",
      "PLAYER 2 (X)\n",
      "Enter x axis : 2\n",
      "Enter y axis : 2\n",
      "x x x\n",
      "x 0 x\n",
      "x x 1\n"
     ]
    }
   ],
   "source": [
    "l = [\n",
    "    ['x','x','x'],\n",
    "    ['x','x','x'],\n",
    "    ['x','x','x'] \n",
    "]\n",
    "for var in l :\n",
    "    print(*var)\n",
    "\n",
    "print(\"PLAYER 1 (0)\")\n",
    "x1 = int(input(\"Enter x axis : \"))\n",
    "y1 = int(input(\"Enter y axis : \"))\n",
    "\n",
    "l[x1][y1] = '0'\n",
    "\n",
    "print(\"PLAYER 2 (X)\")\n",
    "x2 = int(input(\"Enter x axis : \"))\n",
    "y2 = int(input(\"Enter y axis : \"))\n",
    "\n",
    "l[x2][y2] = '1'\n",
    "\n",
    "for var in l :\n",
    "    print(*var)"
   ]
  },
  {
   "cell_type": "code",
   "execution_count": null,
   "metadata": {
    "collapsed": true
   },
   "outputs": [],
   "source": []
  },
  {
   "cell_type": "code",
   "execution_count": null,
   "metadata": {
    "collapsed": true
   },
   "outputs": [],
   "source": []
  }
 ],
 "metadata": {
  "kernelspec": {
   "display_name": "Python 3",
   "language": "python",
   "name": "python3"
  },
  "language_info": {
   "codemirror_mode": {
    "name": "ipython",
    "version": 3
   },
   "file_extension": ".py",
   "mimetype": "text/x-python",
   "name": "python",
   "nbconvert_exporter": "python",
   "pygments_lexer": "ipython3",
   "version": "3.6.3"
  }
 },
 "nbformat": 4,
 "nbformat_minor": 2
}
