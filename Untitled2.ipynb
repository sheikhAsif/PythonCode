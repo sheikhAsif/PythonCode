{
 "cells": [
  {
   "cell_type": "code",
   "execution_count": 1,
   "metadata": {
    "collapsed": true
   },
   "outputs": [],
   "source": [
    "class Car():\n",
    "    \"\"\"Hi this is car class\"\"\"\n",
    "    name = \"car\"\n",
    "    def __init__(self,model,brand,color):\n",
    "        self.model = model\n",
    "        self.brand = brand\n",
    "        self.color = color\n",
    "    def show(self):\n",
    "        print(\"Brand = \",self.brand)\n",
    "        print(\"Model = \",self.model)\n",
    "        print(\"Color = \",self.color)\n",
    "    def change(self,brand,color,model):\n",
    "        self.brand = brand\n",
    "        self.color = color\n",
    "        self.model = model\n",
    "    def __str__(self):\n",
    "        return \"Hi i am {}\".format(self.name)\n",
    "    "
   ]
  },
  {
   "cell_type": "code",
   "execution_count": 2,
   "metadata": {
    "collapsed": true
   },
   "outputs": [],
   "source": [
    "obj = Car(2018,\"a\",\"b\")"
   ]
  },
  {
   "cell_type": "code",
   "execution_count": 3,
   "metadata": {
    "collapsed": true
   },
   "outputs": [],
   "source": [
    "import time\n",
    "class NewCar(Car):\n",
    "    def __init__(self,brand,model,color,name,speed,gear):\n",
    "        Car.__init__(self,model,brand,color)\n",
    "        self.name = name\n",
    "        self.speed = speed\n",
    "        self.gear = gear\n",
    "    def show(self):\n",
    "        print(\"Name = \",self.name)\n",
    "        Car.show(self)\n",
    "        print(\"Speed = \",self.speed)\n",
    "        print(\"Gear = \",self.gear)\n",
    "    def __str__(self):\n",
    "        return \"Hi i am {}\".format(self.name)\n",
    "    "
   ]
  },
  {
   "cell_type": "code",
   "execution_count": 4,
   "metadata": {
    "collapsed": true
   },
   "outputs": [],
   "source": [
    "obj = NewCar(\"a\",2017,\"b\",\"c\",20,2)"
   ]
  },
  {
   "cell_type": "code",
   "execution_count": null,
   "metadata": {
    "collapsed": true
   },
   "outputs": [],
   "source": []
  }
 ],
 "metadata": {
  "kernelspec": {
   "display_name": "Python 3",
   "language": "python",
   "name": "python3"
  },
  "language_info": {
   "codemirror_mode": {
    "name": "ipython",
    "version": 3
   },
   "file_extension": ".py",
   "mimetype": "text/x-python",
   "name": "python",
   "nbconvert_exporter": "python",
   "pygments_lexer": "ipython3",
   "version": "3.6.3"
  }
 },
 "nbformat": 4,
 "nbformat_minor": 2
}
