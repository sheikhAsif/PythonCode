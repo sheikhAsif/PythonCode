{
 "cells": [
  {
   "cell_type": "code",
   "execution_count": 4,
   "metadata": {},
   "outputs": [
    {
     "name": "stdout",
     "output_type": "stream",
     "text": [
      "How many numbers you have to enter :2\n",
      "Enter a number 1 : 1\n",
      "Enter a number 2 : 2\n",
      "[1, 2]\n"
     ]
    }
   ],
   "source": [
    "l = []\n",
    "c = 1\n",
    "n = int(input(\"How many numbers you have to enter :\"))\n",
    "while c <= n:\n",
    "    no = int(input(\"Enter a number {} : \".format(c)))\n",
    "    l.append(no)\n",
    "    c = c + 1\n",
    "print(l)"
   ]
  },
  {
   "cell_type": "code",
   "execution_count": 3,
   "metadata": {},
   "outputs": [
    {
     "name": "stdout",
     "output_type": "stream",
     "text": [
      "<zip object at 0x00000165D2EFB148>\n",
      "(1, 1) (2, 2) (3, 3)\n"
     ]
    }
   ],
   "source": [
    "mylist1 = [1,2,3]\n",
    "mylist2 = [1,2,3]\n",
    "k = zip(mylist1,mylist2)  # pack \n",
    "print(k)\n",
    "print(*k)"
   ]
  },
  {
   "cell_type": "code",
   "execution_count": null,
   "metadata": {
    "collapsed": true
   },
   "outputs": [],
   "source": []
  }
 ],
 "metadata": {
  "kernelspec": {
   "display_name": "Python 3",
   "language": "python",
   "name": "python3"
  },
  "language_info": {
   "codemirror_mode": {
    "name": "ipython",
    "version": 3
   },
   "file_extension": ".py",
   "mimetype": "text/x-python",
   "name": "python",
   "nbconvert_exporter": "python",
   "pygments_lexer": "ipython3",
   "version": "3.6.3"
  }
 },
 "nbformat": 4,
 "nbformat_minor": 2
}
