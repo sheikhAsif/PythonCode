{
 "cells": [
  {
   "cell_type": "code",
   "execution_count": 9,
   "metadata": {},
   "outputs": [
    {
     "name": "stdout",
     "output_type": "stream",
     "text": [
      "Enter number of steps : 6\n",
      "Enter direction in which you want to go ('N','E','W','S') : e\n",
      "Enter direction in which you want to go ('N','E','W','S') : w\n",
      "Enter direction in which you want to go ('N','E','W','S') : e\n",
      "Enter direction in which you want to go ('N','E','W','S') : e\n",
      "Enter direction in which you want to go ('N','E','W','S') : e\n",
      "Enter direction in which you want to go ('N','E','W','S') : e\n",
      "x-axis : 4 y-axis : 0\n",
      "Distance :  4  units\n"
     ]
    }
   ],
   "source": [
    "import math\n",
    "directions = ['n','e','w','s']\n",
    "steps = int(input(\"Enter number of steps : \"))\n",
    "x=0\n",
    "y=0\n",
    "for i in range(steps):\n",
    "    drnt = input(\"Enter direction in which you want to go ('N','E','W','S') : \").strip().lower()\n",
    "    if drnt == 'e':\n",
    "        x = x + 1\n",
    "    elif drnt == 'w':\n",
    "        x = x - 1\n",
    "    elif drnt == 'n':\n",
    "        y = y + 1\n",
    "    elif drnt == 's':\n",
    "        y = y - 1\n",
    "    else :\n",
    "        print(\"Invalid input!!!\")\n",
    "print('x-axis :',x,'y-axis :',y)\n",
    "dis = abs(x) + abs(y)\n",
    "print('Distance : ',dis,' units')\n"
   ]
  },
  {
   "cell_type": "code",
   "execution_count": 7,
   "metadata": {},
   "outputs": [
    {
     "name": "stdout",
     "output_type": "stream",
     "text": [
      "Enter number of steps : 5\n",
      "x-axis : -1 y-axis : 2\n",
      "Distance :  3  units\n"
     ]
    }
   ],
   "source": [
    "import math\n",
    "from random import choice\n",
    "directions = ['n','e','w','s']\n",
    "steps = int(input(\"Enter number of steps : \"))\n",
    "x=0\n",
    "y=0\n",
    "for i in range(steps):\n",
    "    drnt = choice(directions)\n",
    "    if drnt == 'e':\n",
    "        x = x + 1\n",
    "    elif drnt == 'w':\n",
    "        x = x - 1\n",
    "    elif drnt == 'n':\n",
    "        y = y + 1\n",
    "    elif drnt == 's':\n",
    "        y = y - 1\n",
    "    else :\n",
    "        print(\"Invalid input!!!\")\n",
    "dis = abs(x) + abs(y)\n",
    "print('x-axis :',x,'y-axis :',y)\n",
    "print('Distance : ',dis,' units')"
   ]
  },
  {
   "cell_type": "code",
   "execution_count": null,
   "metadata": {
    "collapsed": true
   },
   "outputs": [],
   "source": []
  }
 ],
 "metadata": {
  "kernelspec": {
   "display_name": "Python 3",
   "language": "python",
   "name": "python3"
  },
  "language_info": {
   "codemirror_mode": {
    "name": "ipython",
    "version": 3
   },
   "file_extension": ".py",
   "mimetype": "text/x-python",
   "name": "python",
   "nbconvert_exporter": "python",
   "pygments_lexer": "ipython3",
   "version": "3.6.3"
  }
 },
 "nbformat": 4,
 "nbformat_minor": 2
}
